{
 "cells": [
  {
   "cell_type": "code",
   "execution_count": 1,
   "id": "2f463957",
   "metadata": {
    "_cell_guid": "b1076dfc-b9ad-4769-8c92-a6c4dae69d19",
    "_uuid": "8f2839f25d086af736a60e9eeb907d3b93b6e0e5",
    "execution": {
     "iopub.execute_input": "2022-05-20T13:24:04.281874Z",
     "iopub.status.busy": "2022-05-20T13:24:04.281491Z",
     "iopub.status.idle": "2022-05-20T13:24:04.297010Z",
     "shell.execute_reply": "2022-05-20T13:24:04.295727Z"
    },
    "papermill": {
     "duration": 0.041633,
     "end_time": "2022-05-20T13:24:04.302092",
     "exception": false,
     "start_time": "2022-05-20T13:24:04.260459",
     "status": "completed"
    },
    "tags": []
   },
   "outputs": [
    {
     "name": "stdout",
     "output_type": "stream",
     "text": [
      "/kaggle/input/wine-reviews/winemag-data_first150k.csv\n",
      "/kaggle/input/wine-reviews/winemag-data-130k-v2.json\n",
      "/kaggle/input/wine-reviews/winemag-data-130k-v2.csv\n"
     ]
    }
   ],
   "source": [
    "# This Python 3 environment comes with many helpful analytics libraries installed\n",
    "# It is defined by the kaggle/python Docker image: https://github.com/kaggle/docker-python\n",
    "# For example, here's several helpful packages to load\n",
    "\n",
    "import numpy as np # linear algebra\n",
    "import pandas as pd # data processing, CSV file I/O (e.g. pd.read_csv)\n",
    "\n",
    "# Input data files are available in the read-only \"../input/\" directory\n",
    "# For example, running this (by clicking run or pressing Shift+Enter) will list all files under the input directory\n",
    "\n",
    "import os\n",
    "for dirname, _, filenames in os.walk('/kaggle/input'):\n",
    "    for filename in filenames:\n",
    "        print(os.path.join(dirname, filename))\n",
    "\n",
    "# You can write up to 20GB to the current directory (/kaggle/working/) that gets preserved as output when you create a version using \"Save & Run All\" \n",
    "# You can also write temporary files to /kaggle/temp/, but they won't be saved outside of the current session"
   ]
  },
  {
   "cell_type": "code",
   "execution_count": 2,
   "id": "8872c948",
   "metadata": {
    "execution": {
     "iopub.execute_input": "2022-05-20T13:24:04.361366Z",
     "iopub.status.busy": "2022-05-20T13:24:04.361134Z",
     "iopub.status.idle": "2022-05-20T13:24:04.364844Z",
     "shell.execute_reply": "2022-05-20T13:24:04.364052Z"
    },
    "papermill": {
     "duration": 0.03536,
     "end_time": "2022-05-20T13:24:04.367440",
     "exception": false,
     "start_time": "2022-05-20T13:24:04.332080",
     "status": "completed"
    },
    "tags": []
   },
   "outputs": [
    {
     "name": "stdout",
     "output_type": "stream",
     "text": [
      "\n",
      "Creating data\n",
      "-------------\n",
      "\n",
      "There are two core objects in pandas: the DataFrame and the Series.\n",
      "\n",
      "A DataFrame is a table\n",
      "----------------------\n",
      "It contains an array of individual entries, each of which has a certain value. \n",
      "Each entry corresponds to a row (or record) and a column.\n",
      "\n",
      "\n"
     ]
    }
   ],
   "source": [
    "print('''\n",
    "Creating data\n",
    "-------------\n",
    "\n",
    "There are two core objects in pandas: the DataFrame and the Series.\n",
    "\n",
    "A DataFrame is a table\n",
    "----------------------\n",
    "It contains an array of individual entries, each of which has a certain value. \n",
    "Each entry corresponds to a row (or record) and a column.\n",
    "\n",
    "''')"
   ]
  },
  {
   "cell_type": "code",
   "execution_count": 3,
   "id": "89440999",
   "metadata": {
    "execution": {
     "iopub.execute_input": "2022-05-20T13:24:04.425094Z",
     "iopub.status.busy": "2022-05-20T13:24:04.424572Z",
     "iopub.status.idle": "2022-05-20T13:24:04.450673Z",
     "shell.execute_reply": "2022-05-20T13:24:04.449052Z"
    },
    "papermill": {
     "duration": 0.056916,
     "end_time": "2022-05-20T13:24:04.452788",
     "exception": false,
     "start_time": "2022-05-20T13:24:04.395872",
     "status": "completed"
    },
    "tags": []
   },
   "outputs": [
    {
     "name": "stdout",
     "output_type": "stream",
     "text": [
      "\n",
      "In this example, the \"0, No\" entry has the value of 131. \n",
      "The \"0, Yes\" entry has a value of 50, and so on.\n",
      "********************************************************\n",
      "pd.DataFrame({'Yes': [50, 21], 'No': [131, 2]})\n",
      "********************************************************\n",
      "\n"
     ]
    },
    {
     "data": {
      "text/html": [
       "<div>\n",
       "<style scoped>\n",
       "    .dataframe tbody tr th:only-of-type {\n",
       "        vertical-align: middle;\n",
       "    }\n",
       "\n",
       "    .dataframe tbody tr th {\n",
       "        vertical-align: top;\n",
       "    }\n",
       "\n",
       "    .dataframe thead th {\n",
       "        text-align: right;\n",
       "    }\n",
       "</style>\n",
       "<table border=\"1\" class=\"dataframe\">\n",
       "  <thead>\n",
       "    <tr style=\"text-align: right;\">\n",
       "      <th></th>\n",
       "      <th>Yes</th>\n",
       "      <th>No</th>\n",
       "    </tr>\n",
       "  </thead>\n",
       "  <tbody>\n",
       "    <tr>\n",
       "      <th>0</th>\n",
       "      <td>50</td>\n",
       "      <td>131</td>\n",
       "    </tr>\n",
       "    <tr>\n",
       "      <th>1</th>\n",
       "      <td>21</td>\n",
       "      <td>2</td>\n",
       "    </tr>\n",
       "  </tbody>\n",
       "</table>\n",
       "</div>"
      ],
      "text/plain": [
       "   Yes   No\n",
       "0   50  131\n",
       "1   21    2"
      ]
     },
     "execution_count": 3,
     "metadata": {},
     "output_type": "execute_result"
    }
   ],
   "source": [
    "print('''\n",
    "In this example, the \"0, No\" entry has the value of 131. \n",
    "The \"0, Yes\" entry has a value of 50, and so on.\n",
    "********************************************************\n",
    "pd.DataFrame({'Yes': [50, 21], 'No': [131, 2]})\n",
    "********************************************************\n",
    "''')\n",
    "\n",
    "pd.DataFrame({'Yes': [50, 21], 'No': [131, 2]})"
   ]
  },
  {
   "cell_type": "code",
   "execution_count": 4,
   "id": "be670acc",
   "metadata": {
    "execution": {
     "iopub.execute_input": "2022-05-20T13:24:04.514970Z",
     "iopub.status.busy": "2022-05-20T13:24:04.514733Z",
     "iopub.status.idle": "2022-05-20T13:24:04.527986Z",
     "shell.execute_reply": "2022-05-20T13:24:04.526819Z"
    },
    "papermill": {
     "duration": 0.047537,
     "end_time": "2022-05-20T13:24:04.530251",
     "exception": false,
     "start_time": "2022-05-20T13:24:04.482714",
     "status": "completed"
    },
    "tags": []
   },
   "outputs": [
    {
     "name": "stdout",
     "output_type": "stream",
     "text": [
      "\n",
      "DataFrame entries are not limited to integers. \n",
      "For instance, here's a DataFrame whose values are strings:\n",
      "******************************************************************************************\n",
      "pd.DataFrame({'Bob': ['I liked it.', 'It was awful.'], 'Sue': ['Pretty good.', 'Bland.']})\n",
      "******************************************************************************************\n",
      "\n"
     ]
    },
    {
     "data": {
      "text/html": [
       "<div>\n",
       "<style scoped>\n",
       "    .dataframe tbody tr th:only-of-type {\n",
       "        vertical-align: middle;\n",
       "    }\n",
       "\n",
       "    .dataframe tbody tr th {\n",
       "        vertical-align: top;\n",
       "    }\n",
       "\n",
       "    .dataframe thead th {\n",
       "        text-align: right;\n",
       "    }\n",
       "</style>\n",
       "<table border=\"1\" class=\"dataframe\">\n",
       "  <thead>\n",
       "    <tr style=\"text-align: right;\">\n",
       "      <th></th>\n",
       "      <th>Bob</th>\n",
       "      <th>Sue</th>\n",
       "    </tr>\n",
       "  </thead>\n",
       "  <tbody>\n",
       "    <tr>\n",
       "      <th>0</th>\n",
       "      <td>I liked it.</td>\n",
       "      <td>Pretty good.</td>\n",
       "    </tr>\n",
       "    <tr>\n",
       "      <th>1</th>\n",
       "      <td>It was awful.</td>\n",
       "      <td>Bland.</td>\n",
       "    </tr>\n",
       "  </tbody>\n",
       "</table>\n",
       "</div>"
      ],
      "text/plain": [
       "             Bob           Sue\n",
       "0    I liked it.  Pretty good.\n",
       "1  It was awful.        Bland."
      ]
     },
     "execution_count": 4,
     "metadata": {},
     "output_type": "execute_result"
    }
   ],
   "source": [
    "print('''\n",
    "DataFrame entries are not limited to integers. \n",
    "For instance, here's a DataFrame whose values are strings:\n",
    "******************************************************************************************\n",
    "pd.DataFrame({'Bob': ['I liked it.', 'It was awful.'], 'Sue': ['Pretty good.', 'Bland.']})\n",
    "******************************************************************************************\n",
    "''')\n",
    "\n",
    "pd.DataFrame({'Bob': ['I liked it.', 'It was awful.'], 'Sue': ['Pretty good.', 'Bland.']})"
   ]
  },
  {
   "cell_type": "code",
   "execution_count": 5,
   "id": "720e02ee",
   "metadata": {
    "execution": {
     "iopub.execute_input": "2022-05-20T13:24:04.591648Z",
     "iopub.status.busy": "2022-05-20T13:24:04.591342Z",
     "iopub.status.idle": "2022-05-20T13:24:04.602434Z",
     "shell.execute_reply": "2022-05-20T13:24:04.601836Z"
    },
    "papermill": {
     "duration": 0.045093,
     "end_time": "2022-05-20T13:24:04.605183",
     "exception": false,
     "start_time": "2022-05-20T13:24:04.560090",
     "status": "completed"
    },
    "tags": []
   },
   "outputs": [
    {
     "name": "stdout",
     "output_type": "stream",
     "text": [
      "\n",
      "The list of row labels used in a DataFrame is known as an Index. \n",
      "We can assign values to it by using an index parameter in our constructor:\n",
      "*********************************************************************************************\n",
      "pd.DataFrame({'Bob': ['I liked it.', 'It was awful.'], \n",
      "              'Sue': ['Pretty good.', 'Bland.']},\n",
      "             index=['Product A', 'Product B'])\n",
      "*********************************************************************************************\n",
      "\n"
     ]
    },
    {
     "data": {
      "text/html": [
       "<div>\n",
       "<style scoped>\n",
       "    .dataframe tbody tr th:only-of-type {\n",
       "        vertical-align: middle;\n",
       "    }\n",
       "\n",
       "    .dataframe tbody tr th {\n",
       "        vertical-align: top;\n",
       "    }\n",
       "\n",
       "    .dataframe thead th {\n",
       "        text-align: right;\n",
       "    }\n",
       "</style>\n",
       "<table border=\"1\" class=\"dataframe\">\n",
       "  <thead>\n",
       "    <tr style=\"text-align: right;\">\n",
       "      <th></th>\n",
       "      <th>Bob</th>\n",
       "      <th>Sue</th>\n",
       "    </tr>\n",
       "  </thead>\n",
       "  <tbody>\n",
       "    <tr>\n",
       "      <th>Product A</th>\n",
       "      <td>I liked it.</td>\n",
       "      <td>Pretty good.</td>\n",
       "    </tr>\n",
       "    <tr>\n",
       "      <th>Product B</th>\n",
       "      <td>It was awful.</td>\n",
       "      <td>Bland.</td>\n",
       "    </tr>\n",
       "  </tbody>\n",
       "</table>\n",
       "</div>"
      ],
      "text/plain": [
       "                     Bob           Sue\n",
       "Product A    I liked it.  Pretty good.\n",
       "Product B  It was awful.        Bland."
      ]
     },
     "execution_count": 5,
     "metadata": {},
     "output_type": "execute_result"
    }
   ],
   "source": [
    "print('''\n",
    "The list of row labels used in a DataFrame is known as an Index. \n",
    "We can assign values to it by using an index parameter in our constructor:\n",
    "*********************************************************************************************\n",
    "pd.DataFrame({'Bob': ['I liked it.', 'It was awful.'], \n",
    "              'Sue': ['Pretty good.', 'Bland.']},\n",
    "             index=['Product A', 'Product B'])\n",
    "*********************************************************************************************\n",
    "''')\n",
    "\n",
    "pd.DataFrame({'Bob': ['I liked it.', 'It was awful.'], \n",
    "              'Sue': ['Pretty good.', 'Bland.']},\n",
    "             index=['Product A', 'Product B'])"
   ]
  },
  {
   "cell_type": "code",
   "execution_count": 6,
   "id": "69e9a7c8",
   "metadata": {
    "execution": {
     "iopub.execute_input": "2022-05-20T13:24:04.670838Z",
     "iopub.status.busy": "2022-05-20T13:24:04.670488Z",
     "iopub.status.idle": "2022-05-20T13:24:04.682620Z",
     "shell.execute_reply": "2022-05-20T13:24:04.680183Z"
    },
    "papermill": {
     "duration": 0.048319,
     "end_time": "2022-05-20T13:24:04.685459",
     "exception": false,
     "start_time": "2022-05-20T13:24:04.637140",
     "status": "completed"
    },
    "tags": []
   },
   "outputs": [
    {
     "name": "stdout",
     "output_type": "stream",
     "text": [
      "\n",
      "------\n",
      "Series\n",
      "------\n",
      "\n",
      "A Series, by contrast, is a sequence of data values. \n",
      "If a DataFrame is a table, a Series is a list. \n",
      "And in fact you can create one with nothing more than a list.\n",
      "*************************************************************\n",
      "pd.Series([1, 2, 3, 4, 5])\n",
      "*************************************************************\n",
      "\n",
      "\n"
     ]
    },
    {
     "data": {
      "text/plain": [
       "0    1\n",
       "1    2\n",
       "2    3\n",
       "3    4\n",
       "4    5\n",
       "dtype: int64"
      ]
     },
     "execution_count": 6,
     "metadata": {},
     "output_type": "execute_result"
    }
   ],
   "source": [
    "print('''\n",
    "------\n",
    "Series\n",
    "------\n",
    "\n",
    "A Series, by contrast, is a sequence of data values. \n",
    "If a DataFrame is a table, a Series is a list. \n",
    "And in fact you can create one with nothing more than a list.\n",
    "*************************************************************\n",
    "pd.Series([1, 2, 3, 4, 5])\n",
    "*************************************************************\n",
    "\n",
    "''')\n",
    "pd.Series([1, 2, 3, 4, 5])"
   ]
  },
  {
   "cell_type": "code",
   "execution_count": 7,
   "id": "c4e92317",
   "metadata": {
    "execution": {
     "iopub.execute_input": "2022-05-20T13:24:04.752018Z",
     "iopub.status.busy": "2022-05-20T13:24:04.751759Z",
     "iopub.status.idle": "2022-05-20T13:24:04.760216Z",
     "shell.execute_reply": "2022-05-20T13:24:04.759543Z"
    },
    "papermill": {
     "duration": 0.044379,
     "end_time": "2022-05-20T13:24:04.762942",
     "exception": false,
     "start_time": "2022-05-20T13:24:04.718563",
     "status": "completed"
    },
    "tags": []
   },
   "outputs": [
    {
     "name": "stdout",
     "output_type": "stream",
     "text": [
      "\n",
      "A Series is, in essence, a single column of a DataFrame. \n",
      "So you can assign row labels to the Series the same way as before, using an index parameter. \n",
      "However, a Series does not have a column name, it only has one overall name:\n",
      "********************************************************************************************\n",
      "pd.Series([30, 35, 40], index=['2015 Sales', '2016 Sales', '2017 Sales'], name='Product A')\n",
      "********************************************************************************************\n",
      "\n"
     ]
    },
    {
     "data": {
      "text/plain": [
       "2015 Sales    30\n",
       "2016 Sales    35\n",
       "2017 Sales    40\n",
       "Name: Product A, dtype: int64"
      ]
     },
     "execution_count": 7,
     "metadata": {},
     "output_type": "execute_result"
    }
   ],
   "source": [
    "print('''\n",
    "A Series is, in essence, a single column of a DataFrame. \n",
    "So you can assign row labels to the Series the same way as before, using an index parameter. \n",
    "However, a Series does not have a column name, it only has one overall name:\n",
    "********************************************************************************************\n",
    "pd.Series([30, 35, 40], index=['2015 Sales', '2016 Sales', '2017 Sales'], name='Product A')\n",
    "********************************************************************************************\n",
    "''')\n",
    "\n",
    "pd.Series([30, 35, 40], index=['2015 Sales', '2016 Sales', '2017 Sales'], name='Product A')"
   ]
  },
  {
   "cell_type": "code",
   "execution_count": 8,
   "id": "6fc013a0",
   "metadata": {
    "execution": {
     "iopub.execute_input": "2022-05-20T13:24:04.832890Z",
     "iopub.status.busy": "2022-05-20T13:24:04.832653Z",
     "iopub.status.idle": "2022-05-20T13:24:04.836451Z",
     "shell.execute_reply": "2022-05-20T13:24:04.835729Z"
    },
    "papermill": {
     "duration": 0.041458,
     "end_time": "2022-05-20T13:24:04.839003",
     "exception": false,
     "start_time": "2022-05-20T13:24:04.797545",
     "status": "completed"
    },
    "tags": []
   },
   "outputs": [
    {
     "name": "stdout",
     "output_type": "stream",
     "text": [
      "\n",
      "The Series and the DataFrame are intimately related. \n",
      "It's helpful to think of a DataFrame as actually being just a bunch of Series \"glued together\". \n",
      "We'll see more of this in the next section of this tutorial.\n",
      "\n"
     ]
    }
   ],
   "source": [
    "print(\n",
    "'''\n",
    "The Series and the DataFrame are intimately related. \n",
    "It's helpful to think of a DataFrame as actually being just a bunch of Series \"glued together\". \n",
    "We'll see more of this in the next section of this tutorial.\n",
    "'''\n",
    ")"
   ]
  },
  {
   "cell_type": "code",
   "execution_count": 9,
   "id": "86b016db",
   "metadata": {
    "execution": {
     "iopub.execute_input": "2022-05-20T13:24:04.911272Z",
     "iopub.status.busy": "2022-05-20T13:24:04.911009Z",
     "iopub.status.idle": "2022-05-20T13:24:04.917045Z",
     "shell.execute_reply": "2022-05-20T13:24:04.915963Z"
    },
    "papermill": {
     "duration": 0.044489,
     "end_time": "2022-05-20T13:24:04.919800",
     "exception": false,
     "start_time": "2022-05-20T13:24:04.875311",
     "status": "completed"
    },
    "tags": []
   },
   "outputs": [
    {
     "name": "stdout",
     "output_type": "stream",
     "text": [
      "\n",
      "\n",
      "Reading data files\n",
      "-------------------\n",
      "Being able to create a DataFrame or Series by hand is handy. \n",
      "But, most of the time, we won't actually be creating our own data by hand. \n",
      "Instead, we'll be working with data that already exists.\n",
      "\n",
      "Data can be stored in any of a number of different forms and formats. \n",
      "By far the most basic of these is the humble CSV file. \n",
      "When you open a CSV file you get something that looks like this:\n",
      "\n",
      "Product A,Product B,Product C,\n",
      "30,21,9,\n",
      "35,34,1,\n",
      "41,11,11\n",
      "\n",
      "So a CSV file is a table of values separated by commas. Hence the name: \"Comma-Separated Values\", or CSV.\n",
      "\n",
      "Let's now set aside our toy datasets and see what a real dataset looks like when we read it into a DataFrame. \n",
      "We'll use the pd.read_csv() function to read the data into a DataFrame. This goes thusly:\n",
      "\n",
      "\n"
     ]
    }
   ],
   "source": [
    "print('''\n",
    "\n",
    "Reading data files\n",
    "-------------------\n",
    "Being able to create a DataFrame or Series by hand is handy. \n",
    "But, most of the time, we won't actually be creating our own data by hand. \n",
    "Instead, we'll be working with data that already exists.\n",
    "\n",
    "Data can be stored in any of a number of different forms and formats. \n",
    "By far the most basic of these is the humble CSV file. \n",
    "When you open a CSV file you get something that looks like this:\n",
    "\n",
    "Product A,Product B,Product C,\n",
    "30,21,9,\n",
    "35,34,1,\n",
    "41,11,11\n",
    "\n",
    "So a CSV file is a table of values separated by commas. Hence the name: \"Comma-Separated Values\", or CSV.\n",
    "\n",
    "Let's now set aside our toy datasets and see what a real dataset looks like when we read it into a DataFrame. \n",
    "We'll use the pd.read_csv() function to read the data into a DataFrame. This goes thusly:\n",
    "\n",
    "''')"
   ]
  },
  {
   "cell_type": "code",
   "execution_count": 10,
   "id": "076b4260",
   "metadata": {
    "execution": {
     "iopub.execute_input": "2022-05-20T13:24:04.989798Z",
     "iopub.status.busy": "2022-05-20T13:24:04.989532Z",
     "iopub.status.idle": "2022-05-20T13:24:07.119889Z",
     "shell.execute_reply": "2022-05-20T13:24:07.118565Z"
    },
    "papermill": {
     "duration": 2.167922,
     "end_time": "2022-05-20T13:24:07.122133",
     "exception": false,
     "start_time": "2022-05-20T13:24:04.954211",
     "status": "completed"
    },
    "tags": []
   },
   "outputs": [],
   "source": [
    "# wine_reviews: this the variable in which we have loaded the whole dataset.\n",
    "wine_reviews = pd.read_csv(\"../input/wine-reviews/winemag-data-130k-v2.csv\")"
   ]
  },
  {
   "cell_type": "code",
   "execution_count": 11,
   "id": "831b3c6d",
   "metadata": {
    "execution": {
     "iopub.execute_input": "2022-05-20T13:24:07.171705Z",
     "iopub.status.busy": "2022-05-20T13:24:07.171411Z",
     "iopub.status.idle": "2022-05-20T13:24:07.179438Z",
     "shell.execute_reply": "2022-05-20T13:24:07.178043Z"
    },
    "papermill": {
     "duration": 0.037744,
     "end_time": "2022-05-20T13:24:07.183388",
     "exception": false,
     "start_time": "2022-05-20T13:24:07.145644",
     "status": "completed"
    },
    "tags": []
   },
   "outputs": [
    {
     "name": "stdout",
     "output_type": "stream",
     "text": [
      "\n",
      "We can use the shape attribute to check how large the resulting DataFrame is:\n",
      "wine_reviews.shape\n",
      "It will print data rows and columns in the data frame loaded in to pd\n",
      "wine_reviews.shape\n",
      "\n"
     ]
    },
    {
     "data": {
      "text/plain": [
       "(129971, 14)"
      ]
     },
     "execution_count": 11,
     "metadata": {},
     "output_type": "execute_result"
    }
   ],
   "source": [
    "print('''\n",
    "We can use the shape attribute to check how large the resulting DataFrame is:\n",
    "wine_reviews.shape\n",
    "It will print data rows and columns in the data frame loaded in to pd\n",
    "wine_reviews.shape\n",
    "''')\n",
    "wine_reviews.shape\n"
   ]
  },
  {
   "cell_type": "code",
   "execution_count": 12,
   "id": "2652c9de",
   "metadata": {
    "execution": {
     "iopub.execute_input": "2022-05-20T13:24:07.256992Z",
     "iopub.status.busy": "2022-05-20T13:24:07.255549Z",
     "iopub.status.idle": "2022-05-20T13:24:07.261136Z",
     "shell.execute_reply": "2022-05-20T13:24:07.259842Z"
    },
    "papermill": {
     "duration": 0.044699,
     "end_time": "2022-05-20T13:24:07.263993",
     "exception": false,
     "start_time": "2022-05-20T13:24:07.219294",
     "status": "completed"
    },
    "tags": []
   },
   "outputs": [
    {
     "name": "stdout",
     "output_type": "stream",
     "text": [
      "\n",
      "So our new DataFrame has 130,000 records split across 14 different columns. \n",
      "That's almost 2 million entries!\n",
      "We can examine the contents of the resultant DataFrame using the head() command, which grabs the first five rows:\n",
      "\n"
     ]
    }
   ],
   "source": [
    "print('''\n",
    "So our new DataFrame has 130,000 records split across 14 different columns. \n",
    "That's almost 2 million entries!\n",
    "We can examine the contents of the resultant DataFrame using the head() command, which grabs the first five rows:\n",
    "''')\n"
   ]
  },
  {
   "cell_type": "code",
   "execution_count": 13,
   "id": "d8850cf3",
   "metadata": {
    "execution": {
     "iopub.execute_input": "2022-05-20T13:24:07.313220Z",
     "iopub.status.busy": "2022-05-20T13:24:07.312939Z",
     "iopub.status.idle": "2022-05-20T13:24:07.335271Z",
     "shell.execute_reply": "2022-05-20T13:24:07.333611Z"
    },
    "papermill": {
     "duration": 0.049801,
     "end_time": "2022-05-20T13:24:07.338166",
     "exception": false,
     "start_time": "2022-05-20T13:24:07.288365",
     "status": "completed"
    },
    "tags": []
   },
   "outputs": [
    {
     "data": {
      "text/html": [
       "<div>\n",
       "<style scoped>\n",
       "    .dataframe tbody tr th:only-of-type {\n",
       "        vertical-align: middle;\n",
       "    }\n",
       "\n",
       "    .dataframe tbody tr th {\n",
       "        vertical-align: top;\n",
       "    }\n",
       "\n",
       "    .dataframe thead th {\n",
       "        text-align: right;\n",
       "    }\n",
       "</style>\n",
       "<table border=\"1\" class=\"dataframe\">\n",
       "  <thead>\n",
       "    <tr style=\"text-align: right;\">\n",
       "      <th></th>\n",
       "      <th>Unnamed: 0</th>\n",
       "      <th>country</th>\n",
       "      <th>description</th>\n",
       "      <th>designation</th>\n",
       "      <th>points</th>\n",
       "      <th>price</th>\n",
       "      <th>province</th>\n",
       "      <th>region_1</th>\n",
       "      <th>region_2</th>\n",
       "      <th>taster_name</th>\n",
       "      <th>taster_twitter_handle</th>\n",
       "      <th>title</th>\n",
       "      <th>variety</th>\n",
       "      <th>winery</th>\n",
       "    </tr>\n",
       "  </thead>\n",
       "  <tbody>\n",
       "    <tr>\n",
       "      <th>0</th>\n",
       "      <td>0</td>\n",
       "      <td>Italy</td>\n",
       "      <td>Aromas include tropical fruit, broom, brimston...</td>\n",
       "      <td>Vulkà Bianco</td>\n",
       "      <td>87</td>\n",
       "      <td>NaN</td>\n",
       "      <td>Sicily &amp; Sardinia</td>\n",
       "      <td>Etna</td>\n",
       "      <td>NaN</td>\n",
       "      <td>Kerin O’Keefe</td>\n",
       "      <td>@kerinokeefe</td>\n",
       "      <td>Nicosia 2013 Vulkà Bianco  (Etna)</td>\n",
       "      <td>White Blend</td>\n",
       "      <td>Nicosia</td>\n",
       "    </tr>\n",
       "    <tr>\n",
       "      <th>1</th>\n",
       "      <td>1</td>\n",
       "      <td>Portugal</td>\n",
       "      <td>This is ripe and fruity, a wine that is smooth...</td>\n",
       "      <td>Avidagos</td>\n",
       "      <td>87</td>\n",
       "      <td>15.0</td>\n",
       "      <td>Douro</td>\n",
       "      <td>NaN</td>\n",
       "      <td>NaN</td>\n",
       "      <td>Roger Voss</td>\n",
       "      <td>@vossroger</td>\n",
       "      <td>Quinta dos Avidagos 2011 Avidagos Red (Douro)</td>\n",
       "      <td>Portuguese Red</td>\n",
       "      <td>Quinta dos Avidagos</td>\n",
       "    </tr>\n",
       "    <tr>\n",
       "      <th>2</th>\n",
       "      <td>2</td>\n",
       "      <td>US</td>\n",
       "      <td>Tart and snappy, the flavors of lime flesh and...</td>\n",
       "      <td>NaN</td>\n",
       "      <td>87</td>\n",
       "      <td>14.0</td>\n",
       "      <td>Oregon</td>\n",
       "      <td>Willamette Valley</td>\n",
       "      <td>Willamette Valley</td>\n",
       "      <td>Paul Gregutt</td>\n",
       "      <td>@paulgwine</td>\n",
       "      <td>Rainstorm 2013 Pinot Gris (Willamette Valley)</td>\n",
       "      <td>Pinot Gris</td>\n",
       "      <td>Rainstorm</td>\n",
       "    </tr>\n",
       "    <tr>\n",
       "      <th>3</th>\n",
       "      <td>3</td>\n",
       "      <td>US</td>\n",
       "      <td>Pineapple rind, lemon pith and orange blossom ...</td>\n",
       "      <td>Reserve Late Harvest</td>\n",
       "      <td>87</td>\n",
       "      <td>13.0</td>\n",
       "      <td>Michigan</td>\n",
       "      <td>Lake Michigan Shore</td>\n",
       "      <td>NaN</td>\n",
       "      <td>Alexander Peartree</td>\n",
       "      <td>NaN</td>\n",
       "      <td>St. Julian 2013 Reserve Late Harvest Riesling ...</td>\n",
       "      <td>Riesling</td>\n",
       "      <td>St. Julian</td>\n",
       "    </tr>\n",
       "    <tr>\n",
       "      <th>4</th>\n",
       "      <td>4</td>\n",
       "      <td>US</td>\n",
       "      <td>Much like the regular bottling from 2012, this...</td>\n",
       "      <td>Vintner's Reserve Wild Child Block</td>\n",
       "      <td>87</td>\n",
       "      <td>65.0</td>\n",
       "      <td>Oregon</td>\n",
       "      <td>Willamette Valley</td>\n",
       "      <td>Willamette Valley</td>\n",
       "      <td>Paul Gregutt</td>\n",
       "      <td>@paulgwine</td>\n",
       "      <td>Sweet Cheeks 2012 Vintner's Reserve Wild Child...</td>\n",
       "      <td>Pinot Noir</td>\n",
       "      <td>Sweet Cheeks</td>\n",
       "    </tr>\n",
       "  </tbody>\n",
       "</table>\n",
       "</div>"
      ],
      "text/plain": [
       "   Unnamed: 0   country                                        description  \\\n",
       "0           0     Italy  Aromas include tropical fruit, broom, brimston...   \n",
       "1           1  Portugal  This is ripe and fruity, a wine that is smooth...   \n",
       "2           2        US  Tart and snappy, the flavors of lime flesh and...   \n",
       "3           3        US  Pineapple rind, lemon pith and orange blossom ...   \n",
       "4           4        US  Much like the regular bottling from 2012, this...   \n",
       "\n",
       "                          designation  points  price           province  \\\n",
       "0                        Vulkà Bianco      87    NaN  Sicily & Sardinia   \n",
       "1                            Avidagos      87   15.0              Douro   \n",
       "2                                 NaN      87   14.0             Oregon   \n",
       "3                Reserve Late Harvest      87   13.0           Michigan   \n",
       "4  Vintner's Reserve Wild Child Block      87   65.0             Oregon   \n",
       "\n",
       "              region_1           region_2         taster_name  \\\n",
       "0                 Etna                NaN       Kerin O’Keefe   \n",
       "1                  NaN                NaN          Roger Voss   \n",
       "2    Willamette Valley  Willamette Valley        Paul Gregutt   \n",
       "3  Lake Michigan Shore                NaN  Alexander Peartree   \n",
       "4    Willamette Valley  Willamette Valley        Paul Gregutt   \n",
       "\n",
       "  taster_twitter_handle                                              title  \\\n",
       "0          @kerinokeefe                  Nicosia 2013 Vulkà Bianco  (Etna)   \n",
       "1            @vossroger      Quinta dos Avidagos 2011 Avidagos Red (Douro)   \n",
       "2           @paulgwine       Rainstorm 2013 Pinot Gris (Willamette Valley)   \n",
       "3                   NaN  St. Julian 2013 Reserve Late Harvest Riesling ...   \n",
       "4           @paulgwine   Sweet Cheeks 2012 Vintner's Reserve Wild Child...   \n",
       "\n",
       "          variety               winery  \n",
       "0     White Blend              Nicosia  \n",
       "1  Portuguese Red  Quinta dos Avidagos  \n",
       "2      Pinot Gris            Rainstorm  \n",
       "3        Riesling           St. Julian  \n",
       "4      Pinot Noir         Sweet Cheeks  "
      ]
     },
     "execution_count": 13,
     "metadata": {},
     "output_type": "execute_result"
    }
   ],
   "source": [
    "wine_reviews.head()"
   ]
  },
  {
   "cell_type": "code",
   "execution_count": 14,
   "id": "774ed1c7",
   "metadata": {
    "execution": {
     "iopub.execute_input": "2022-05-20T13:24:07.416249Z",
     "iopub.status.busy": "2022-05-20T13:24:07.415963Z",
     "iopub.status.idle": "2022-05-20T13:24:08.412098Z",
     "shell.execute_reply": "2022-05-20T13:24:08.410946Z"
    },
    "papermill": {
     "duration": 1.038422,
     "end_time": "2022-05-20T13:24:08.414268",
     "exception": false,
     "start_time": "2022-05-20T13:24:07.375846",
     "status": "completed"
    },
    "tags": []
   },
   "outputs": [
    {
     "name": "stdout",
     "output_type": "stream",
     "text": [
      "\n",
      "The pd.read_csv() function is well-endowed, with over 30 optional parameters you can specify. \n",
      "For example, you can see in this dataset that the CSV file has a built-in index, \n",
      "which pandas did not pick up on automatically. \n",
      "To make pandas use that column for the index (instead of creating a new one from scratch), we can specify an index_col.\n",
      "\n",
      "\n",
      "***********************************************************************************************************************\n",
      "by using index_col=0 the additional column unamed is not loaded into the data as it was when we load the data with\n",
      "\n",
      "\n",
      "wine_reviews = pd.read_csv(\"../input/wine-reviews/winemag-data-130k-v2.csv\")\n",
      "************************************************************************************************************************\n",
      "\n"
     ]
    },
    {
     "data": {
      "text/html": [
       "<div>\n",
       "<style scoped>\n",
       "    .dataframe tbody tr th:only-of-type {\n",
       "        vertical-align: middle;\n",
       "    }\n",
       "\n",
       "    .dataframe tbody tr th {\n",
       "        vertical-align: top;\n",
       "    }\n",
       "\n",
       "    .dataframe thead th {\n",
       "        text-align: right;\n",
       "    }\n",
       "</style>\n",
       "<table border=\"1\" class=\"dataframe\">\n",
       "  <thead>\n",
       "    <tr style=\"text-align: right;\">\n",
       "      <th></th>\n",
       "      <th>country</th>\n",
       "      <th>description</th>\n",
       "      <th>designation</th>\n",
       "      <th>points</th>\n",
       "      <th>price</th>\n",
       "      <th>province</th>\n",
       "      <th>region_1</th>\n",
       "      <th>region_2</th>\n",
       "      <th>taster_name</th>\n",
       "      <th>taster_twitter_handle</th>\n",
       "      <th>title</th>\n",
       "      <th>variety</th>\n",
       "      <th>winery</th>\n",
       "    </tr>\n",
       "  </thead>\n",
       "  <tbody>\n",
       "    <tr>\n",
       "      <th>0</th>\n",
       "      <td>Italy</td>\n",
       "      <td>Aromas include tropical fruit, broom, brimston...</td>\n",
       "      <td>Vulkà Bianco</td>\n",
       "      <td>87</td>\n",
       "      <td>NaN</td>\n",
       "      <td>Sicily &amp; Sardinia</td>\n",
       "      <td>Etna</td>\n",
       "      <td>NaN</td>\n",
       "      <td>Kerin O’Keefe</td>\n",
       "      <td>@kerinokeefe</td>\n",
       "      <td>Nicosia 2013 Vulkà Bianco  (Etna)</td>\n",
       "      <td>White Blend</td>\n",
       "      <td>Nicosia</td>\n",
       "    </tr>\n",
       "    <tr>\n",
       "      <th>1</th>\n",
       "      <td>Portugal</td>\n",
       "      <td>This is ripe and fruity, a wine that is smooth...</td>\n",
       "      <td>Avidagos</td>\n",
       "      <td>87</td>\n",
       "      <td>15.0</td>\n",
       "      <td>Douro</td>\n",
       "      <td>NaN</td>\n",
       "      <td>NaN</td>\n",
       "      <td>Roger Voss</td>\n",
       "      <td>@vossroger</td>\n",
       "      <td>Quinta dos Avidagos 2011 Avidagos Red (Douro)</td>\n",
       "      <td>Portuguese Red</td>\n",
       "      <td>Quinta dos Avidagos</td>\n",
       "    </tr>\n",
       "    <tr>\n",
       "      <th>2</th>\n",
       "      <td>US</td>\n",
       "      <td>Tart and snappy, the flavors of lime flesh and...</td>\n",
       "      <td>NaN</td>\n",
       "      <td>87</td>\n",
       "      <td>14.0</td>\n",
       "      <td>Oregon</td>\n",
       "      <td>Willamette Valley</td>\n",
       "      <td>Willamette Valley</td>\n",
       "      <td>Paul Gregutt</td>\n",
       "      <td>@paulgwine</td>\n",
       "      <td>Rainstorm 2013 Pinot Gris (Willamette Valley)</td>\n",
       "      <td>Pinot Gris</td>\n",
       "      <td>Rainstorm</td>\n",
       "    </tr>\n",
       "    <tr>\n",
       "      <th>3</th>\n",
       "      <td>US</td>\n",
       "      <td>Pineapple rind, lemon pith and orange blossom ...</td>\n",
       "      <td>Reserve Late Harvest</td>\n",
       "      <td>87</td>\n",
       "      <td>13.0</td>\n",
       "      <td>Michigan</td>\n",
       "      <td>Lake Michigan Shore</td>\n",
       "      <td>NaN</td>\n",
       "      <td>Alexander Peartree</td>\n",
       "      <td>NaN</td>\n",
       "      <td>St. Julian 2013 Reserve Late Harvest Riesling ...</td>\n",
       "      <td>Riesling</td>\n",
       "      <td>St. Julian</td>\n",
       "    </tr>\n",
       "    <tr>\n",
       "      <th>4</th>\n",
       "      <td>US</td>\n",
       "      <td>Much like the regular bottling from 2012, this...</td>\n",
       "      <td>Vintner's Reserve Wild Child Block</td>\n",
       "      <td>87</td>\n",
       "      <td>65.0</td>\n",
       "      <td>Oregon</td>\n",
       "      <td>Willamette Valley</td>\n",
       "      <td>Willamette Valley</td>\n",
       "      <td>Paul Gregutt</td>\n",
       "      <td>@paulgwine</td>\n",
       "      <td>Sweet Cheeks 2012 Vintner's Reserve Wild Child...</td>\n",
       "      <td>Pinot Noir</td>\n",
       "      <td>Sweet Cheeks</td>\n",
       "    </tr>\n",
       "  </tbody>\n",
       "</table>\n",
       "</div>"
      ],
      "text/plain": [
       "    country                                        description  \\\n",
       "0     Italy  Aromas include tropical fruit, broom, brimston...   \n",
       "1  Portugal  This is ripe and fruity, a wine that is smooth...   \n",
       "2        US  Tart and snappy, the flavors of lime flesh and...   \n",
       "3        US  Pineapple rind, lemon pith and orange blossom ...   \n",
       "4        US  Much like the regular bottling from 2012, this...   \n",
       "\n",
       "                          designation  points  price           province  \\\n",
       "0                        Vulkà Bianco      87    NaN  Sicily & Sardinia   \n",
       "1                            Avidagos      87   15.0              Douro   \n",
       "2                                 NaN      87   14.0             Oregon   \n",
       "3                Reserve Late Harvest      87   13.0           Michigan   \n",
       "4  Vintner's Reserve Wild Child Block      87   65.0             Oregon   \n",
       "\n",
       "              region_1           region_2         taster_name  \\\n",
       "0                 Etna                NaN       Kerin O’Keefe   \n",
       "1                  NaN                NaN          Roger Voss   \n",
       "2    Willamette Valley  Willamette Valley        Paul Gregutt   \n",
       "3  Lake Michigan Shore                NaN  Alexander Peartree   \n",
       "4    Willamette Valley  Willamette Valley        Paul Gregutt   \n",
       "\n",
       "  taster_twitter_handle                                              title  \\\n",
       "0          @kerinokeefe                  Nicosia 2013 Vulkà Bianco  (Etna)   \n",
       "1            @vossroger      Quinta dos Avidagos 2011 Avidagos Red (Douro)   \n",
       "2           @paulgwine       Rainstorm 2013 Pinot Gris (Willamette Valley)   \n",
       "3                   NaN  St. Julian 2013 Reserve Late Harvest Riesling ...   \n",
       "4           @paulgwine   Sweet Cheeks 2012 Vintner's Reserve Wild Child...   \n",
       "\n",
       "          variety               winery  \n",
       "0     White Blend              Nicosia  \n",
       "1  Portuguese Red  Quinta dos Avidagos  \n",
       "2      Pinot Gris            Rainstorm  \n",
       "3        Riesling           St. Julian  \n",
       "4      Pinot Noir         Sweet Cheeks  "
      ]
     },
     "execution_count": 14,
     "metadata": {},
     "output_type": "execute_result"
    }
   ],
   "source": [
    "print('''\n",
    "The pd.read_csv() function is well-endowed, with over 30 optional parameters you can specify. \n",
    "For example, you can see in this dataset that the CSV file has a built-in index, \n",
    "which pandas did not pick up on automatically. \n",
    "To make pandas use that column for the index (instead of creating a new one from scratch), we can specify an index_col.\n",
    "''')\n",
    "print('''\n",
    "***********************************************************************************************************************\n",
    "by using index_col=0 the additional column unamed is not loaded into the data as it was when we load the data with\n",
    "\n",
    "\n",
    "wine_reviews = pd.read_csv(\"../input/wine-reviews/winemag-data-130k-v2.csv\")\n",
    "************************************************************************************************************************\n",
    "''')\n",
    "\n",
    "\n",
    "wine_reviews = pd.read_csv(\"../input/wine-reviews/winemag-data-130k-v2.csv\", index_col=0)\n",
    "wine_reviews.head()"
   ]
  },
  {
   "cell_type": "code",
   "execution_count": 15,
   "id": "ab00e1cf",
   "metadata": {
    "execution": {
     "iopub.execute_input": "2022-05-20T13:24:08.494217Z",
     "iopub.status.busy": "2022-05-20T13:24:08.493074Z",
     "iopub.status.idle": "2022-05-20T13:24:08.499293Z",
     "shell.execute_reply": "2022-05-20T13:24:08.498652Z"
    },
    "papermill": {
     "duration": 0.048534,
     "end_time": "2022-05-20T13:24:08.501564",
     "exception": false,
     "start_time": "2022-05-20T13:24:08.453030",
     "status": "completed"
    },
    "tags": []
   },
   "outputs": [
    {
     "data": {
      "text/plain": [
       "'#dataframe_name.to_csv(\"file_name.csv\")'"
      ]
     },
     "execution_count": 15,
     "metadata": {},
     "output_type": "execute_result"
    }
   ],
   "source": [
    "'''# you can write output of your dataframe by using the below'''\n",
    "'''#dataframe_name.to_csv(\"file_name.csv\")'''"
   ]
  },
  {
   "cell_type": "code",
   "execution_count": 16,
   "id": "c8d76e9a",
   "metadata": {
    "execution": {
     "iopub.execute_input": "2022-05-20T13:24:08.575158Z",
     "iopub.status.busy": "2022-05-20T13:24:08.574863Z",
     "iopub.status.idle": "2022-05-20T13:24:08.586922Z",
     "shell.execute_reply": "2022-05-20T13:24:08.585679Z"
    },
    "papermill": {
     "duration": 0.047593,
     "end_time": "2022-05-20T13:24:08.589122",
     "exception": false,
     "start_time": "2022-05-20T13:24:08.541529",
     "status": "completed"
    },
    "tags": []
   },
   "outputs": [
    {
     "name": "stdout",
     "output_type": "stream",
     "text": [
      "\n",
      "In Python, we can access the property of an object by accessing it as an attribute. \n",
      "A book object, for example, might have a title property, which we can access by calling book.title. \n",
      "Columns in a pandas DataFrame work in much the same way.\n",
      "Hence to access the country property of reviews we can use:\n",
      "----------------------------------------------------------------------------------------------------\n",
      "wine_reviews.country\n",
      "****************************************************************************************************\n",
      "\n"
     ]
    },
    {
     "data": {
      "text/plain": [
       "0            Italy\n",
       "1         Portugal\n",
       "2               US\n",
       "3               US\n",
       "4               US\n",
       "            ...   \n",
       "129966     Germany\n",
       "129967          US\n",
       "129968      France\n",
       "129969      France\n",
       "129970      France\n",
       "Name: country, Length: 129971, dtype: object"
      ]
     },
     "execution_count": 16,
     "metadata": {},
     "output_type": "execute_result"
    }
   ],
   "source": [
    "print('''\n",
    "In Python, we can access the property of an object by accessing it as an attribute. \n",
    "A book object, for example, might have a title property, which we can access by calling book.title. \n",
    "Columns in a pandas DataFrame work in much the same way.\n",
    "Hence to access the country property of reviews we can use:\n",
    "----------------------------------------------------------------------------------------------------\n",
    "wine_reviews.country\n",
    "****************************************************************************************************\n",
    "''')\n",
    "wine_reviews.country"
   ]
  },
  {
   "cell_type": "code",
   "execution_count": 17,
   "id": "36d35391",
   "metadata": {
    "execution": {
     "iopub.execute_input": "2022-05-20T13:24:08.672520Z",
     "iopub.status.busy": "2022-05-20T13:24:08.672104Z",
     "iopub.status.idle": "2022-05-20T13:24:08.679773Z",
     "shell.execute_reply": "2022-05-20T13:24:08.678972Z"
    },
    "papermill": {
     "duration": 0.054299,
     "end_time": "2022-05-20T13:24:08.684038",
     "exception": false,
     "start_time": "2022-05-20T13:24:08.629739",
     "status": "completed"
    },
    "tags": []
   },
   "outputs": [
    {
     "name": "stdout",
     "output_type": "stream",
     "text": [
      "\n",
      "we can do the same with the following:\n",
      "wine_reviews['country']\n",
      "\n"
     ]
    },
    {
     "data": {
      "text/plain": [
       "0            Italy\n",
       "1         Portugal\n",
       "2               US\n",
       "3               US\n",
       "4               US\n",
       "            ...   \n",
       "129966     Germany\n",
       "129967          US\n",
       "129968      France\n",
       "129969      France\n",
       "129970      France\n",
       "Name: country, Length: 129971, dtype: object"
      ]
     },
     "execution_count": 17,
     "metadata": {},
     "output_type": "execute_result"
    }
   ],
   "source": [
    "print(\n",
    "'''\n",
    "we can do the same with the following:\n",
    "wine_reviews['country']\n",
    "''')\n",
    "wine_reviews['country']"
   ]
  },
  {
   "cell_type": "code",
   "execution_count": 18,
   "id": "faebbb94",
   "metadata": {
    "execution": {
     "iopub.execute_input": "2022-05-20T13:24:08.769925Z",
     "iopub.status.busy": "2022-05-20T13:24:08.769690Z",
     "iopub.status.idle": "2022-05-20T13:24:08.778084Z",
     "shell.execute_reply": "2022-05-20T13:24:08.777359Z"
    },
    "papermill": {
     "duration": 0.054179,
     "end_time": "2022-05-20T13:24:08.780401",
     "exception": false,
     "start_time": "2022-05-20T13:24:08.726222",
     "status": "completed"
    },
    "tags": []
   },
   "outputs": [
    {
     "name": "stdout",
     "output_type": "stream",
     "text": [
      "\n",
      "The above method is used or useful if we have column name have space in their name\n",
      "By using below you can access first index value in Country column\n",
      "wine_reviews['country'][0]\n",
      "************************************************************************************\n",
      "\n",
      "\n",
      "\n"
     ]
    },
    {
     "data": {
      "text/plain": [
       "'Italy'"
      ]
     },
     "execution_count": 18,
     "metadata": {},
     "output_type": "execute_result"
    }
   ],
   "source": [
    "print('''\n",
    "The above method is used or useful if we have column name have space in their name\n",
    "By using below you can access first index value in Country column\n",
    "wine_reviews['country'][0]\n",
    "************************************************************************************\n",
    "\n",
    "\n",
    "''')\n",
    "wine_reviews['country'][0]"
   ]
  },
  {
   "cell_type": "code",
   "execution_count": 19,
   "id": "f74b5e87",
   "metadata": {
    "execution": {
     "iopub.execute_input": "2022-05-20T13:24:08.867623Z",
     "iopub.status.busy": "2022-05-20T13:24:08.867373Z",
     "iopub.status.idle": "2022-05-20T13:24:08.877508Z",
     "shell.execute_reply": "2022-05-20T13:24:08.875082Z"
    },
    "papermill": {
     "duration": 0.058309,
     "end_time": "2022-05-20T13:24:08.881196",
     "exception": false,
     "start_time": "2022-05-20T13:24:08.822887",
     "status": "completed"
    },
    "tags": []
   },
   "outputs": [
    {
     "name": "stdout",
     "output_type": "stream",
     "text": [
      "\n",
      "Index-based selection\n",
      "----------------------\n",
      "Pandas indexing works in one of two paradigms. \n",
      "The first is index-based selection: selecting data based on its numerical position in the data. \n",
      "iloc follows this paradigm.\n",
      "\n",
      "To select the first row of data in a DataFrame, we may use the following:\n",
      "wine_reviews.iloc[0]\n",
      "****************************\n",
      "\n",
      "\n"
     ]
    },
    {
     "data": {
      "text/plain": [
       "country                                                              Italy\n",
       "description              Aromas include tropical fruit, broom, brimston...\n",
       "designation                                                   Vulkà Bianco\n",
       "points                                                                  87\n",
       "price                                                                  NaN\n",
       "province                                                 Sicily & Sardinia\n",
       "region_1                                                              Etna\n",
       "region_2                                                               NaN\n",
       "taster_name                                                  Kerin O’Keefe\n",
       "taster_twitter_handle                                         @kerinokeefe\n",
       "title                                    Nicosia 2013 Vulkà Bianco  (Etna)\n",
       "variety                                                        White Blend\n",
       "winery                                                             Nicosia\n",
       "Name: 0, dtype: object"
      ]
     },
     "execution_count": 19,
     "metadata": {},
     "output_type": "execute_result"
    }
   ],
   "source": [
    "print('''\n",
    "Index-based selection\n",
    "----------------------\n",
    "Pandas indexing works in one of two paradigms. \n",
    "The first is index-based selection: selecting data based on its numerical position in the data. \n",
    "iloc follows this paradigm.\n",
    "\n",
    "To select the first row of data in a DataFrame, we may use the following:\n",
    "wine_reviews.iloc[0]\n",
    "****************************\n",
    "\n",
    "''')\n",
    "\n",
    "wine_reviews.iloc[0]"
   ]
  },
  {
   "cell_type": "code",
   "execution_count": null,
   "id": "85b0dfa4",
   "metadata": {
    "papermill": {
     "duration": 0.043114,
     "end_time": "2022-05-20T13:24:08.970118",
     "exception": false,
     "start_time": "2022-05-20T13:24:08.927004",
     "status": "completed"
    },
    "tags": []
   },
   "outputs": [],
   "source": []
  }
 ],
 "metadata": {
  "kernelspec": {
   "display_name": "Python 3",
   "language": "python",
   "name": "python3"
  },
  "language_info": {
   "codemirror_mode": {
    "name": "ipython",
    "version": 3
   },
   "file_extension": ".py",
   "mimetype": "text/x-python",
   "name": "python",
   "nbconvert_exporter": "python",
   "pygments_lexer": "ipython3",
   "version": "3.7.12"
  },
  "papermill": {
   "default_parameters": {},
   "duration": 17.922533,
   "end_time": "2022-05-20T13:24:09.734162",
   "environment_variables": {},
   "exception": null,
   "input_path": "__notebook__.ipynb",
   "output_path": "__notebook__.ipynb",
   "parameters": {},
   "start_time": "2022-05-20T13:23:51.811629",
   "version": "2.3.4"
  }
 },
 "nbformat": 4,
 "nbformat_minor": 5
}
