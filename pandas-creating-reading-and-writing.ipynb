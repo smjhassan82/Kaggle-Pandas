{
 "cells": [
  {
   "cell_type": "code",
   "execution_count": 1,
   "id": "ca9d753c",
   "metadata": {
    "_cell_guid": "b1076dfc-b9ad-4769-8c92-a6c4dae69d19",
    "_uuid": "8f2839f25d086af736a60e9eeb907d3b93b6e0e5",
    "execution": {
     "iopub.execute_input": "2022-05-19T18:08:46.997301Z",
     "iopub.status.busy": "2022-05-19T18:08:46.996850Z",
     "iopub.status.idle": "2022-05-19T18:08:47.010171Z",
     "shell.execute_reply": "2022-05-19T18:08:47.009482Z"
    },
    "papermill": {
     "duration": 0.030412,
     "end_time": "2022-05-19T18:08:47.012553",
     "exception": false,
     "start_time": "2022-05-19T18:08:46.982141",
     "status": "completed"
    },
    "tags": []
   },
   "outputs": [],
   "source": [
    "# This Python 3 environment comes with many helpful analytics libraries installed\n",
    "# It is defined by the kaggle/python Docker image: https://github.com/kaggle/docker-python\n",
    "# For example, here's several helpful packages to load\n",
    "\n",
    "import numpy as np # linear algebra\n",
    "import pandas as pd # data processing, CSV file I/O (e.g. pd.read_csv)\n",
    "\n",
    "# Input data files are available in the read-only \"../input/\" directory\n",
    "# For example, running this (by clicking run or pressing Shift+Enter) will list all files under the input directory\n",
    "\n",
    "import os\n",
    "for dirname, _, filenames in os.walk('/kaggle/input'):\n",
    "    for filename in filenames:\n",
    "        print(os.path.join(dirname, filename))\n",
    "\n",
    "# You can write up to 20GB to the current directory (/kaggle/working/) that gets preserved as output when you create a version using \"Save & Run All\" \n",
    "# You can also write temporary files to /kaggle/temp/, but they won't be saved outside of the current session"
   ]
  },
  {
   "cell_type": "code",
   "execution_count": 2,
   "id": "107dd780",
   "metadata": {
    "execution": {
     "iopub.execute_input": "2022-05-19T18:08:47.038197Z",
     "iopub.status.busy": "2022-05-19T18:08:47.037579Z",
     "iopub.status.idle": "2022-05-19T18:08:47.042764Z",
     "shell.execute_reply": "2022-05-19T18:08:47.042182Z"
    },
    "papermill": {
     "duration": 0.020453,
     "end_time": "2022-05-19T18:08:47.044820",
     "exception": false,
     "start_time": "2022-05-19T18:08:47.024367",
     "status": "completed"
    },
    "tags": []
   },
   "outputs": [
    {
     "name": "stdout",
     "output_type": "stream",
     "text": [
      "\n",
      "Creating data\n",
      "-------------\n",
      "\n",
      "There are two core objects in pandas: the DataFrame and the Series.\n",
      "\n",
      "A DataFrame is a table\n",
      "----------------------\n",
      "It contains an array of individual entries, each of which has a certain value. \n",
      "Each entry corresponds to a row (or record) and a column.\n",
      "\n",
      "\n"
     ]
    }
   ],
   "source": [
    "print('''\n",
    "Creating data\n",
    "-------------\n",
    "\n",
    "There are two core objects in pandas: the DataFrame and the Series.\n",
    "\n",
    "A DataFrame is a table\n",
    "----------------------\n",
    "It contains an array of individual entries, each of which has a certain value. \n",
    "Each entry corresponds to a row (or record) and a column.\n",
    "\n",
    "''')"
   ]
  },
  {
   "cell_type": "code",
   "execution_count": 3,
   "id": "5411f0a0",
   "metadata": {
    "execution": {
     "iopub.execute_input": "2022-05-19T18:08:47.071383Z",
     "iopub.status.busy": "2022-05-19T18:08:47.070734Z",
     "iopub.status.idle": "2022-05-19T18:08:47.098501Z",
     "shell.execute_reply": "2022-05-19T18:08:47.097319Z"
    },
    "papermill": {
     "duration": 0.043398,
     "end_time": "2022-05-19T18:08:47.100655",
     "exception": false,
     "start_time": "2022-05-19T18:08:47.057257",
     "status": "completed"
    },
    "tags": []
   },
   "outputs": [
    {
     "name": "stdout",
     "output_type": "stream",
     "text": [
      "\n",
      "In this example, the \"0, No\" entry has the value of 131. \n",
      "The \"0, Yes\" entry has a value of 50, and so on.\n",
      "********************************************************\n",
      "pd.DataFrame({'Yes': [50, 21], 'No': [131, 2]})\n",
      "********************************************************\n",
      "\n"
     ]
    },
    {
     "data": {
      "text/html": [
       "<div>\n",
       "<style scoped>\n",
       "    .dataframe tbody tr th:only-of-type {\n",
       "        vertical-align: middle;\n",
       "    }\n",
       "\n",
       "    .dataframe tbody tr th {\n",
       "        vertical-align: top;\n",
       "    }\n",
       "\n",
       "    .dataframe thead th {\n",
       "        text-align: right;\n",
       "    }\n",
       "</style>\n",
       "<table border=\"1\" class=\"dataframe\">\n",
       "  <thead>\n",
       "    <tr style=\"text-align: right;\">\n",
       "      <th></th>\n",
       "      <th>Yes</th>\n",
       "      <th>No</th>\n",
       "    </tr>\n",
       "  </thead>\n",
       "  <tbody>\n",
       "    <tr>\n",
       "      <th>0</th>\n",
       "      <td>50</td>\n",
       "      <td>131</td>\n",
       "    </tr>\n",
       "    <tr>\n",
       "      <th>1</th>\n",
       "      <td>21</td>\n",
       "      <td>2</td>\n",
       "    </tr>\n",
       "  </tbody>\n",
       "</table>\n",
       "</div>"
      ],
      "text/plain": [
       "   Yes   No\n",
       "0   50  131\n",
       "1   21    2"
      ]
     },
     "execution_count": 3,
     "metadata": {},
     "output_type": "execute_result"
    }
   ],
   "source": [
    "print('''\n",
    "In this example, the \"0, No\" entry has the value of 131. \n",
    "The \"0, Yes\" entry has a value of 50, and so on.\n",
    "********************************************************\n",
    "pd.DataFrame({'Yes': [50, 21], 'No': [131, 2]})\n",
    "********************************************************\n",
    "''')\n",
    "\n",
    "pd.DataFrame({'Yes': [50, 21], 'No': [131, 2]})"
   ]
  },
  {
   "cell_type": "code",
   "execution_count": 4,
   "id": "1e2d6045",
   "metadata": {
    "execution": {
     "iopub.execute_input": "2022-05-19T18:08:47.127558Z",
     "iopub.status.busy": "2022-05-19T18:08:47.127244Z",
     "iopub.status.idle": "2022-05-19T18:08:47.142450Z",
     "shell.execute_reply": "2022-05-19T18:08:47.140752Z"
    },
    "papermill": {
     "duration": 0.031414,
     "end_time": "2022-05-19T18:08:47.144725",
     "exception": false,
     "start_time": "2022-05-19T18:08:47.113311",
     "status": "completed"
    },
    "tags": []
   },
   "outputs": [
    {
     "name": "stdout",
     "output_type": "stream",
     "text": [
      "\n",
      "DataFrame entries are not limited to integers. \n",
      "For instance, here's a DataFrame whose values are strings:\n",
      "******************************************************************************************\n",
      "pd.DataFrame({'Bob': ['I liked it.', 'It was awful.'], 'Sue': ['Pretty good.', 'Bland.']})\n",
      "******************************************************************************************\n",
      "\n"
     ]
    },
    {
     "data": {
      "text/html": [
       "<div>\n",
       "<style scoped>\n",
       "    .dataframe tbody tr th:only-of-type {\n",
       "        vertical-align: middle;\n",
       "    }\n",
       "\n",
       "    .dataframe tbody tr th {\n",
       "        vertical-align: top;\n",
       "    }\n",
       "\n",
       "    .dataframe thead th {\n",
       "        text-align: right;\n",
       "    }\n",
       "</style>\n",
       "<table border=\"1\" class=\"dataframe\">\n",
       "  <thead>\n",
       "    <tr style=\"text-align: right;\">\n",
       "      <th></th>\n",
       "      <th>Bob</th>\n",
       "      <th>Sue</th>\n",
       "    </tr>\n",
       "  </thead>\n",
       "  <tbody>\n",
       "    <tr>\n",
       "      <th>0</th>\n",
       "      <td>I liked it.</td>\n",
       "      <td>Pretty good.</td>\n",
       "    </tr>\n",
       "    <tr>\n",
       "      <th>1</th>\n",
       "      <td>It was awful.</td>\n",
       "      <td>Bland.</td>\n",
       "    </tr>\n",
       "  </tbody>\n",
       "</table>\n",
       "</div>"
      ],
      "text/plain": [
       "             Bob           Sue\n",
       "0    I liked it.  Pretty good.\n",
       "1  It was awful.        Bland."
      ]
     },
     "execution_count": 4,
     "metadata": {},
     "output_type": "execute_result"
    }
   ],
   "source": [
    "print('''\n",
    "DataFrame entries are not limited to integers. \n",
    "For instance, here's a DataFrame whose values are strings:\n",
    "******************************************************************************************\n",
    "pd.DataFrame({'Bob': ['I liked it.', 'It was awful.'], 'Sue': ['Pretty good.', 'Bland.']})\n",
    "******************************************************************************************\n",
    "''')\n",
    "\n",
    "pd.DataFrame({'Bob': ['I liked it.', 'It was awful.'], 'Sue': ['Pretty good.', 'Bland.']})"
   ]
  },
  {
   "cell_type": "code",
   "execution_count": 5,
   "id": "76a76020",
   "metadata": {
    "execution": {
     "iopub.execute_input": "2022-05-19T18:08:47.174881Z",
     "iopub.status.busy": "2022-05-19T18:08:47.173894Z",
     "iopub.status.idle": "2022-05-19T18:08:47.187620Z",
     "shell.execute_reply": "2022-05-19T18:08:47.185924Z"
    },
    "papermill": {
     "duration": 0.03118,
     "end_time": "2022-05-19T18:08:47.189764",
     "exception": false,
     "start_time": "2022-05-19T18:08:47.158584",
     "status": "completed"
    },
    "tags": []
   },
   "outputs": [
    {
     "name": "stdout",
     "output_type": "stream",
     "text": [
      "\n",
      "The list of row labels used in a DataFrame is known as an Index. \n",
      "We can assign values to it by using an index parameter in our constructor:\n",
      "*********************************************************************************************\n",
      "pd.DataFrame({'Bob': ['I liked it.', 'It was awful.'], \n",
      "              'Sue': ['Pretty good.', 'Bland.']},\n",
      "             index=['Product A', 'Product B'])\n",
      "*********************************************************************************************\n",
      "\n"
     ]
    },
    {
     "data": {
      "text/html": [
       "<div>\n",
       "<style scoped>\n",
       "    .dataframe tbody tr th:only-of-type {\n",
       "        vertical-align: middle;\n",
       "    }\n",
       "\n",
       "    .dataframe tbody tr th {\n",
       "        vertical-align: top;\n",
       "    }\n",
       "\n",
       "    .dataframe thead th {\n",
       "        text-align: right;\n",
       "    }\n",
       "</style>\n",
       "<table border=\"1\" class=\"dataframe\">\n",
       "  <thead>\n",
       "    <tr style=\"text-align: right;\">\n",
       "      <th></th>\n",
       "      <th>Bob</th>\n",
       "      <th>Sue</th>\n",
       "    </tr>\n",
       "  </thead>\n",
       "  <tbody>\n",
       "    <tr>\n",
       "      <th>Product A</th>\n",
       "      <td>I liked it.</td>\n",
       "      <td>Pretty good.</td>\n",
       "    </tr>\n",
       "    <tr>\n",
       "      <th>Product B</th>\n",
       "      <td>It was awful.</td>\n",
       "      <td>Bland.</td>\n",
       "    </tr>\n",
       "  </tbody>\n",
       "</table>\n",
       "</div>"
      ],
      "text/plain": [
       "                     Bob           Sue\n",
       "Product A    I liked it.  Pretty good.\n",
       "Product B  It was awful.        Bland."
      ]
     },
     "execution_count": 5,
     "metadata": {},
     "output_type": "execute_result"
    }
   ],
   "source": [
    "print('''\n",
    "The list of row labels used in a DataFrame is known as an Index. \n",
    "We can assign values to it by using an index parameter in our constructor:\n",
    "*********************************************************************************************\n",
    "pd.DataFrame({'Bob': ['I liked it.', 'It was awful.'], \n",
    "              'Sue': ['Pretty good.', 'Bland.']},\n",
    "             index=['Product A', 'Product B'])\n",
    "*********************************************************************************************\n",
    "''')\n",
    "\n",
    "pd.DataFrame({'Bob': ['I liked it.', 'It was awful.'], \n",
    "              'Sue': ['Pretty good.', 'Bland.']},\n",
    "             index=['Product A', 'Product B'])"
   ]
  },
  {
   "cell_type": "code",
   "execution_count": 6,
   "id": "cc259edb",
   "metadata": {
    "execution": {
     "iopub.execute_input": "2022-05-19T18:08:47.220419Z",
     "iopub.status.busy": "2022-05-19T18:08:47.220121Z",
     "iopub.status.idle": "2022-05-19T18:08:47.230588Z",
     "shell.execute_reply": "2022-05-19T18:08:47.228415Z"
    },
    "papermill": {
     "duration": 0.028212,
     "end_time": "2022-05-19T18:08:47.232600",
     "exception": false,
     "start_time": "2022-05-19T18:08:47.204388",
     "status": "completed"
    },
    "tags": []
   },
   "outputs": [
    {
     "name": "stdout",
     "output_type": "stream",
     "text": [
      "\n",
      "------\n",
      "Series\n",
      "------\n",
      "\n",
      "A Series, by contrast, is a sequence of data values. \n",
      "If a DataFrame is a table, a Series is a list. \n",
      "And in fact you can create one with nothing more than a list.\n",
      "*************************************************************\n",
      "pd.Series([1, 2, 3, 4, 5])\n",
      "*************************************************************\n",
      "\n",
      "\n"
     ]
    },
    {
     "data": {
      "text/plain": [
       "0    1\n",
       "1    2\n",
       "2    3\n",
       "3    4\n",
       "4    5\n",
       "dtype: int64"
      ]
     },
     "execution_count": 6,
     "metadata": {},
     "output_type": "execute_result"
    }
   ],
   "source": [
    "print('''\n",
    "------\n",
    "Series\n",
    "------\n",
    "\n",
    "A Series, by contrast, is a sequence of data values. \n",
    "If a DataFrame is a table, a Series is a list. \n",
    "And in fact you can create one with nothing more than a list.\n",
    "*************************************************************\n",
    "pd.Series([1, 2, 3, 4, 5])\n",
    "*************************************************************\n",
    "\n",
    "''')\n",
    "pd.Series([1, 2, 3, 4, 5])"
   ]
  },
  {
   "cell_type": "code",
   "execution_count": 7,
   "id": "9b4a13bf",
   "metadata": {
    "execution": {
     "iopub.execute_input": "2022-05-19T18:08:47.268393Z",
     "iopub.status.busy": "2022-05-19T18:08:47.268062Z",
     "iopub.status.idle": "2022-05-19T18:08:47.278154Z",
     "shell.execute_reply": "2022-05-19T18:08:47.277434Z"
    },
    "papermill": {
     "duration": 0.030541,
     "end_time": "2022-05-19T18:08:47.280045",
     "exception": false,
     "start_time": "2022-05-19T18:08:47.249504",
     "status": "completed"
    },
    "tags": []
   },
   "outputs": [
    {
     "name": "stdout",
     "output_type": "stream",
     "text": [
      "\n",
      "A Series is, in essence, a single column of a DataFrame. \n",
      "So you can assign row labels to the Series the same way as before, using an index parameter. \n",
      "However, a Series does not have a column name, it only has one overall name:\n",
      "********************************************************************************************\n",
      "pd.Series([30, 35, 40], index=['2015 Sales', '2016 Sales', '2017 Sales'], name='Product A')\n",
      "********************************************************************************************\n",
      "\n"
     ]
    },
    {
     "data": {
      "text/plain": [
       "2015 Sales    30\n",
       "2016 Sales    35\n",
       "2017 Sales    40\n",
       "Name: Product A, dtype: int64"
      ]
     },
     "execution_count": 7,
     "metadata": {},
     "output_type": "execute_result"
    }
   ],
   "source": [
    "print('''\n",
    "A Series is, in essence, a single column of a DataFrame. \n",
    "So you can assign row labels to the Series the same way as before, using an index parameter. \n",
    "However, a Series does not have a column name, it only has one overall name:\n",
    "********************************************************************************************\n",
    "pd.Series([30, 35, 40], index=['2015 Sales', '2016 Sales', '2017 Sales'], name='Product A')\n",
    "********************************************************************************************\n",
    "''')\n",
    "\n",
    "pd.Series([30, 35, 40], index=['2015 Sales', '2016 Sales', '2017 Sales'], name='Product A')"
   ]
  },
  {
   "cell_type": "code",
   "execution_count": 8,
   "id": "28187303",
   "metadata": {
    "execution": {
     "iopub.execute_input": "2022-05-19T18:08:47.315363Z",
     "iopub.status.busy": "2022-05-19T18:08:47.314580Z",
     "iopub.status.idle": "2022-05-19T18:08:47.319928Z",
     "shell.execute_reply": "2022-05-19T18:08:47.319293Z"
    },
    "papermill": {
     "duration": 0.026333,
     "end_time": "2022-05-19T18:08:47.322603",
     "exception": false,
     "start_time": "2022-05-19T18:08:47.296270",
     "status": "completed"
    },
    "tags": []
   },
   "outputs": [
    {
     "name": "stdout",
     "output_type": "stream",
     "text": [
      "\n",
      "The Series and the DataFrame are intimately related. \n",
      "It's helpful to think of a DataFrame as actually being just a bunch of Series \"glued together\". \n",
      "We'll see more of this in the next section of this tutorial.\n",
      "\n"
     ]
    }
   ],
   "source": [
    "print(\n",
    "'''\n",
    "The Series and the DataFrame are intimately related. \n",
    "It's helpful to think of a DataFrame as actually being just a bunch of Series \"glued together\". \n",
    "We'll see more of this in the next section of this tutorial.\n",
    "'''\n",
    ")"
   ]
  },
  {
   "cell_type": "code",
   "execution_count": 9,
   "id": "18f28ec4",
   "metadata": {
    "execution": {
     "iopub.execute_input": "2022-05-19T18:08:47.359910Z",
     "iopub.status.busy": "2022-05-19T18:08:47.359403Z",
     "iopub.status.idle": "2022-05-19T18:08:47.365274Z",
     "shell.execute_reply": "2022-05-19T18:08:47.363982Z"
    },
    "papermill": {
     "duration": 0.029049,
     "end_time": "2022-05-19T18:08:47.368557",
     "exception": false,
     "start_time": "2022-05-19T18:08:47.339508",
     "status": "completed"
    },
    "tags": []
   },
   "outputs": [
    {
     "name": "stdout",
     "output_type": "stream",
     "text": [
      "\n",
      "\n",
      "Reading data files\n",
      "-------------------\n",
      "Being able to create a DataFrame or Series by hand is handy. \n",
      "But, most of the time, we won't actually be creating our own data by hand. \n",
      "Instead, we'll be working with data that already exists.\n",
      "\n",
      "Data can be stored in any of a number of different forms and formats. \n",
      "By far the most basic of these is the humble CSV file. \n",
      "When you open a CSV file you get something that looks like this:\n",
      "\n",
      "Product A,Product B,Product C,\n",
      "30,21,9,\n",
      "35,34,1,\n",
      "41,11,11\n",
      "\n",
      "So a CSV file is a table of values separated by commas. Hence the name: \"Comma-Separated Values\", or CSV.\n",
      "\n",
      "Let's now set aside our toy datasets and see what a real dataset looks like when we read it into a DataFrame. \n",
      "We'll use the pd.read_csv() function to read the data into a DataFrame. This goes thusly:\n",
      "\n",
      "\n"
     ]
    }
   ],
   "source": [
    "print('''\n",
    "\n",
    "Reading data files\n",
    "-------------------\n",
    "Being able to create a DataFrame or Series by hand is handy. \n",
    "But, most of the time, we won't actually be creating our own data by hand. \n",
    "Instead, we'll be working with data that already exists.\n",
    "\n",
    "Data can be stored in any of a number of different forms and formats. \n",
    "By far the most basic of these is the humble CSV file. \n",
    "When you open a CSV file you get something that looks like this:\n",
    "\n",
    "Product A,Product B,Product C,\n",
    "30,21,9,\n",
    "35,34,1,\n",
    "41,11,11\n",
    "\n",
    "So a CSV file is a table of values separated by commas. Hence the name: \"Comma-Separated Values\", or CSV.\n",
    "\n",
    "Let's now set aside our toy datasets and see what a real dataset looks like when we read it into a DataFrame. \n",
    "We'll use the pd.read_csv() function to read the data into a DataFrame. This goes thusly:\n",
    "\n",
    "''')"
   ]
  },
  {
   "cell_type": "code",
   "execution_count": null,
   "id": "abd8639d",
   "metadata": {
    "papermill": {
     "duration": 0.017656,
     "end_time": "2022-05-19T18:08:47.405434",
     "exception": false,
     "start_time": "2022-05-19T18:08:47.387778",
     "status": "completed"
    },
    "tags": []
   },
   "outputs": [],
   "source": []
  }
 ],
 "metadata": {
  "kernelspec": {
   "display_name": "Python 3",
   "language": "python",
   "name": "python3"
  },
  "language_info": {
   "codemirror_mode": {
    "name": "ipython",
    "version": 3
   },
   "file_extension": ".py",
   "mimetype": "text/x-python",
   "name": "python",
   "nbconvert_exporter": "python",
   "pygments_lexer": "ipython3",
   "version": "3.7.12"
  },
  "papermill": {
   "default_parameters": {},
   "duration": 12.275943,
   "end_time": "2022-05-19T18:08:48.245761",
   "environment_variables": {},
   "exception": null,
   "input_path": "__notebook__.ipynb",
   "output_path": "__notebook__.ipynb",
   "parameters": {},
   "start_time": "2022-05-19T18:08:35.969818",
   "version": "2.3.4"
  }
 },
 "nbformat": 4,
 "nbformat_minor": 5
}
