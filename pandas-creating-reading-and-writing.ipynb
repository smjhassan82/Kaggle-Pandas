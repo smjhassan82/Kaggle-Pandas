{
 "cells": [
  {
   "cell_type": "code",
   "execution_count": 1,
   "id": "9f6055dd",
   "metadata": {
    "_cell_guid": "b1076dfc-b9ad-4769-8c92-a6c4dae69d19",
    "_uuid": "8f2839f25d086af736a60e9eeb907d3b93b6e0e5",
    "execution": {
     "iopub.execute_input": "2022-05-19T19:32:49.132008Z",
     "iopub.status.busy": "2022-05-19T19:32:49.131263Z",
     "iopub.status.idle": "2022-05-19T19:32:49.150863Z",
     "shell.execute_reply": "2022-05-19T19:32:49.150293Z"
    },
    "papermill": {
     "duration": 0.037445,
     "end_time": "2022-05-19T19:32:49.152997",
     "exception": false,
     "start_time": "2022-05-19T19:32:49.115552",
     "status": "completed"
    },
    "tags": []
   },
   "outputs": [
    {
     "name": "stdout",
     "output_type": "stream",
     "text": [
      "/kaggle/input/wine-reviews/winemag-data_first150k.csv\n",
      "/kaggle/input/wine-reviews/winemag-data-130k-v2.json\n",
      "/kaggle/input/wine-reviews/winemag-data-130k-v2.csv\n"
     ]
    }
   ],
   "source": [
    "# This Python 3 environment comes with many helpful analytics libraries installed\n",
    "# It is defined by the kaggle/python Docker image: https://github.com/kaggle/docker-python\n",
    "# For example, here's several helpful packages to load\n",
    "\n",
    "import numpy as np # linear algebra\n",
    "import pandas as pd # data processing, CSV file I/O (e.g. pd.read_csv)\n",
    "\n",
    "# Input data files are available in the read-only \"../input/\" directory\n",
    "# For example, running this (by clicking run or pressing Shift+Enter) will list all files under the input directory\n",
    "\n",
    "import os\n",
    "for dirname, _, filenames in os.walk('/kaggle/input'):\n",
    "    for filename in filenames:\n",
    "        print(os.path.join(dirname, filename))\n",
    "\n",
    "# You can write up to 20GB to the current directory (/kaggle/working/) that gets preserved as output when you create a version using \"Save & Run All\" \n",
    "# You can also write temporary files to /kaggle/temp/, but they won't be saved outside of the current session"
   ]
  },
  {
   "cell_type": "code",
   "execution_count": 2,
   "id": "1c1b81de",
   "metadata": {
    "execution": {
     "iopub.execute_input": "2022-05-19T19:32:49.182639Z",
     "iopub.status.busy": "2022-05-19T19:32:49.182195Z",
     "iopub.status.idle": "2022-05-19T19:32:49.186332Z",
     "shell.execute_reply": "2022-05-19T19:32:49.185506Z"
    },
    "papermill": {
     "duration": 0.021265,
     "end_time": "2022-05-19T19:32:49.188664",
     "exception": false,
     "start_time": "2022-05-19T19:32:49.167399",
     "status": "completed"
    },
    "tags": []
   },
   "outputs": [
    {
     "name": "stdout",
     "output_type": "stream",
     "text": [
      "\n",
      "Creating data\n",
      "-------------\n",
      "\n",
      "There are two core objects in pandas: the DataFrame and the Series.\n",
      "\n",
      "A DataFrame is a table\n",
      "----------------------\n",
      "It contains an array of individual entries, each of which has a certain value. \n",
      "Each entry corresponds to a row (or record) and a column.\n",
      "\n",
      "\n"
     ]
    }
   ],
   "source": [
    "print('''\n",
    "Creating data\n",
    "-------------\n",
    "\n",
    "There are two core objects in pandas: the DataFrame and the Series.\n",
    "\n",
    "A DataFrame is a table\n",
    "----------------------\n",
    "It contains an array of individual entries, each of which has a certain value. \n",
    "Each entry corresponds to a row (or record) and a column.\n",
    "\n",
    "''')"
   ]
  },
  {
   "cell_type": "code",
   "execution_count": 3,
   "id": "917e93a3",
   "metadata": {
    "execution": {
     "iopub.execute_input": "2022-05-19T19:32:49.218462Z",
     "iopub.status.busy": "2022-05-19T19:32:49.218221Z",
     "iopub.status.idle": "2022-05-19T19:32:49.239561Z",
     "shell.execute_reply": "2022-05-19T19:32:49.238653Z"
    },
    "papermill": {
     "duration": 0.038636,
     "end_time": "2022-05-19T19:32:49.242124",
     "exception": false,
     "start_time": "2022-05-19T19:32:49.203488",
     "status": "completed"
    },
    "tags": []
   },
   "outputs": [
    {
     "name": "stdout",
     "output_type": "stream",
     "text": [
      "\n",
      "In this example, the \"0, No\" entry has the value of 131. \n",
      "The \"0, Yes\" entry has a value of 50, and so on.\n",
      "********************************************************\n",
      "pd.DataFrame({'Yes': [50, 21], 'No': [131, 2]})\n",
      "********************************************************\n",
      "\n"
     ]
    },
    {
     "data": {
      "text/html": [
       "<div>\n",
       "<style scoped>\n",
       "    .dataframe tbody tr th:only-of-type {\n",
       "        vertical-align: middle;\n",
       "    }\n",
       "\n",
       "    .dataframe tbody tr th {\n",
       "        vertical-align: top;\n",
       "    }\n",
       "\n",
       "    .dataframe thead th {\n",
       "        text-align: right;\n",
       "    }\n",
       "</style>\n",
       "<table border=\"1\" class=\"dataframe\">\n",
       "  <thead>\n",
       "    <tr style=\"text-align: right;\">\n",
       "      <th></th>\n",
       "      <th>Yes</th>\n",
       "      <th>No</th>\n",
       "    </tr>\n",
       "  </thead>\n",
       "  <tbody>\n",
       "    <tr>\n",
       "      <th>0</th>\n",
       "      <td>50</td>\n",
       "      <td>131</td>\n",
       "    </tr>\n",
       "    <tr>\n",
       "      <th>1</th>\n",
       "      <td>21</td>\n",
       "      <td>2</td>\n",
       "    </tr>\n",
       "  </tbody>\n",
       "</table>\n",
       "</div>"
      ],
      "text/plain": [
       "   Yes   No\n",
       "0   50  131\n",
       "1   21    2"
      ]
     },
     "execution_count": 3,
     "metadata": {},
     "output_type": "execute_result"
    }
   ],
   "source": [
    "print('''\n",
    "In this example, the \"0, No\" entry has the value of 131. \n",
    "The \"0, Yes\" entry has a value of 50, and so on.\n",
    "********************************************************\n",
    "pd.DataFrame({'Yes': [50, 21], 'No': [131, 2]})\n",
    "********************************************************\n",
    "''')\n",
    "\n",
    "pd.DataFrame({'Yes': [50, 21], 'No': [131, 2]})"
   ]
  },
  {
   "cell_type": "code",
   "execution_count": 4,
   "id": "9150d0d5",
   "metadata": {
    "execution": {
     "iopub.execute_input": "2022-05-19T19:32:49.272358Z",
     "iopub.status.busy": "2022-05-19T19:32:49.272117Z",
     "iopub.status.idle": "2022-05-19T19:32:49.282323Z",
     "shell.execute_reply": "2022-05-19T19:32:49.281182Z"
    },
    "papermill": {
     "duration": 0.027372,
     "end_time": "2022-05-19T19:32:49.284147",
     "exception": false,
     "start_time": "2022-05-19T19:32:49.256775",
     "status": "completed"
    },
    "tags": []
   },
   "outputs": [
    {
     "name": "stdout",
     "output_type": "stream",
     "text": [
      "\n",
      "DataFrame entries are not limited to integers. \n",
      "For instance, here's a DataFrame whose values are strings:\n",
      "******************************************************************************************\n",
      "pd.DataFrame({'Bob': ['I liked it.', 'It was awful.'], 'Sue': ['Pretty good.', 'Bland.']})\n",
      "******************************************************************************************\n",
      "\n"
     ]
    },
    {
     "data": {
      "text/html": [
       "<div>\n",
       "<style scoped>\n",
       "    .dataframe tbody tr th:only-of-type {\n",
       "        vertical-align: middle;\n",
       "    }\n",
       "\n",
       "    .dataframe tbody tr th {\n",
       "        vertical-align: top;\n",
       "    }\n",
       "\n",
       "    .dataframe thead th {\n",
       "        text-align: right;\n",
       "    }\n",
       "</style>\n",
       "<table border=\"1\" class=\"dataframe\">\n",
       "  <thead>\n",
       "    <tr style=\"text-align: right;\">\n",
       "      <th></th>\n",
       "      <th>Bob</th>\n",
       "      <th>Sue</th>\n",
       "    </tr>\n",
       "  </thead>\n",
       "  <tbody>\n",
       "    <tr>\n",
       "      <th>0</th>\n",
       "      <td>I liked it.</td>\n",
       "      <td>Pretty good.</td>\n",
       "    </tr>\n",
       "    <tr>\n",
       "      <th>1</th>\n",
       "      <td>It was awful.</td>\n",
       "      <td>Bland.</td>\n",
       "    </tr>\n",
       "  </tbody>\n",
       "</table>\n",
       "</div>"
      ],
      "text/plain": [
       "             Bob           Sue\n",
       "0    I liked it.  Pretty good.\n",
       "1  It was awful.        Bland."
      ]
     },
     "execution_count": 4,
     "metadata": {},
     "output_type": "execute_result"
    }
   ],
   "source": [
    "print('''\n",
    "DataFrame entries are not limited to integers. \n",
    "For instance, here's a DataFrame whose values are strings:\n",
    "******************************************************************************************\n",
    "pd.DataFrame({'Bob': ['I liked it.', 'It was awful.'], 'Sue': ['Pretty good.', 'Bland.']})\n",
    "******************************************************************************************\n",
    "''')\n",
    "\n",
    "pd.DataFrame({'Bob': ['I liked it.', 'It was awful.'], 'Sue': ['Pretty good.', 'Bland.']})"
   ]
  },
  {
   "cell_type": "code",
   "execution_count": 5,
   "id": "c8d8742a",
   "metadata": {
    "execution": {
     "iopub.execute_input": "2022-05-19T19:32:49.315538Z",
     "iopub.status.busy": "2022-05-19T19:32:49.315013Z",
     "iopub.status.idle": "2022-05-19T19:32:49.325139Z",
     "shell.execute_reply": "2022-05-19T19:32:49.324326Z"
    },
    "papermill": {
     "duration": 0.027754,
     "end_time": "2022-05-19T19:32:49.326724",
     "exception": false,
     "start_time": "2022-05-19T19:32:49.298970",
     "status": "completed"
    },
    "tags": []
   },
   "outputs": [
    {
     "name": "stdout",
     "output_type": "stream",
     "text": [
      "\n",
      "The list of row labels used in a DataFrame is known as an Index. \n",
      "We can assign values to it by using an index parameter in our constructor:\n",
      "*********************************************************************************************\n",
      "pd.DataFrame({'Bob': ['I liked it.', 'It was awful.'], \n",
      "              'Sue': ['Pretty good.', 'Bland.']},\n",
      "             index=['Product A', 'Product B'])\n",
      "*********************************************************************************************\n",
      "\n"
     ]
    },
    {
     "data": {
      "text/html": [
       "<div>\n",
       "<style scoped>\n",
       "    .dataframe tbody tr th:only-of-type {\n",
       "        vertical-align: middle;\n",
       "    }\n",
       "\n",
       "    .dataframe tbody tr th {\n",
       "        vertical-align: top;\n",
       "    }\n",
       "\n",
       "    .dataframe thead th {\n",
       "        text-align: right;\n",
       "    }\n",
       "</style>\n",
       "<table border=\"1\" class=\"dataframe\">\n",
       "  <thead>\n",
       "    <tr style=\"text-align: right;\">\n",
       "      <th></th>\n",
       "      <th>Bob</th>\n",
       "      <th>Sue</th>\n",
       "    </tr>\n",
       "  </thead>\n",
       "  <tbody>\n",
       "    <tr>\n",
       "      <th>Product A</th>\n",
       "      <td>I liked it.</td>\n",
       "      <td>Pretty good.</td>\n",
       "    </tr>\n",
       "    <tr>\n",
       "      <th>Product B</th>\n",
       "      <td>It was awful.</td>\n",
       "      <td>Bland.</td>\n",
       "    </tr>\n",
       "  </tbody>\n",
       "</table>\n",
       "</div>"
      ],
      "text/plain": [
       "                     Bob           Sue\n",
       "Product A    I liked it.  Pretty good.\n",
       "Product B  It was awful.        Bland."
      ]
     },
     "execution_count": 5,
     "metadata": {},
     "output_type": "execute_result"
    }
   ],
   "source": [
    "print('''\n",
    "The list of row labels used in a DataFrame is known as an Index. \n",
    "We can assign values to it by using an index parameter in our constructor:\n",
    "*********************************************************************************************\n",
    "pd.DataFrame({'Bob': ['I liked it.', 'It was awful.'], \n",
    "              'Sue': ['Pretty good.', 'Bland.']},\n",
    "             index=['Product A', 'Product B'])\n",
    "*********************************************************************************************\n",
    "''')\n",
    "\n",
    "pd.DataFrame({'Bob': ['I liked it.', 'It was awful.'], \n",
    "              'Sue': ['Pretty good.', 'Bland.']},\n",
    "             index=['Product A', 'Product B'])"
   ]
  },
  {
   "cell_type": "code",
   "execution_count": 6,
   "id": "066b05e0",
   "metadata": {
    "execution": {
     "iopub.execute_input": "2022-05-19T19:32:49.359672Z",
     "iopub.status.busy": "2022-05-19T19:32:49.359374Z",
     "iopub.status.idle": "2022-05-19T19:32:49.366912Z",
     "shell.execute_reply": "2022-05-19T19:32:49.365838Z"
    },
    "papermill": {
     "duration": 0.025872,
     "end_time": "2022-05-19T19:32:49.368628",
     "exception": false,
     "start_time": "2022-05-19T19:32:49.342756",
     "status": "completed"
    },
    "tags": []
   },
   "outputs": [
    {
     "name": "stdout",
     "output_type": "stream",
     "text": [
      "\n",
      "------\n",
      "Series\n",
      "------\n",
      "\n",
      "A Series, by contrast, is a sequence of data values. \n",
      "If a DataFrame is a table, a Series is a list. \n",
      "And in fact you can create one with nothing more than a list.\n",
      "*************************************************************\n",
      "pd.Series([1, 2, 3, 4, 5])\n",
      "*************************************************************\n",
      "\n",
      "\n"
     ]
    },
    {
     "data": {
      "text/plain": [
       "0    1\n",
       "1    2\n",
       "2    3\n",
       "3    4\n",
       "4    5\n",
       "dtype: int64"
      ]
     },
     "execution_count": 6,
     "metadata": {},
     "output_type": "execute_result"
    }
   ],
   "source": [
    "print('''\n",
    "------\n",
    "Series\n",
    "------\n",
    "\n",
    "A Series, by contrast, is a sequence of data values. \n",
    "If a DataFrame is a table, a Series is a list. \n",
    "And in fact you can create one with nothing more than a list.\n",
    "*************************************************************\n",
    "pd.Series([1, 2, 3, 4, 5])\n",
    "*************************************************************\n",
    "\n",
    "''')\n",
    "pd.Series([1, 2, 3, 4, 5])"
   ]
  },
  {
   "cell_type": "code",
   "execution_count": 7,
   "id": "58c28a94",
   "metadata": {
    "execution": {
     "iopub.execute_input": "2022-05-19T19:32:49.401936Z",
     "iopub.status.busy": "2022-05-19T19:32:49.401668Z",
     "iopub.status.idle": "2022-05-19T19:32:49.409841Z",
     "shell.execute_reply": "2022-05-19T19:32:49.408804Z"
    },
    "papermill": {
     "duration": 0.027108,
     "end_time": "2022-05-19T19:32:49.411525",
     "exception": false,
     "start_time": "2022-05-19T19:32:49.384417",
     "status": "completed"
    },
    "tags": []
   },
   "outputs": [
    {
     "name": "stdout",
     "output_type": "stream",
     "text": [
      "\n",
      "A Series is, in essence, a single column of a DataFrame. \n",
      "So you can assign row labels to the Series the same way as before, using an index parameter. \n",
      "However, a Series does not have a column name, it only has one overall name:\n",
      "********************************************************************************************\n",
      "pd.Series([30, 35, 40], index=['2015 Sales', '2016 Sales', '2017 Sales'], name='Product A')\n",
      "********************************************************************************************\n",
      "\n"
     ]
    },
    {
     "data": {
      "text/plain": [
       "2015 Sales    30\n",
       "2016 Sales    35\n",
       "2017 Sales    40\n",
       "Name: Product A, dtype: int64"
      ]
     },
     "execution_count": 7,
     "metadata": {},
     "output_type": "execute_result"
    }
   ],
   "source": [
    "print('''\n",
    "A Series is, in essence, a single column of a DataFrame. \n",
    "So you can assign row labels to the Series the same way as before, using an index parameter. \n",
    "However, a Series does not have a column name, it only has one overall name:\n",
    "********************************************************************************************\n",
    "pd.Series([30, 35, 40], index=['2015 Sales', '2016 Sales', '2017 Sales'], name='Product A')\n",
    "********************************************************************************************\n",
    "''')\n",
    "\n",
    "pd.Series([30, 35, 40], index=['2015 Sales', '2016 Sales', '2017 Sales'], name='Product A')"
   ]
  },
  {
   "cell_type": "code",
   "execution_count": 8,
   "id": "dfbc5fb7",
   "metadata": {
    "execution": {
     "iopub.execute_input": "2022-05-19T19:32:49.446520Z",
     "iopub.status.busy": "2022-05-19T19:32:49.445678Z",
     "iopub.status.idle": "2022-05-19T19:32:49.451142Z",
     "shell.execute_reply": "2022-05-19T19:32:49.450071Z"
    },
    "papermill": {
     "duration": 0.024893,
     "end_time": "2022-05-19T19:32:49.453115",
     "exception": false,
     "start_time": "2022-05-19T19:32:49.428222",
     "status": "completed"
    },
    "tags": []
   },
   "outputs": [
    {
     "name": "stdout",
     "output_type": "stream",
     "text": [
      "\n",
      "The Series and the DataFrame are intimately related. \n",
      "It's helpful to think of a DataFrame as actually being just a bunch of Series \"glued together\". \n",
      "We'll see more of this in the next section of this tutorial.\n",
      "\n"
     ]
    }
   ],
   "source": [
    "print(\n",
    "'''\n",
    "The Series and the DataFrame are intimately related. \n",
    "It's helpful to think of a DataFrame as actually being just a bunch of Series \"glued together\". \n",
    "We'll see more of this in the next section of this tutorial.\n",
    "'''\n",
    ")"
   ]
  },
  {
   "cell_type": "code",
   "execution_count": 9,
   "id": "00a41953",
   "metadata": {
    "execution": {
     "iopub.execute_input": "2022-05-19T19:32:49.488056Z",
     "iopub.status.busy": "2022-05-19T19:32:49.487763Z",
     "iopub.status.idle": "2022-05-19T19:32:49.492341Z",
     "shell.execute_reply": "2022-05-19T19:32:49.491500Z"
    },
    "papermill": {
     "duration": 0.024709,
     "end_time": "2022-05-19T19:32:49.494564",
     "exception": false,
     "start_time": "2022-05-19T19:32:49.469855",
     "status": "completed"
    },
    "tags": []
   },
   "outputs": [
    {
     "name": "stdout",
     "output_type": "stream",
     "text": [
      "\n",
      "\n",
      "Reading data files\n",
      "-------------------\n",
      "Being able to create a DataFrame or Series by hand is handy. \n",
      "But, most of the time, we won't actually be creating our own data by hand. \n",
      "Instead, we'll be working with data that already exists.\n",
      "\n",
      "Data can be stored in any of a number of different forms and formats. \n",
      "By far the most basic of these is the humble CSV file. \n",
      "When you open a CSV file you get something that looks like this:\n",
      "\n",
      "Product A,Product B,Product C,\n",
      "30,21,9,\n",
      "35,34,1,\n",
      "41,11,11\n",
      "\n",
      "So a CSV file is a table of values separated by commas. Hence the name: \"Comma-Separated Values\", or CSV.\n",
      "\n",
      "Let's now set aside our toy datasets and see what a real dataset looks like when we read it into a DataFrame. \n",
      "We'll use the pd.read_csv() function to read the data into a DataFrame. This goes thusly:\n",
      "\n",
      "\n"
     ]
    }
   ],
   "source": [
    "print('''\n",
    "\n",
    "Reading data files\n",
    "-------------------\n",
    "Being able to create a DataFrame or Series by hand is handy. \n",
    "But, most of the time, we won't actually be creating our own data by hand. \n",
    "Instead, we'll be working with data that already exists.\n",
    "\n",
    "Data can be stored in any of a number of different forms and formats. \n",
    "By far the most basic of these is the humble CSV file. \n",
    "When you open a CSV file you get something that looks like this:\n",
    "\n",
    "Product A,Product B,Product C,\n",
    "30,21,9,\n",
    "35,34,1,\n",
    "41,11,11\n",
    "\n",
    "So a CSV file is a table of values separated by commas. Hence the name: \"Comma-Separated Values\", or CSV.\n",
    "\n",
    "Let's now set aside our toy datasets and see what a real dataset looks like when we read it into a DataFrame. \n",
    "We'll use the pd.read_csv() function to read the data into a DataFrame. This goes thusly:\n",
    "\n",
    "''')"
   ]
  },
  {
   "cell_type": "code",
   "execution_count": 10,
   "id": "9d58e271",
   "metadata": {
    "execution": {
     "iopub.execute_input": "2022-05-19T19:32:49.530288Z",
     "iopub.status.busy": "2022-05-19T19:32:49.530008Z",
     "iopub.status.idle": "2022-05-19T19:32:51.133254Z",
     "shell.execute_reply": "2022-05-19T19:32:51.132374Z"
    },
    "papermill": {
     "duration": 1.623845,
     "end_time": "2022-05-19T19:32:51.135534",
     "exception": false,
     "start_time": "2022-05-19T19:32:49.511689",
     "status": "completed"
    },
    "tags": []
   },
   "outputs": [],
   "source": [
    "# wine_reviews: this the variable in which we have loaded the whole dataset.\n",
    "wine_reviews = pd.read_csv(\"../input/wine-reviews/winemag-data-130k-v2.csv\")"
   ]
  },
  {
   "cell_type": "code",
   "execution_count": 11,
   "id": "0d1a64f2",
   "metadata": {
    "execution": {
     "iopub.execute_input": "2022-05-19T19:32:51.174238Z",
     "iopub.status.busy": "2022-05-19T19:32:51.173457Z",
     "iopub.status.idle": "2022-05-19T19:32:51.180250Z",
     "shell.execute_reply": "2022-05-19T19:32:51.179051Z"
    },
    "papermill": {
     "duration": 0.028037,
     "end_time": "2022-05-19T19:32:51.182198",
     "exception": false,
     "start_time": "2022-05-19T19:32:51.154161",
     "status": "completed"
    },
    "tags": []
   },
   "outputs": [
    {
     "name": "stdout",
     "output_type": "stream",
     "text": [
      "\n",
      "We can use the shape attribute to check how large the resulting DataFrame is:\n",
      "wine_reviews.shape\n",
      "It will print data rows and columns in the data frame loaded in to pd\n",
      "wine_reviews.shape\n",
      "\n"
     ]
    },
    {
     "data": {
      "text/plain": [
       "(129971, 14)"
      ]
     },
     "execution_count": 11,
     "metadata": {},
     "output_type": "execute_result"
    }
   ],
   "source": [
    "print('''\n",
    "We can use the shape attribute to check how large the resulting DataFrame is:\n",
    "wine_reviews.shape\n",
    "It will print data rows and columns in the data frame loaded in to pd\n",
    "wine_reviews.shape\n",
    "''')\n",
    "wine_reviews.shape\n"
   ]
  },
  {
   "cell_type": "code",
   "execution_count": 12,
   "id": "7bf5db58",
   "metadata": {
    "execution": {
     "iopub.execute_input": "2022-05-19T19:32:51.222196Z",
     "iopub.status.busy": "2022-05-19T19:32:51.221916Z",
     "iopub.status.idle": "2022-05-19T19:32:51.226004Z",
     "shell.execute_reply": "2022-05-19T19:32:51.225424Z"
    },
    "papermill": {
     "duration": 0.027734,
     "end_time": "2022-05-19T19:32:51.227708",
     "exception": false,
     "start_time": "2022-05-19T19:32:51.199974",
     "status": "completed"
    },
    "tags": []
   },
   "outputs": [
    {
     "name": "stdout",
     "output_type": "stream",
     "text": [
      "\n",
      "So our new DataFrame has 130,000 records split across 14 different columns. \n",
      "That's almost 2 million entries!\n",
      "We can examine the contents of the resultant DataFrame using the head() command, which grabs the first five rows:\n",
      "\n"
     ]
    }
   ],
   "source": [
    "print('''\n",
    "So our new DataFrame has 130,000 records split across 14 different columns. \n",
    "That's almost 2 million entries!\n",
    "We can examine the contents of the resultant DataFrame using the head() command, which grabs the first five rows:\n",
    "''')\n"
   ]
  },
  {
   "cell_type": "code",
   "execution_count": 13,
   "id": "d630e7b9",
   "metadata": {
    "execution": {
     "iopub.execute_input": "2022-05-19T19:32:51.265735Z",
     "iopub.status.busy": "2022-05-19T19:32:51.265160Z",
     "iopub.status.idle": "2022-05-19T19:32:51.281076Z",
     "shell.execute_reply": "2022-05-19T19:32:51.280404Z"
    },
    "papermill": {
     "duration": 0.037078,
     "end_time": "2022-05-19T19:32:51.282800",
     "exception": false,
     "start_time": "2022-05-19T19:32:51.245722",
     "status": "completed"
    },
    "tags": []
   },
   "outputs": [
    {
     "data": {
      "text/html": [
       "<div>\n",
       "<style scoped>\n",
       "    .dataframe tbody tr th:only-of-type {\n",
       "        vertical-align: middle;\n",
       "    }\n",
       "\n",
       "    .dataframe tbody tr th {\n",
       "        vertical-align: top;\n",
       "    }\n",
       "\n",
       "    .dataframe thead th {\n",
       "        text-align: right;\n",
       "    }\n",
       "</style>\n",
       "<table border=\"1\" class=\"dataframe\">\n",
       "  <thead>\n",
       "    <tr style=\"text-align: right;\">\n",
       "      <th></th>\n",
       "      <th>Unnamed: 0</th>\n",
       "      <th>country</th>\n",
       "      <th>description</th>\n",
       "      <th>designation</th>\n",
       "      <th>points</th>\n",
       "      <th>price</th>\n",
       "      <th>province</th>\n",
       "      <th>region_1</th>\n",
       "      <th>region_2</th>\n",
       "      <th>taster_name</th>\n",
       "      <th>taster_twitter_handle</th>\n",
       "      <th>title</th>\n",
       "      <th>variety</th>\n",
       "      <th>winery</th>\n",
       "    </tr>\n",
       "  </thead>\n",
       "  <tbody>\n",
       "    <tr>\n",
       "      <th>0</th>\n",
       "      <td>0</td>\n",
       "      <td>Italy</td>\n",
       "      <td>Aromas include tropical fruit, broom, brimston...</td>\n",
       "      <td>Vulkà Bianco</td>\n",
       "      <td>87</td>\n",
       "      <td>NaN</td>\n",
       "      <td>Sicily &amp; Sardinia</td>\n",
       "      <td>Etna</td>\n",
       "      <td>NaN</td>\n",
       "      <td>Kerin O’Keefe</td>\n",
       "      <td>@kerinokeefe</td>\n",
       "      <td>Nicosia 2013 Vulkà Bianco  (Etna)</td>\n",
       "      <td>White Blend</td>\n",
       "      <td>Nicosia</td>\n",
       "    </tr>\n",
       "    <tr>\n",
       "      <th>1</th>\n",
       "      <td>1</td>\n",
       "      <td>Portugal</td>\n",
       "      <td>This is ripe and fruity, a wine that is smooth...</td>\n",
       "      <td>Avidagos</td>\n",
       "      <td>87</td>\n",
       "      <td>15.0</td>\n",
       "      <td>Douro</td>\n",
       "      <td>NaN</td>\n",
       "      <td>NaN</td>\n",
       "      <td>Roger Voss</td>\n",
       "      <td>@vossroger</td>\n",
       "      <td>Quinta dos Avidagos 2011 Avidagos Red (Douro)</td>\n",
       "      <td>Portuguese Red</td>\n",
       "      <td>Quinta dos Avidagos</td>\n",
       "    </tr>\n",
       "    <tr>\n",
       "      <th>2</th>\n",
       "      <td>2</td>\n",
       "      <td>US</td>\n",
       "      <td>Tart and snappy, the flavors of lime flesh and...</td>\n",
       "      <td>NaN</td>\n",
       "      <td>87</td>\n",
       "      <td>14.0</td>\n",
       "      <td>Oregon</td>\n",
       "      <td>Willamette Valley</td>\n",
       "      <td>Willamette Valley</td>\n",
       "      <td>Paul Gregutt</td>\n",
       "      <td>@paulgwine</td>\n",
       "      <td>Rainstorm 2013 Pinot Gris (Willamette Valley)</td>\n",
       "      <td>Pinot Gris</td>\n",
       "      <td>Rainstorm</td>\n",
       "    </tr>\n",
       "    <tr>\n",
       "      <th>3</th>\n",
       "      <td>3</td>\n",
       "      <td>US</td>\n",
       "      <td>Pineapple rind, lemon pith and orange blossom ...</td>\n",
       "      <td>Reserve Late Harvest</td>\n",
       "      <td>87</td>\n",
       "      <td>13.0</td>\n",
       "      <td>Michigan</td>\n",
       "      <td>Lake Michigan Shore</td>\n",
       "      <td>NaN</td>\n",
       "      <td>Alexander Peartree</td>\n",
       "      <td>NaN</td>\n",
       "      <td>St. Julian 2013 Reserve Late Harvest Riesling ...</td>\n",
       "      <td>Riesling</td>\n",
       "      <td>St. Julian</td>\n",
       "    </tr>\n",
       "    <tr>\n",
       "      <th>4</th>\n",
       "      <td>4</td>\n",
       "      <td>US</td>\n",
       "      <td>Much like the regular bottling from 2012, this...</td>\n",
       "      <td>Vintner's Reserve Wild Child Block</td>\n",
       "      <td>87</td>\n",
       "      <td>65.0</td>\n",
       "      <td>Oregon</td>\n",
       "      <td>Willamette Valley</td>\n",
       "      <td>Willamette Valley</td>\n",
       "      <td>Paul Gregutt</td>\n",
       "      <td>@paulgwine</td>\n",
       "      <td>Sweet Cheeks 2012 Vintner's Reserve Wild Child...</td>\n",
       "      <td>Pinot Noir</td>\n",
       "      <td>Sweet Cheeks</td>\n",
       "    </tr>\n",
       "  </tbody>\n",
       "</table>\n",
       "</div>"
      ],
      "text/plain": [
       "   Unnamed: 0   country                                        description  \\\n",
       "0           0     Italy  Aromas include tropical fruit, broom, brimston...   \n",
       "1           1  Portugal  This is ripe and fruity, a wine that is smooth...   \n",
       "2           2        US  Tart and snappy, the flavors of lime flesh and...   \n",
       "3           3        US  Pineapple rind, lemon pith and orange blossom ...   \n",
       "4           4        US  Much like the regular bottling from 2012, this...   \n",
       "\n",
       "                          designation  points  price           province  \\\n",
       "0                        Vulkà Bianco      87    NaN  Sicily & Sardinia   \n",
       "1                            Avidagos      87   15.0              Douro   \n",
       "2                                 NaN      87   14.0             Oregon   \n",
       "3                Reserve Late Harvest      87   13.0           Michigan   \n",
       "4  Vintner's Reserve Wild Child Block      87   65.0             Oregon   \n",
       "\n",
       "              region_1           region_2         taster_name  \\\n",
       "0                 Etna                NaN       Kerin O’Keefe   \n",
       "1                  NaN                NaN          Roger Voss   \n",
       "2    Willamette Valley  Willamette Valley        Paul Gregutt   \n",
       "3  Lake Michigan Shore                NaN  Alexander Peartree   \n",
       "4    Willamette Valley  Willamette Valley        Paul Gregutt   \n",
       "\n",
       "  taster_twitter_handle                                              title  \\\n",
       "0          @kerinokeefe                  Nicosia 2013 Vulkà Bianco  (Etna)   \n",
       "1            @vossroger      Quinta dos Avidagos 2011 Avidagos Red (Douro)   \n",
       "2           @paulgwine       Rainstorm 2013 Pinot Gris (Willamette Valley)   \n",
       "3                   NaN  St. Julian 2013 Reserve Late Harvest Riesling ...   \n",
       "4           @paulgwine   Sweet Cheeks 2012 Vintner's Reserve Wild Child...   \n",
       "\n",
       "          variety               winery  \n",
       "0     White Blend              Nicosia  \n",
       "1  Portuguese Red  Quinta dos Avidagos  \n",
       "2      Pinot Gris            Rainstorm  \n",
       "3        Riesling           St. Julian  \n",
       "4      Pinot Noir         Sweet Cheeks  "
      ]
     },
     "execution_count": 13,
     "metadata": {},
     "output_type": "execute_result"
    }
   ],
   "source": [
    "wine_reviews.head()"
   ]
  },
  {
   "cell_type": "code",
   "execution_count": 14,
   "id": "cada3611",
   "metadata": {
    "execution": {
     "iopub.execute_input": "2022-05-19T19:32:51.322196Z",
     "iopub.status.busy": "2022-05-19T19:32:51.321919Z",
     "iopub.status.idle": "2022-05-19T19:32:52.312052Z",
     "shell.execute_reply": "2022-05-19T19:32:52.311137Z"
    },
    "papermill": {
     "duration": 1.012571,
     "end_time": "2022-05-19T19:32:52.314289",
     "exception": false,
     "start_time": "2022-05-19T19:32:51.301718",
     "status": "completed"
    },
    "tags": []
   },
   "outputs": [
    {
     "name": "stdout",
     "output_type": "stream",
     "text": [
      "\n",
      "The pd.read_csv() function is well-endowed, with over 30 optional parameters you can specify. \n",
      "For example, you can see in this dataset that the CSV file has a built-in index, \n",
      "which pandas did not pick up on automatically. \n",
      "To make pandas use that column for the index (instead of creating a new one from scratch), we can specify an index_col.\n",
      "\n",
      "\n",
      "***********************************************************************************************************************\n",
      "by using index_col=0 the additional column unamed is not loaded into the data as it was when we load the data with\n",
      "\n",
      "\n",
      "wine_reviews = pd.read_csv(\"../input/wine-reviews/winemag-data-130k-v2.csv\")\n",
      "************************************************************************************************************************\n",
      "\n"
     ]
    },
    {
     "data": {
      "text/html": [
       "<div>\n",
       "<style scoped>\n",
       "    .dataframe tbody tr th:only-of-type {\n",
       "        vertical-align: middle;\n",
       "    }\n",
       "\n",
       "    .dataframe tbody tr th {\n",
       "        vertical-align: top;\n",
       "    }\n",
       "\n",
       "    .dataframe thead th {\n",
       "        text-align: right;\n",
       "    }\n",
       "</style>\n",
       "<table border=\"1\" class=\"dataframe\">\n",
       "  <thead>\n",
       "    <tr style=\"text-align: right;\">\n",
       "      <th></th>\n",
       "      <th>country</th>\n",
       "      <th>description</th>\n",
       "      <th>designation</th>\n",
       "      <th>points</th>\n",
       "      <th>price</th>\n",
       "      <th>province</th>\n",
       "      <th>region_1</th>\n",
       "      <th>region_2</th>\n",
       "      <th>taster_name</th>\n",
       "      <th>taster_twitter_handle</th>\n",
       "      <th>title</th>\n",
       "      <th>variety</th>\n",
       "      <th>winery</th>\n",
       "    </tr>\n",
       "  </thead>\n",
       "  <tbody>\n",
       "    <tr>\n",
       "      <th>0</th>\n",
       "      <td>Italy</td>\n",
       "      <td>Aromas include tropical fruit, broom, brimston...</td>\n",
       "      <td>Vulkà Bianco</td>\n",
       "      <td>87</td>\n",
       "      <td>NaN</td>\n",
       "      <td>Sicily &amp; Sardinia</td>\n",
       "      <td>Etna</td>\n",
       "      <td>NaN</td>\n",
       "      <td>Kerin O’Keefe</td>\n",
       "      <td>@kerinokeefe</td>\n",
       "      <td>Nicosia 2013 Vulkà Bianco  (Etna)</td>\n",
       "      <td>White Blend</td>\n",
       "      <td>Nicosia</td>\n",
       "    </tr>\n",
       "    <tr>\n",
       "      <th>1</th>\n",
       "      <td>Portugal</td>\n",
       "      <td>This is ripe and fruity, a wine that is smooth...</td>\n",
       "      <td>Avidagos</td>\n",
       "      <td>87</td>\n",
       "      <td>15.0</td>\n",
       "      <td>Douro</td>\n",
       "      <td>NaN</td>\n",
       "      <td>NaN</td>\n",
       "      <td>Roger Voss</td>\n",
       "      <td>@vossroger</td>\n",
       "      <td>Quinta dos Avidagos 2011 Avidagos Red (Douro)</td>\n",
       "      <td>Portuguese Red</td>\n",
       "      <td>Quinta dos Avidagos</td>\n",
       "    </tr>\n",
       "    <tr>\n",
       "      <th>2</th>\n",
       "      <td>US</td>\n",
       "      <td>Tart and snappy, the flavors of lime flesh and...</td>\n",
       "      <td>NaN</td>\n",
       "      <td>87</td>\n",
       "      <td>14.0</td>\n",
       "      <td>Oregon</td>\n",
       "      <td>Willamette Valley</td>\n",
       "      <td>Willamette Valley</td>\n",
       "      <td>Paul Gregutt</td>\n",
       "      <td>@paulgwine</td>\n",
       "      <td>Rainstorm 2013 Pinot Gris (Willamette Valley)</td>\n",
       "      <td>Pinot Gris</td>\n",
       "      <td>Rainstorm</td>\n",
       "    </tr>\n",
       "    <tr>\n",
       "      <th>3</th>\n",
       "      <td>US</td>\n",
       "      <td>Pineapple rind, lemon pith and orange blossom ...</td>\n",
       "      <td>Reserve Late Harvest</td>\n",
       "      <td>87</td>\n",
       "      <td>13.0</td>\n",
       "      <td>Michigan</td>\n",
       "      <td>Lake Michigan Shore</td>\n",
       "      <td>NaN</td>\n",
       "      <td>Alexander Peartree</td>\n",
       "      <td>NaN</td>\n",
       "      <td>St. Julian 2013 Reserve Late Harvest Riesling ...</td>\n",
       "      <td>Riesling</td>\n",
       "      <td>St. Julian</td>\n",
       "    </tr>\n",
       "    <tr>\n",
       "      <th>4</th>\n",
       "      <td>US</td>\n",
       "      <td>Much like the regular bottling from 2012, this...</td>\n",
       "      <td>Vintner's Reserve Wild Child Block</td>\n",
       "      <td>87</td>\n",
       "      <td>65.0</td>\n",
       "      <td>Oregon</td>\n",
       "      <td>Willamette Valley</td>\n",
       "      <td>Willamette Valley</td>\n",
       "      <td>Paul Gregutt</td>\n",
       "      <td>@paulgwine</td>\n",
       "      <td>Sweet Cheeks 2012 Vintner's Reserve Wild Child...</td>\n",
       "      <td>Pinot Noir</td>\n",
       "      <td>Sweet Cheeks</td>\n",
       "    </tr>\n",
       "  </tbody>\n",
       "</table>\n",
       "</div>"
      ],
      "text/plain": [
       "    country                                        description  \\\n",
       "0     Italy  Aromas include tropical fruit, broom, brimston...   \n",
       "1  Portugal  This is ripe and fruity, a wine that is smooth...   \n",
       "2        US  Tart and snappy, the flavors of lime flesh and...   \n",
       "3        US  Pineapple rind, lemon pith and orange blossom ...   \n",
       "4        US  Much like the regular bottling from 2012, this...   \n",
       "\n",
       "                          designation  points  price           province  \\\n",
       "0                        Vulkà Bianco      87    NaN  Sicily & Sardinia   \n",
       "1                            Avidagos      87   15.0              Douro   \n",
       "2                                 NaN      87   14.0             Oregon   \n",
       "3                Reserve Late Harvest      87   13.0           Michigan   \n",
       "4  Vintner's Reserve Wild Child Block      87   65.0             Oregon   \n",
       "\n",
       "              region_1           region_2         taster_name  \\\n",
       "0                 Etna                NaN       Kerin O’Keefe   \n",
       "1                  NaN                NaN          Roger Voss   \n",
       "2    Willamette Valley  Willamette Valley        Paul Gregutt   \n",
       "3  Lake Michigan Shore                NaN  Alexander Peartree   \n",
       "4    Willamette Valley  Willamette Valley        Paul Gregutt   \n",
       "\n",
       "  taster_twitter_handle                                              title  \\\n",
       "0          @kerinokeefe                  Nicosia 2013 Vulkà Bianco  (Etna)   \n",
       "1            @vossroger      Quinta dos Avidagos 2011 Avidagos Red (Douro)   \n",
       "2           @paulgwine       Rainstorm 2013 Pinot Gris (Willamette Valley)   \n",
       "3                   NaN  St. Julian 2013 Reserve Late Harvest Riesling ...   \n",
       "4           @paulgwine   Sweet Cheeks 2012 Vintner's Reserve Wild Child...   \n",
       "\n",
       "          variety               winery  \n",
       "0     White Blend              Nicosia  \n",
       "1  Portuguese Red  Quinta dos Avidagos  \n",
       "2      Pinot Gris            Rainstorm  \n",
       "3        Riesling           St. Julian  \n",
       "4      Pinot Noir         Sweet Cheeks  "
      ]
     },
     "execution_count": 14,
     "metadata": {},
     "output_type": "execute_result"
    }
   ],
   "source": [
    "print('''\n",
    "The pd.read_csv() function is well-endowed, with over 30 optional parameters you can specify. \n",
    "For example, you can see in this dataset that the CSV file has a built-in index, \n",
    "which pandas did not pick up on automatically. \n",
    "To make pandas use that column for the index (instead of creating a new one from scratch), we can specify an index_col.\n",
    "''')\n",
    "print('''\n",
    "***********************************************************************************************************************\n",
    "by using index_col=0 the additional column unamed is not loaded into the data as it was when we load the data with\n",
    "\n",
    "\n",
    "wine_reviews = pd.read_csv(\"../input/wine-reviews/winemag-data-130k-v2.csv\")\n",
    "************************************************************************************************************************\n",
    "''')\n",
    "\n",
    "\n",
    "wine_reviews = pd.read_csv(\"../input/wine-reviews/winemag-data-130k-v2.csv\", index_col=0)\n",
    "wine_reviews.head()"
   ]
  },
  {
   "cell_type": "code",
   "execution_count": 15,
   "id": "dee5a229",
   "metadata": {
    "execution": {
     "iopub.execute_input": "2022-05-19T19:32:52.356212Z",
     "iopub.status.busy": "2022-05-19T19:32:52.355914Z",
     "iopub.status.idle": "2022-05-19T19:32:52.361067Z",
     "shell.execute_reply": "2022-05-19T19:32:52.360476Z"
    },
    "papermill": {
     "duration": 0.027607,
     "end_time": "2022-05-19T19:32:52.362656",
     "exception": false,
     "start_time": "2022-05-19T19:32:52.335049",
     "status": "completed"
    },
    "tags": []
   },
   "outputs": [
    {
     "data": {
      "text/plain": [
       "'#dataframe_name.to_csv(\"file_name.csv\")'"
      ]
     },
     "execution_count": 15,
     "metadata": {},
     "output_type": "execute_result"
    }
   ],
   "source": [
    "'''# you can write output of your dataframe by using the below'''\n",
    "'''#dataframe_name.to_csv(\"file_name.csv\")'''"
   ]
  },
  {
   "cell_type": "code",
   "execution_count": null,
   "id": "9a2cb7c3",
   "metadata": {
    "papermill": {
     "duration": 0.019508,
     "end_time": "2022-05-19T19:32:52.402196",
     "exception": false,
     "start_time": "2022-05-19T19:32:52.382688",
     "status": "completed"
    },
    "tags": []
   },
   "outputs": [],
   "source": []
  }
 ],
 "metadata": {
  "kernelspec": {
   "display_name": "Python 3",
   "language": "python",
   "name": "python3"
  },
  "language_info": {
   "codemirror_mode": {
    "name": "ipython",
    "version": 3
   },
   "file_extension": ".py",
   "mimetype": "text/x-python",
   "name": "python",
   "nbconvert_exporter": "python",
   "pygments_lexer": "ipython3",
   "version": "3.7.12"
  },
  "papermill": {
   "default_parameters": {},
   "duration": 12.140369,
   "end_time": "2022-05-19T19:32:53.041160",
   "environment_variables": {},
   "exception": null,
   "input_path": "__notebook__.ipynb",
   "output_path": "__notebook__.ipynb",
   "parameters": {},
   "start_time": "2022-05-19T19:32:40.900791",
   "version": "2.3.4"
  }
 },
 "nbformat": 4,
 "nbformat_minor": 5
}
