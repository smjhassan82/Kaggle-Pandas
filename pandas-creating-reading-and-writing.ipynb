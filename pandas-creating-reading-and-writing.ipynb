{
 "cells": [
  {
   "cell_type": "code",
   "execution_count": 1,
   "id": "23e6db5f",
   "metadata": {
    "_cell_guid": "b1076dfc-b9ad-4769-8c92-a6c4dae69d19",
    "_uuid": "8f2839f25d086af736a60e9eeb907d3b93b6e0e5",
    "execution": {
     "iopub.execute_input": "2022-05-19T18:21:37.802129Z",
     "iopub.status.busy": "2022-05-19T18:21:37.801145Z",
     "iopub.status.idle": "2022-05-19T18:21:37.825976Z",
     "shell.execute_reply": "2022-05-19T18:21:37.824933Z"
    },
    "papermill": {
     "duration": 0.04586,
     "end_time": "2022-05-19T18:21:37.829455",
     "exception": false,
     "start_time": "2022-05-19T18:21:37.783595",
     "status": "completed"
    },
    "tags": []
   },
   "outputs": [
    {
     "name": "stdout",
     "output_type": "stream",
     "text": [
      "/kaggle/input/wine-reviews/winemag-data_first150k.csv\n",
      "/kaggle/input/wine-reviews/winemag-data-130k-v2.json\n",
      "/kaggle/input/wine-reviews/winemag-data-130k-v2.csv\n"
     ]
    }
   ],
   "source": [
    "# This Python 3 environment comes with many helpful analytics libraries installed\n",
    "# It is defined by the kaggle/python Docker image: https://github.com/kaggle/docker-python\n",
    "# For example, here's several helpful packages to load\n",
    "\n",
    "import numpy as np # linear algebra\n",
    "import pandas as pd # data processing, CSV file I/O (e.g. pd.read_csv)\n",
    "\n",
    "# Input data files are available in the read-only \"../input/\" directory\n",
    "# For example, running this (by clicking run or pressing Shift+Enter) will list all files under the input directory\n",
    "\n",
    "import os\n",
    "for dirname, _, filenames in os.walk('/kaggle/input'):\n",
    "    for filename in filenames:\n",
    "        print(os.path.join(dirname, filename))\n",
    "\n",
    "# You can write up to 20GB to the current directory (/kaggle/working/) that gets preserved as output when you create a version using \"Save & Run All\" \n",
    "# You can also write temporary files to /kaggle/temp/, but they won't be saved outside of the current session"
   ]
  },
  {
   "cell_type": "code",
   "execution_count": 2,
   "id": "7952e9c9",
   "metadata": {
    "execution": {
     "iopub.execute_input": "2022-05-19T18:21:37.861994Z",
     "iopub.status.busy": "2022-05-19T18:21:37.861036Z",
     "iopub.status.idle": "2022-05-19T18:21:37.867403Z",
     "shell.execute_reply": "2022-05-19T18:21:37.866544Z"
    },
    "papermill": {
     "duration": 0.02462,
     "end_time": "2022-05-19T18:21:37.869842",
     "exception": false,
     "start_time": "2022-05-19T18:21:37.845222",
     "status": "completed"
    },
    "tags": []
   },
   "outputs": [
    {
     "name": "stdout",
     "output_type": "stream",
     "text": [
      "\n",
      "Creating data\n",
      "-------------\n",
      "\n",
      "There are two core objects in pandas: the DataFrame and the Series.\n",
      "\n",
      "A DataFrame is a table\n",
      "----------------------\n",
      "It contains an array of individual entries, each of which has a certain value. \n",
      "Each entry corresponds to a row (or record) and a column.\n",
      "\n",
      "\n"
     ]
    }
   ],
   "source": [
    "print('''\n",
    "Creating data\n",
    "-------------\n",
    "\n",
    "There are two core objects in pandas: the DataFrame and the Series.\n",
    "\n",
    "A DataFrame is a table\n",
    "----------------------\n",
    "It contains an array of individual entries, each of which has a certain value. \n",
    "Each entry corresponds to a row (or record) and a column.\n",
    "\n",
    "''')"
   ]
  },
  {
   "cell_type": "code",
   "execution_count": 3,
   "id": "f83fa857",
   "metadata": {
    "execution": {
     "iopub.execute_input": "2022-05-19T18:21:37.902125Z",
     "iopub.status.busy": "2022-05-19T18:21:37.901757Z",
     "iopub.status.idle": "2022-05-19T18:21:37.930514Z",
     "shell.execute_reply": "2022-05-19T18:21:37.928875Z"
    },
    "papermill": {
     "duration": 0.04951,
     "end_time": "2022-05-19T18:21:37.935052",
     "exception": false,
     "start_time": "2022-05-19T18:21:37.885542",
     "status": "completed"
    },
    "tags": []
   },
   "outputs": [
    {
     "name": "stdout",
     "output_type": "stream",
     "text": [
      "\n",
      "In this example, the \"0, No\" entry has the value of 131. \n",
      "The \"0, Yes\" entry has a value of 50, and so on.\n",
      "********************************************************\n",
      "pd.DataFrame({'Yes': [50, 21], 'No': [131, 2]})\n",
      "********************************************************\n",
      "\n"
     ]
    },
    {
     "data": {
      "text/html": [
       "<div>\n",
       "<style scoped>\n",
       "    .dataframe tbody tr th:only-of-type {\n",
       "        vertical-align: middle;\n",
       "    }\n",
       "\n",
       "    .dataframe tbody tr th {\n",
       "        vertical-align: top;\n",
       "    }\n",
       "\n",
       "    .dataframe thead th {\n",
       "        text-align: right;\n",
       "    }\n",
       "</style>\n",
       "<table border=\"1\" class=\"dataframe\">\n",
       "  <thead>\n",
       "    <tr style=\"text-align: right;\">\n",
       "      <th></th>\n",
       "      <th>Yes</th>\n",
       "      <th>No</th>\n",
       "    </tr>\n",
       "  </thead>\n",
       "  <tbody>\n",
       "    <tr>\n",
       "      <th>0</th>\n",
       "      <td>50</td>\n",
       "      <td>131</td>\n",
       "    </tr>\n",
       "    <tr>\n",
       "      <th>1</th>\n",
       "      <td>21</td>\n",
       "      <td>2</td>\n",
       "    </tr>\n",
       "  </tbody>\n",
       "</table>\n",
       "</div>"
      ],
      "text/plain": [
       "   Yes   No\n",
       "0   50  131\n",
       "1   21    2"
      ]
     },
     "execution_count": 3,
     "metadata": {},
     "output_type": "execute_result"
    }
   ],
   "source": [
    "print('''\n",
    "In this example, the \"0, No\" entry has the value of 131. \n",
    "The \"0, Yes\" entry has a value of 50, and so on.\n",
    "********************************************************\n",
    "pd.DataFrame({'Yes': [50, 21], 'No': [131, 2]})\n",
    "********************************************************\n",
    "''')\n",
    "\n",
    "pd.DataFrame({'Yes': [50, 21], 'No': [131, 2]})"
   ]
  },
  {
   "cell_type": "code",
   "execution_count": 4,
   "id": "f7d5c783",
   "metadata": {
    "execution": {
     "iopub.execute_input": "2022-05-19T18:21:37.968439Z",
     "iopub.status.busy": "2022-05-19T18:21:37.968064Z",
     "iopub.status.idle": "2022-05-19T18:21:37.982816Z",
     "shell.execute_reply": "2022-05-19T18:21:37.981422Z"
    },
    "papermill": {
     "duration": 0.034882,
     "end_time": "2022-05-19T18:21:37.986033",
     "exception": false,
     "start_time": "2022-05-19T18:21:37.951151",
     "status": "completed"
    },
    "tags": []
   },
   "outputs": [
    {
     "name": "stdout",
     "output_type": "stream",
     "text": [
      "\n",
      "DataFrame entries are not limited to integers. \n",
      "For instance, here's a DataFrame whose values are strings:\n",
      "******************************************************************************************\n",
      "pd.DataFrame({'Bob': ['I liked it.', 'It was awful.'], 'Sue': ['Pretty good.', 'Bland.']})\n",
      "******************************************************************************************\n",
      "\n"
     ]
    },
    {
     "data": {
      "text/html": [
       "<div>\n",
       "<style scoped>\n",
       "    .dataframe tbody tr th:only-of-type {\n",
       "        vertical-align: middle;\n",
       "    }\n",
       "\n",
       "    .dataframe tbody tr th {\n",
       "        vertical-align: top;\n",
       "    }\n",
       "\n",
       "    .dataframe thead th {\n",
       "        text-align: right;\n",
       "    }\n",
       "</style>\n",
       "<table border=\"1\" class=\"dataframe\">\n",
       "  <thead>\n",
       "    <tr style=\"text-align: right;\">\n",
       "      <th></th>\n",
       "      <th>Bob</th>\n",
       "      <th>Sue</th>\n",
       "    </tr>\n",
       "  </thead>\n",
       "  <tbody>\n",
       "    <tr>\n",
       "      <th>0</th>\n",
       "      <td>I liked it.</td>\n",
       "      <td>Pretty good.</td>\n",
       "    </tr>\n",
       "    <tr>\n",
       "      <th>1</th>\n",
       "      <td>It was awful.</td>\n",
       "      <td>Bland.</td>\n",
       "    </tr>\n",
       "  </tbody>\n",
       "</table>\n",
       "</div>"
      ],
      "text/plain": [
       "             Bob           Sue\n",
       "0    I liked it.  Pretty good.\n",
       "1  It was awful.        Bland."
      ]
     },
     "execution_count": 4,
     "metadata": {},
     "output_type": "execute_result"
    }
   ],
   "source": [
    "print('''\n",
    "DataFrame entries are not limited to integers. \n",
    "For instance, here's a DataFrame whose values are strings:\n",
    "******************************************************************************************\n",
    "pd.DataFrame({'Bob': ['I liked it.', 'It was awful.'], 'Sue': ['Pretty good.', 'Bland.']})\n",
    "******************************************************************************************\n",
    "''')\n",
    "\n",
    "pd.DataFrame({'Bob': ['I liked it.', 'It was awful.'], 'Sue': ['Pretty good.', 'Bland.']})"
   ]
  },
  {
   "cell_type": "code",
   "execution_count": 5,
   "id": "4362f111",
   "metadata": {
    "execution": {
     "iopub.execute_input": "2022-05-19T18:21:38.023012Z",
     "iopub.status.busy": "2022-05-19T18:21:38.022396Z",
     "iopub.status.idle": "2022-05-19T18:21:38.035608Z",
     "shell.execute_reply": "2022-05-19T18:21:38.034717Z"
    },
    "papermill": {
     "duration": 0.035547,
     "end_time": "2022-05-19T18:21:38.038781",
     "exception": false,
     "start_time": "2022-05-19T18:21:38.003234",
     "status": "completed"
    },
    "tags": []
   },
   "outputs": [
    {
     "name": "stdout",
     "output_type": "stream",
     "text": [
      "\n",
      "The list of row labels used in a DataFrame is known as an Index. \n",
      "We can assign values to it by using an index parameter in our constructor:\n",
      "*********************************************************************************************\n",
      "pd.DataFrame({'Bob': ['I liked it.', 'It was awful.'], \n",
      "              'Sue': ['Pretty good.', 'Bland.']},\n",
      "             index=['Product A', 'Product B'])\n",
      "*********************************************************************************************\n",
      "\n"
     ]
    },
    {
     "data": {
      "text/html": [
       "<div>\n",
       "<style scoped>\n",
       "    .dataframe tbody tr th:only-of-type {\n",
       "        vertical-align: middle;\n",
       "    }\n",
       "\n",
       "    .dataframe tbody tr th {\n",
       "        vertical-align: top;\n",
       "    }\n",
       "\n",
       "    .dataframe thead th {\n",
       "        text-align: right;\n",
       "    }\n",
       "</style>\n",
       "<table border=\"1\" class=\"dataframe\">\n",
       "  <thead>\n",
       "    <tr style=\"text-align: right;\">\n",
       "      <th></th>\n",
       "      <th>Bob</th>\n",
       "      <th>Sue</th>\n",
       "    </tr>\n",
       "  </thead>\n",
       "  <tbody>\n",
       "    <tr>\n",
       "      <th>Product A</th>\n",
       "      <td>I liked it.</td>\n",
       "      <td>Pretty good.</td>\n",
       "    </tr>\n",
       "    <tr>\n",
       "      <th>Product B</th>\n",
       "      <td>It was awful.</td>\n",
       "      <td>Bland.</td>\n",
       "    </tr>\n",
       "  </tbody>\n",
       "</table>\n",
       "</div>"
      ],
      "text/plain": [
       "                     Bob           Sue\n",
       "Product A    I liked it.  Pretty good.\n",
       "Product B  It was awful.        Bland."
      ]
     },
     "execution_count": 5,
     "metadata": {},
     "output_type": "execute_result"
    }
   ],
   "source": [
    "print('''\n",
    "The list of row labels used in a DataFrame is known as an Index. \n",
    "We can assign values to it by using an index parameter in our constructor:\n",
    "*********************************************************************************************\n",
    "pd.DataFrame({'Bob': ['I liked it.', 'It was awful.'], \n",
    "              'Sue': ['Pretty good.', 'Bland.']},\n",
    "             index=['Product A', 'Product B'])\n",
    "*********************************************************************************************\n",
    "''')\n",
    "\n",
    "pd.DataFrame({'Bob': ['I liked it.', 'It was awful.'], \n",
    "              'Sue': ['Pretty good.', 'Bland.']},\n",
    "             index=['Product A', 'Product B'])"
   ]
  },
  {
   "cell_type": "code",
   "execution_count": 6,
   "id": "78836eba",
   "metadata": {
    "execution": {
     "iopub.execute_input": "2022-05-19T18:21:38.075604Z",
     "iopub.status.busy": "2022-05-19T18:21:38.075177Z",
     "iopub.status.idle": "2022-05-19T18:21:38.084436Z",
     "shell.execute_reply": "2022-05-19T18:21:38.083505Z"
    },
    "papermill": {
     "duration": 0.031839,
     "end_time": "2022-05-19T18:21:38.087767",
     "exception": false,
     "start_time": "2022-05-19T18:21:38.055928",
     "status": "completed"
    },
    "tags": []
   },
   "outputs": [
    {
     "name": "stdout",
     "output_type": "stream",
     "text": [
      "\n",
      "------\n",
      "Series\n",
      "------\n",
      "\n",
      "A Series, by contrast, is a sequence of data values. \n",
      "If a DataFrame is a table, a Series is a list. \n",
      "And in fact you can create one with nothing more than a list.\n",
      "*************************************************************\n",
      "pd.Series([1, 2, 3, 4, 5])\n",
      "*************************************************************\n",
      "\n",
      "\n"
     ]
    },
    {
     "data": {
      "text/plain": [
       "0    1\n",
       "1    2\n",
       "2    3\n",
       "3    4\n",
       "4    5\n",
       "dtype: int64"
      ]
     },
     "execution_count": 6,
     "metadata": {},
     "output_type": "execute_result"
    }
   ],
   "source": [
    "print('''\n",
    "------\n",
    "Series\n",
    "------\n",
    "\n",
    "A Series, by contrast, is a sequence of data values. \n",
    "If a DataFrame is a table, a Series is a list. \n",
    "And in fact you can create one with nothing more than a list.\n",
    "*************************************************************\n",
    "pd.Series([1, 2, 3, 4, 5])\n",
    "*************************************************************\n",
    "\n",
    "''')\n",
    "pd.Series([1, 2, 3, 4, 5])"
   ]
  },
  {
   "cell_type": "code",
   "execution_count": 7,
   "id": "afb6c8bb",
   "metadata": {
    "execution": {
     "iopub.execute_input": "2022-05-19T18:21:38.127001Z",
     "iopub.status.busy": "2022-05-19T18:21:38.126440Z",
     "iopub.status.idle": "2022-05-19T18:21:38.137045Z",
     "shell.execute_reply": "2022-05-19T18:21:38.135906Z"
    },
    "papermill": {
     "duration": 0.033056,
     "end_time": "2022-05-19T18:21:38.139469",
     "exception": false,
     "start_time": "2022-05-19T18:21:38.106413",
     "status": "completed"
    },
    "tags": []
   },
   "outputs": [
    {
     "name": "stdout",
     "output_type": "stream",
     "text": [
      "\n",
      "A Series is, in essence, a single column of a DataFrame. \n",
      "So you can assign row labels to the Series the same way as before, using an index parameter. \n",
      "However, a Series does not have a column name, it only has one overall name:\n",
      "********************************************************************************************\n",
      "pd.Series([30, 35, 40], index=['2015 Sales', '2016 Sales', '2017 Sales'], name='Product A')\n",
      "********************************************************************************************\n",
      "\n"
     ]
    },
    {
     "data": {
      "text/plain": [
       "2015 Sales    30\n",
       "2016 Sales    35\n",
       "2017 Sales    40\n",
       "Name: Product A, dtype: int64"
      ]
     },
     "execution_count": 7,
     "metadata": {},
     "output_type": "execute_result"
    }
   ],
   "source": [
    "print('''\n",
    "A Series is, in essence, a single column of a DataFrame. \n",
    "So you can assign row labels to the Series the same way as before, using an index parameter. \n",
    "However, a Series does not have a column name, it only has one overall name:\n",
    "********************************************************************************************\n",
    "pd.Series([30, 35, 40], index=['2015 Sales', '2016 Sales', '2017 Sales'], name='Product A')\n",
    "********************************************************************************************\n",
    "''')\n",
    "\n",
    "pd.Series([30, 35, 40], index=['2015 Sales', '2016 Sales', '2017 Sales'], name='Product A')"
   ]
  },
  {
   "cell_type": "code",
   "execution_count": 8,
   "id": "ef940ab2",
   "metadata": {
    "execution": {
     "iopub.execute_input": "2022-05-19T18:21:38.178510Z",
     "iopub.status.busy": "2022-05-19T18:21:38.178135Z",
     "iopub.status.idle": "2022-05-19T18:21:38.183167Z",
     "shell.execute_reply": "2022-05-19T18:21:38.182147Z"
    },
    "papermill": {
     "duration": 0.027998,
     "end_time": "2022-05-19T18:21:38.186029",
     "exception": false,
     "start_time": "2022-05-19T18:21:38.158031",
     "status": "completed"
    },
    "tags": []
   },
   "outputs": [
    {
     "name": "stdout",
     "output_type": "stream",
     "text": [
      "\n",
      "The Series and the DataFrame are intimately related. \n",
      "It's helpful to think of a DataFrame as actually being just a bunch of Series \"glued together\". \n",
      "We'll see more of this in the next section of this tutorial.\n",
      "\n"
     ]
    }
   ],
   "source": [
    "print(\n",
    "'''\n",
    "The Series and the DataFrame are intimately related. \n",
    "It's helpful to think of a DataFrame as actually being just a bunch of Series \"glued together\". \n",
    "We'll see more of this in the next section of this tutorial.\n",
    "'''\n",
    ")"
   ]
  },
  {
   "cell_type": "code",
   "execution_count": 9,
   "id": "23279a8d",
   "metadata": {
    "execution": {
     "iopub.execute_input": "2022-05-19T18:21:38.226473Z",
     "iopub.status.busy": "2022-05-19T18:21:38.226083Z",
     "iopub.status.idle": "2022-05-19T18:21:38.231339Z",
     "shell.execute_reply": "2022-05-19T18:21:38.230705Z"
    },
    "papermill": {
     "duration": 0.02966,
     "end_time": "2022-05-19T18:21:38.234854",
     "exception": false,
     "start_time": "2022-05-19T18:21:38.205194",
     "status": "completed"
    },
    "tags": []
   },
   "outputs": [
    {
     "name": "stdout",
     "output_type": "stream",
     "text": [
      "\n",
      "\n",
      "Reading data files\n",
      "-------------------\n",
      "Being able to create a DataFrame or Series by hand is handy. \n",
      "But, most of the time, we won't actually be creating our own data by hand. \n",
      "Instead, we'll be working with data that already exists.\n",
      "\n",
      "Data can be stored in any of a number of different forms and formats. \n",
      "By far the most basic of these is the humble CSV file. \n",
      "When you open a CSV file you get something that looks like this:\n",
      "\n",
      "Product A,Product B,Product C,\n",
      "30,21,9,\n",
      "35,34,1,\n",
      "41,11,11\n",
      "\n",
      "So a CSV file is a table of values separated by commas. Hence the name: \"Comma-Separated Values\", or CSV.\n",
      "\n",
      "Let's now set aside our toy datasets and see what a real dataset looks like when we read it into a DataFrame. \n",
      "We'll use the pd.read_csv() function to read the data into a DataFrame. This goes thusly:\n",
      "\n",
      "\n"
     ]
    }
   ],
   "source": [
    "print('''\n",
    "\n",
    "Reading data files\n",
    "-------------------\n",
    "Being able to create a DataFrame or Series by hand is handy. \n",
    "But, most of the time, we won't actually be creating our own data by hand. \n",
    "Instead, we'll be working with data that already exists.\n",
    "\n",
    "Data can be stored in any of a number of different forms and formats. \n",
    "By far the most basic of these is the humble CSV file. \n",
    "When you open a CSV file you get something that looks like this:\n",
    "\n",
    "Product A,Product B,Product C,\n",
    "30,21,9,\n",
    "35,34,1,\n",
    "41,11,11\n",
    "\n",
    "So a CSV file is a table of values separated by commas. Hence the name: \"Comma-Separated Values\", or CSV.\n",
    "\n",
    "Let's now set aside our toy datasets and see what a real dataset looks like when we read it into a DataFrame. \n",
    "We'll use the pd.read_csv() function to read the data into a DataFrame. This goes thusly:\n",
    "\n",
    "''')"
   ]
  },
  {
   "cell_type": "code",
   "execution_count": 10,
   "id": "fa17bbbd",
   "metadata": {
    "execution": {
     "iopub.execute_input": "2022-05-19T18:21:38.277518Z",
     "iopub.status.busy": "2022-05-19T18:21:38.276970Z",
     "iopub.status.idle": "2022-05-19T18:21:40.334872Z",
     "shell.execute_reply": "2022-05-19T18:21:40.333771Z"
    },
    "papermill": {
     "duration": 2.082293,
     "end_time": "2022-05-19T18:21:40.337897",
     "exception": false,
     "start_time": "2022-05-19T18:21:38.255604",
     "status": "completed"
    },
    "tags": []
   },
   "outputs": [],
   "source": [
    "wine_reviews = pd.read_csv(\"../input/wine-reviews/winemag-data-130k-v2.csv\")"
   ]
  },
  {
   "cell_type": "code",
   "execution_count": 11,
   "id": "b70b4efd",
   "metadata": {
    "execution": {
     "iopub.execute_input": "2022-05-19T18:21:40.379753Z",
     "iopub.status.busy": "2022-05-19T18:21:40.379340Z",
     "iopub.status.idle": "2022-05-19T18:21:40.388100Z",
     "shell.execute_reply": "2022-05-19T18:21:40.386469Z"
    },
    "papermill": {
     "duration": 0.033897,
     "end_time": "2022-05-19T18:21:40.391751",
     "exception": false,
     "start_time": "2022-05-19T18:21:40.357854",
     "status": "completed"
    },
    "tags": []
   },
   "outputs": [
    {
     "name": "stdout",
     "output_type": "stream",
     "text": [
      "\n",
      "We can use the shape attribute to check how large the resulting DataFrame is:\n",
      "wine_reviews.shape\n",
      "\n",
      "\n"
     ]
    },
    {
     "data": {
      "text/plain": [
       "(129971, 14)"
      ]
     },
     "execution_count": 11,
     "metadata": {},
     "output_type": "execute_result"
    }
   ],
   "source": [
    "print('''\n",
    "We can use the shape attribute to check how large the resulting DataFrame is:\n",
    "wine_reviews.shape\n",
    "\n",
    "''')\n",
    "wine_reviews.shape\n"
   ]
  },
  {
   "cell_type": "code",
   "execution_count": null,
   "id": "c7ab1edb",
   "metadata": {
    "papermill": {
     "duration": 0.023182,
     "end_time": "2022-05-19T18:21:40.436353",
     "exception": false,
     "start_time": "2022-05-19T18:21:40.413171",
     "status": "completed"
    },
    "tags": []
   },
   "outputs": [],
   "source": []
  }
 ],
 "metadata": {
  "kernelspec": {
   "display_name": "Python 3",
   "language": "python",
   "name": "python3"
  },
  "language_info": {
   "codemirror_mode": {
    "name": "ipython",
    "version": 3
   },
   "file_extension": ".py",
   "mimetype": "text/x-python",
   "name": "python",
   "nbconvert_exporter": "python",
   "pygments_lexer": "ipython3",
   "version": "3.7.12"
  },
  "papermill": {
   "default_parameters": {},
   "duration": 15.583319,
   "end_time": "2022-05-19T18:21:41.482750",
   "environment_variables": {},
   "exception": null,
   "input_path": "__notebook__.ipynb",
   "output_path": "__notebook__.ipynb",
   "parameters": {},
   "start_time": "2022-05-19T18:21:25.899431",
   "version": "2.3.4"
  }
 },
 "nbformat": 4,
 "nbformat_minor": 5
}
