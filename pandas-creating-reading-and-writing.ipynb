{
 "cells": [
  {
   "cell_type": "code",
   "execution_count": 1,
   "id": "5da6f669",
   "metadata": {
    "_cell_guid": "b1076dfc-b9ad-4769-8c92-a6c4dae69d19",
    "_uuid": "8f2839f25d086af736a60e9eeb907d3b93b6e0e5",
    "execution": {
     "iopub.execute_input": "2022-05-20T13:59:06.479660Z",
     "iopub.status.busy": "2022-05-20T13:59:06.478803Z",
     "iopub.status.idle": "2022-05-20T13:59:06.501601Z",
     "shell.execute_reply": "2022-05-20T13:59:06.500435Z"
    },
    "papermill": {
     "duration": 0.058524,
     "end_time": "2022-05-20T13:59:06.504075",
     "exception": false,
     "start_time": "2022-05-20T13:59:06.445551",
     "status": "completed"
    },
    "tags": []
   },
   "outputs": [
    {
     "name": "stdout",
     "output_type": "stream",
     "text": [
      "/kaggle/input/wine-reviews/winemag-data_first150k.csv\n",
      "/kaggle/input/wine-reviews/winemag-data-130k-v2.json\n",
      "/kaggle/input/wine-reviews/winemag-data-130k-v2.csv\n"
     ]
    }
   ],
   "source": [
    "# This Python 3 environment comes with many helpful analytics libraries installed\n",
    "# It is defined by the kaggle/python Docker image: https://github.com/kaggle/docker-python\n",
    "# For example, here's several helpful packages to load\n",
    "\n",
    "import numpy as np # linear algebra\n",
    "import pandas as pd # data processing, CSV file I/O (e.g. pd.read_csv)\n",
    "\n",
    "# Input data files are available in the read-only \"../input/\" directory\n",
    "# For example, running this (by clicking run or pressing Shift+Enter) will list all files under the input directory\n",
    "\n",
    "import os\n",
    "for dirname, _, filenames in os.walk('/kaggle/input'):\n",
    "    for filename in filenames:\n",
    "        print(os.path.join(dirname, filename))\n",
    "\n",
    "# You can write up to 20GB to the current directory (/kaggle/working/) that gets preserved as output when you create a version using \"Save & Run All\" \n",
    "# You can also write temporary files to /kaggle/temp/, but they won't be saved outside of the current session"
   ]
  },
  {
   "cell_type": "code",
   "execution_count": 2,
   "id": "9497846e",
   "metadata": {
    "execution": {
     "iopub.execute_input": "2022-05-20T13:59:06.567931Z",
     "iopub.status.busy": "2022-05-20T13:59:06.567379Z",
     "iopub.status.idle": "2022-05-20T13:59:06.572598Z",
     "shell.execute_reply": "2022-05-20T13:59:06.571443Z"
    },
    "papermill": {
     "duration": 0.03882,
     "end_time": "2022-05-20T13:59:06.574515",
     "exception": false,
     "start_time": "2022-05-20T13:59:06.535695",
     "status": "completed"
    },
    "tags": []
   },
   "outputs": [
    {
     "name": "stdout",
     "output_type": "stream",
     "text": [
      "\n",
      "Creating data\n",
      "-------------\n",
      "\n",
      "There are two core objects in pandas: the DataFrame and the Series.\n",
      "\n",
      "A DataFrame is a table\n",
      "----------------------\n",
      "It contains an array of individual entries, each of which has a certain value. \n",
      "Each entry corresponds to a row (or record) and a column.\n",
      "\n",
      "\n"
     ]
    }
   ],
   "source": [
    "print('''\n",
    "Creating data\n",
    "-------------\n",
    "\n",
    "There are two core objects in pandas: the DataFrame and the Series.\n",
    "\n",
    "A DataFrame is a table\n",
    "----------------------\n",
    "It contains an array of individual entries, each of which has a certain value. \n",
    "Each entry corresponds to a row (or record) and a column.\n",
    "\n",
    "''')"
   ]
  },
  {
   "cell_type": "code",
   "execution_count": 3,
   "id": "4340ae52",
   "metadata": {
    "execution": {
     "iopub.execute_input": "2022-05-20T13:59:06.638291Z",
     "iopub.status.busy": "2022-05-20T13:59:06.637573Z",
     "iopub.status.idle": "2022-05-20T13:59:06.660478Z",
     "shell.execute_reply": "2022-05-20T13:59:06.659754Z"
    },
    "papermill": {
     "duration": 0.058015,
     "end_time": "2022-05-20T13:59:06.662917",
     "exception": false,
     "start_time": "2022-05-20T13:59:06.604902",
     "status": "completed"
    },
    "tags": []
   },
   "outputs": [
    {
     "name": "stdout",
     "output_type": "stream",
     "text": [
      "\n",
      "In this example, the \"0, No\" entry has the value of 131. \n",
      "The \"0, Yes\" entry has a value of 50, and so on.\n",
      "********************************************************\n",
      "pd.DataFrame({'Yes': [50, 21], 'No': [131, 2]})\n",
      "********************************************************\n",
      "\n"
     ]
    },
    {
     "data": {
      "text/html": [
       "<div>\n",
       "<style scoped>\n",
       "    .dataframe tbody tr th:only-of-type {\n",
       "        vertical-align: middle;\n",
       "    }\n",
       "\n",
       "    .dataframe tbody tr th {\n",
       "        vertical-align: top;\n",
       "    }\n",
       "\n",
       "    .dataframe thead th {\n",
       "        text-align: right;\n",
       "    }\n",
       "</style>\n",
       "<table border=\"1\" class=\"dataframe\">\n",
       "  <thead>\n",
       "    <tr style=\"text-align: right;\">\n",
       "      <th></th>\n",
       "      <th>Yes</th>\n",
       "      <th>No</th>\n",
       "    </tr>\n",
       "  </thead>\n",
       "  <tbody>\n",
       "    <tr>\n",
       "      <th>0</th>\n",
       "      <td>50</td>\n",
       "      <td>131</td>\n",
       "    </tr>\n",
       "    <tr>\n",
       "      <th>1</th>\n",
       "      <td>21</td>\n",
       "      <td>2</td>\n",
       "    </tr>\n",
       "  </tbody>\n",
       "</table>\n",
       "</div>"
      ],
      "text/plain": [
       "   Yes   No\n",
       "0   50  131\n",
       "1   21    2"
      ]
     },
     "execution_count": 3,
     "metadata": {},
     "output_type": "execute_result"
    }
   ],
   "source": [
    "print('''\n",
    "In this example, the \"0, No\" entry has the value of 131. \n",
    "The \"0, Yes\" entry has a value of 50, and so on.\n",
    "********************************************************\n",
    "pd.DataFrame({'Yes': [50, 21], 'No': [131, 2]})\n",
    "********************************************************\n",
    "''')\n",
    "\n",
    "pd.DataFrame({'Yes': [50, 21], 'No': [131, 2]})"
   ]
  },
  {
   "cell_type": "code",
   "execution_count": 4,
   "id": "3b996285",
   "metadata": {
    "execution": {
     "iopub.execute_input": "2022-05-20T13:59:06.727958Z",
     "iopub.status.busy": "2022-05-20T13:59:06.727410Z",
     "iopub.status.idle": "2022-05-20T13:59:06.738540Z",
     "shell.execute_reply": "2022-05-20T13:59:06.737627Z"
    },
    "papermill": {
     "duration": 0.046106,
     "end_time": "2022-05-20T13:59:06.740713",
     "exception": false,
     "start_time": "2022-05-20T13:59:06.694607",
     "status": "completed"
    },
    "tags": []
   },
   "outputs": [
    {
     "name": "stdout",
     "output_type": "stream",
     "text": [
      "\n",
      "DataFrame entries are not limited to integers. \n",
      "For instance, here's a DataFrame whose values are strings:\n",
      "******************************************************************************************\n",
      "pd.DataFrame({'Bob': ['I liked it.', 'It was awful.'], 'Sue': ['Pretty good.', 'Bland.']})\n",
      "******************************************************************************************\n",
      "\n"
     ]
    },
    {
     "data": {
      "text/html": [
       "<div>\n",
       "<style scoped>\n",
       "    .dataframe tbody tr th:only-of-type {\n",
       "        vertical-align: middle;\n",
       "    }\n",
       "\n",
       "    .dataframe tbody tr th {\n",
       "        vertical-align: top;\n",
       "    }\n",
       "\n",
       "    .dataframe thead th {\n",
       "        text-align: right;\n",
       "    }\n",
       "</style>\n",
       "<table border=\"1\" class=\"dataframe\">\n",
       "  <thead>\n",
       "    <tr style=\"text-align: right;\">\n",
       "      <th></th>\n",
       "      <th>Bob</th>\n",
       "      <th>Sue</th>\n",
       "    </tr>\n",
       "  </thead>\n",
       "  <tbody>\n",
       "    <tr>\n",
       "      <th>0</th>\n",
       "      <td>I liked it.</td>\n",
       "      <td>Pretty good.</td>\n",
       "    </tr>\n",
       "    <tr>\n",
       "      <th>1</th>\n",
       "      <td>It was awful.</td>\n",
       "      <td>Bland.</td>\n",
       "    </tr>\n",
       "  </tbody>\n",
       "</table>\n",
       "</div>"
      ],
      "text/plain": [
       "             Bob           Sue\n",
       "0    I liked it.  Pretty good.\n",
       "1  It was awful.        Bland."
      ]
     },
     "execution_count": 4,
     "metadata": {},
     "output_type": "execute_result"
    }
   ],
   "source": [
    "print('''\n",
    "DataFrame entries are not limited to integers. \n",
    "For instance, here's a DataFrame whose values are strings:\n",
    "******************************************************************************************\n",
    "pd.DataFrame({'Bob': ['I liked it.', 'It was awful.'], 'Sue': ['Pretty good.', 'Bland.']})\n",
    "******************************************************************************************\n",
    "''')\n",
    "\n",
    "pd.DataFrame({'Bob': ['I liked it.', 'It was awful.'], 'Sue': ['Pretty good.', 'Bland.']})"
   ]
  },
  {
   "cell_type": "code",
   "execution_count": 5,
   "id": "d2becdaf",
   "metadata": {
    "execution": {
     "iopub.execute_input": "2022-05-20T13:59:06.807637Z",
     "iopub.status.busy": "2022-05-20T13:59:06.807117Z",
     "iopub.status.idle": "2022-05-20T13:59:06.819045Z",
     "shell.execute_reply": "2022-05-20T13:59:06.818419Z"
    },
    "papermill": {
     "duration": 0.049555,
     "end_time": "2022-05-20T13:59:06.823383",
     "exception": false,
     "start_time": "2022-05-20T13:59:06.773828",
     "status": "completed"
    },
    "tags": []
   },
   "outputs": [
    {
     "name": "stdout",
     "output_type": "stream",
     "text": [
      "\n",
      "The list of row labels used in a DataFrame is known as an Index. \n",
      "We can assign values to it by using an index parameter in our constructor:\n",
      "*********************************************************************************************\n",
      "pd.DataFrame({'Bob': ['I liked it.', 'It was awful.'], \n",
      "              'Sue': ['Pretty good.', 'Bland.']},\n",
      "             index=['Product A', 'Product B'])\n",
      "*********************************************************************************************\n",
      "\n"
     ]
    },
    {
     "data": {
      "text/html": [
       "<div>\n",
       "<style scoped>\n",
       "    .dataframe tbody tr th:only-of-type {\n",
       "        vertical-align: middle;\n",
       "    }\n",
       "\n",
       "    .dataframe tbody tr th {\n",
       "        vertical-align: top;\n",
       "    }\n",
       "\n",
       "    .dataframe thead th {\n",
       "        text-align: right;\n",
       "    }\n",
       "</style>\n",
       "<table border=\"1\" class=\"dataframe\">\n",
       "  <thead>\n",
       "    <tr style=\"text-align: right;\">\n",
       "      <th></th>\n",
       "      <th>Bob</th>\n",
       "      <th>Sue</th>\n",
       "    </tr>\n",
       "  </thead>\n",
       "  <tbody>\n",
       "    <tr>\n",
       "      <th>Product A</th>\n",
       "      <td>I liked it.</td>\n",
       "      <td>Pretty good.</td>\n",
       "    </tr>\n",
       "    <tr>\n",
       "      <th>Product B</th>\n",
       "      <td>It was awful.</td>\n",
       "      <td>Bland.</td>\n",
       "    </tr>\n",
       "  </tbody>\n",
       "</table>\n",
       "</div>"
      ],
      "text/plain": [
       "                     Bob           Sue\n",
       "Product A    I liked it.  Pretty good.\n",
       "Product B  It was awful.        Bland."
      ]
     },
     "execution_count": 5,
     "metadata": {},
     "output_type": "execute_result"
    }
   ],
   "source": [
    "print('''\n",
    "The list of row labels used in a DataFrame is known as an Index. \n",
    "We can assign values to it by using an index parameter in our constructor:\n",
    "*********************************************************************************************\n",
    "pd.DataFrame({'Bob': ['I liked it.', 'It was awful.'], \n",
    "              'Sue': ['Pretty good.', 'Bland.']},\n",
    "             index=['Product A', 'Product B'])\n",
    "*********************************************************************************************\n",
    "''')\n",
    "\n",
    "pd.DataFrame({'Bob': ['I liked it.', 'It was awful.'], \n",
    "              'Sue': ['Pretty good.', 'Bland.']},\n",
    "             index=['Product A', 'Product B'])"
   ]
  },
  {
   "cell_type": "code",
   "execution_count": 6,
   "id": "97949184",
   "metadata": {
    "execution": {
     "iopub.execute_input": "2022-05-20T13:59:06.892892Z",
     "iopub.status.busy": "2022-05-20T13:59:06.892406Z",
     "iopub.status.idle": "2022-05-20T13:59:06.900830Z",
     "shell.execute_reply": "2022-05-20T13:59:06.899477Z"
    },
    "papermill": {
     "duration": 0.045496,
     "end_time": "2022-05-20T13:59:06.902879",
     "exception": false,
     "start_time": "2022-05-20T13:59:06.857383",
     "status": "completed"
    },
    "tags": []
   },
   "outputs": [
    {
     "name": "stdout",
     "output_type": "stream",
     "text": [
      "\n",
      "------\n",
      "Series\n",
      "------\n",
      "\n",
      "A Series, by contrast, is a sequence of data values. \n",
      "If a DataFrame is a table, a Series is a list. \n",
      "And in fact you can create one with nothing more than a list.\n",
      "*************************************************************\n",
      "pd.Series([1, 2, 3, 4, 5])\n",
      "*************************************************************\n",
      "\n",
      "\n"
     ]
    },
    {
     "data": {
      "text/plain": [
       "0    1\n",
       "1    2\n",
       "2    3\n",
       "3    4\n",
       "4    5\n",
       "dtype: int64"
      ]
     },
     "execution_count": 6,
     "metadata": {},
     "output_type": "execute_result"
    }
   ],
   "source": [
    "print('''\n",
    "------\n",
    "Series\n",
    "------\n",
    "\n",
    "A Series, by contrast, is a sequence of data values. \n",
    "If a DataFrame is a table, a Series is a list. \n",
    "And in fact you can create one with nothing more than a list.\n",
    "*************************************************************\n",
    "pd.Series([1, 2, 3, 4, 5])\n",
    "*************************************************************\n",
    "\n",
    "''')\n",
    "pd.Series([1, 2, 3, 4, 5])"
   ]
  },
  {
   "cell_type": "code",
   "execution_count": 7,
   "id": "214c1e30",
   "metadata": {
    "execution": {
     "iopub.execute_input": "2022-05-20T13:59:06.974783Z",
     "iopub.status.busy": "2022-05-20T13:59:06.974396Z",
     "iopub.status.idle": "2022-05-20T13:59:06.984377Z",
     "shell.execute_reply": "2022-05-20T13:59:06.983265Z"
    },
    "papermill": {
     "duration": 0.047711,
     "end_time": "2022-05-20T13:59:06.986693",
     "exception": false,
     "start_time": "2022-05-20T13:59:06.938982",
     "status": "completed"
    },
    "tags": []
   },
   "outputs": [
    {
     "name": "stdout",
     "output_type": "stream",
     "text": [
      "\n",
      "A Series is, in essence, a single column of a DataFrame. \n",
      "So you can assign row labels to the Series the same way as before, using an index parameter. \n",
      "However, a Series does not have a column name, it only has one overall name:\n",
      "********************************************************************************************\n",
      "pd.Series([30, 35, 40], index=['2015 Sales', '2016 Sales', '2017 Sales'], name='Product A')\n",
      "********************************************************************************************\n",
      "\n"
     ]
    },
    {
     "data": {
      "text/plain": [
       "2015 Sales    30\n",
       "2016 Sales    35\n",
       "2017 Sales    40\n",
       "Name: Product A, dtype: int64"
      ]
     },
     "execution_count": 7,
     "metadata": {},
     "output_type": "execute_result"
    }
   ],
   "source": [
    "print('''\n",
    "A Series is, in essence, a single column of a DataFrame. \n",
    "So you can assign row labels to the Series the same way as before, using an index parameter. \n",
    "However, a Series does not have a column name, it only has one overall name:\n",
    "********************************************************************************************\n",
    "pd.Series([30, 35, 40], index=['2015 Sales', '2016 Sales', '2017 Sales'], name='Product A')\n",
    "********************************************************************************************\n",
    "''')\n",
    "\n",
    "pd.Series([30, 35, 40], index=['2015 Sales', '2016 Sales', '2017 Sales'], name='Product A')"
   ]
  },
  {
   "cell_type": "code",
   "execution_count": 8,
   "id": "13749160",
   "metadata": {
    "execution": {
     "iopub.execute_input": "2022-05-20T13:59:07.060641Z",
     "iopub.status.busy": "2022-05-20T13:59:07.060033Z",
     "iopub.status.idle": "2022-05-20T13:59:07.065548Z",
     "shell.execute_reply": "2022-05-20T13:59:07.064734Z"
    },
    "papermill": {
     "duration": 0.044996,
     "end_time": "2022-05-20T13:59:07.068202",
     "exception": false,
     "start_time": "2022-05-20T13:59:07.023206",
     "status": "completed"
    },
    "tags": []
   },
   "outputs": [
    {
     "name": "stdout",
     "output_type": "stream",
     "text": [
      "\n",
      "The Series and the DataFrame are intimately related. \n",
      "It's helpful to think of a DataFrame as actually being just a bunch of Series \"glued together\". \n",
      "We'll see more of this in the next section of this tutorial.\n",
      "\n"
     ]
    }
   ],
   "source": [
    "print(\n",
    "'''\n",
    "The Series and the DataFrame are intimately related. \n",
    "It's helpful to think of a DataFrame as actually being just a bunch of Series \"glued together\". \n",
    "We'll see more of this in the next section of this tutorial.\n",
    "'''\n",
    ")"
   ]
  },
  {
   "cell_type": "code",
   "execution_count": 9,
   "id": "931672fe",
   "metadata": {
    "execution": {
     "iopub.execute_input": "2022-05-20T13:59:07.141046Z",
     "iopub.status.busy": "2022-05-20T13:59:07.140230Z",
     "iopub.status.idle": "2022-05-20T13:59:07.145805Z",
     "shell.execute_reply": "2022-05-20T13:59:07.145216Z"
    },
    "papermill": {
     "duration": 0.043811,
     "end_time": "2022-05-20T13:59:07.147965",
     "exception": false,
     "start_time": "2022-05-20T13:59:07.104154",
     "status": "completed"
    },
    "tags": []
   },
   "outputs": [
    {
     "name": "stdout",
     "output_type": "stream",
     "text": [
      "\n",
      "\n",
      "Reading data files\n",
      "-------------------\n",
      "Being able to create a DataFrame or Series by hand is handy. \n",
      "But, most of the time, we won't actually be creating our own data by hand. \n",
      "Instead, we'll be working with data that already exists.\n",
      "\n",
      "Data can be stored in any of a number of different forms and formats. \n",
      "By far the most basic of these is the humble CSV file. \n",
      "When you open a CSV file you get something that looks like this:\n",
      "\n",
      "Product A,Product B,Product C,\n",
      "30,21,9,\n",
      "35,34,1,\n",
      "41,11,11\n",
      "\n",
      "So a CSV file is a table of values separated by commas. Hence the name: \"Comma-Separated Values\", or CSV.\n",
      "\n",
      "Let's now set aside our toy datasets and see what a real dataset looks like when we read it into a DataFrame. \n",
      "We'll use the pd.read_csv() function to read the data into a DataFrame. This goes thusly:\n",
      "\n",
      "\n"
     ]
    }
   ],
   "source": [
    "print('''\n",
    "\n",
    "Reading data files\n",
    "-------------------\n",
    "Being able to create a DataFrame or Series by hand is handy. \n",
    "But, most of the time, we won't actually be creating our own data by hand. \n",
    "Instead, we'll be working with data that already exists.\n",
    "\n",
    "Data can be stored in any of a number of different forms and formats. \n",
    "By far the most basic of these is the humble CSV file. \n",
    "When you open a CSV file you get something that looks like this:\n",
    "\n",
    "Product A,Product B,Product C,\n",
    "30,21,9,\n",
    "35,34,1,\n",
    "41,11,11\n",
    "\n",
    "So a CSV file is a table of values separated by commas. Hence the name: \"Comma-Separated Values\", or CSV.\n",
    "\n",
    "Let's now set aside our toy datasets and see what a real dataset looks like when we read it into a DataFrame. \n",
    "We'll use the pd.read_csv() function to read the data into a DataFrame. This goes thusly:\n",
    "\n",
    "''')"
   ]
  },
  {
   "cell_type": "code",
   "execution_count": 10,
   "id": "7fc90aa9",
   "metadata": {
    "execution": {
     "iopub.execute_input": "2022-05-20T13:59:07.222263Z",
     "iopub.status.busy": "2022-05-20T13:59:07.221695Z",
     "iopub.status.idle": "2022-05-20T13:59:09.033366Z",
     "shell.execute_reply": "2022-05-20T13:59:09.032713Z"
    },
    "papermill": {
     "duration": 1.850662,
     "end_time": "2022-05-20T13:59:09.035718",
     "exception": false,
     "start_time": "2022-05-20T13:59:07.185056",
     "status": "completed"
    },
    "tags": []
   },
   "outputs": [],
   "source": [
    "# wine_reviews: this the variable in which we have loaded the whole dataset.\n",
    "wine_reviews = pd.read_csv(\"../input/wine-reviews/winemag-data-130k-v2.csv\")"
   ]
  },
  {
   "cell_type": "code",
   "execution_count": 11,
   "id": "e60a48e6",
   "metadata": {
    "execution": {
     "iopub.execute_input": "2022-05-20T13:59:09.109307Z",
     "iopub.status.busy": "2022-05-20T13:59:09.108761Z",
     "iopub.status.idle": "2022-05-20T13:59:09.114702Z",
     "shell.execute_reply": "2022-05-20T13:59:09.114040Z"
    },
    "papermill": {
     "duration": 0.04494,
     "end_time": "2022-05-20T13:59:09.116534",
     "exception": false,
     "start_time": "2022-05-20T13:59:09.071594",
     "status": "completed"
    },
    "tags": []
   },
   "outputs": [
    {
     "name": "stdout",
     "output_type": "stream",
     "text": [
      "\n",
      "We can use the shape attribute to check how large the resulting DataFrame is:\n",
      "wine_reviews.shape\n",
      "It will print data rows and columns in the data frame loaded in to pd\n",
      "wine_reviews.shape\n",
      "\n"
     ]
    },
    {
     "data": {
      "text/plain": [
       "(129971, 14)"
      ]
     },
     "execution_count": 11,
     "metadata": {},
     "output_type": "execute_result"
    }
   ],
   "source": [
    "print('''\n",
    "We can use the shape attribute to check how large the resulting DataFrame is:\n",
    "wine_reviews.shape\n",
    "It will print data rows and columns in the data frame loaded in to pd\n",
    "wine_reviews.shape\n",
    "''')\n",
    "wine_reviews.shape\n"
   ]
  },
  {
   "cell_type": "code",
   "execution_count": 12,
   "id": "60acc77a",
   "metadata": {
    "execution": {
     "iopub.execute_input": "2022-05-20T13:59:09.193193Z",
     "iopub.status.busy": "2022-05-20T13:59:09.192659Z",
     "iopub.status.idle": "2022-05-20T13:59:09.197104Z",
     "shell.execute_reply": "2022-05-20T13:59:09.196082Z"
    },
    "papermill": {
     "duration": 0.046325,
     "end_time": "2022-05-20T13:59:09.199429",
     "exception": false,
     "start_time": "2022-05-20T13:59:09.153104",
     "status": "completed"
    },
    "tags": []
   },
   "outputs": [
    {
     "name": "stdout",
     "output_type": "stream",
     "text": [
      "\n",
      "So our new DataFrame has 130,000 records split across 14 different columns. \n",
      "That's almost 2 million entries!\n",
      "We can examine the contents of the resultant DataFrame using the head() command, which grabs the first five rows:\n",
      "\n"
     ]
    }
   ],
   "source": [
    "print('''\n",
    "So our new DataFrame has 130,000 records split across 14 different columns. \n",
    "That's almost 2 million entries!\n",
    "We can examine the contents of the resultant DataFrame using the head() command, which grabs the first five rows:\n",
    "''')\n"
   ]
  },
  {
   "cell_type": "code",
   "execution_count": 13,
   "id": "a9c57240",
   "metadata": {
    "execution": {
     "iopub.execute_input": "2022-05-20T13:59:09.275977Z",
     "iopub.status.busy": "2022-05-20T13:59:09.275523Z",
     "iopub.status.idle": "2022-05-20T13:59:09.292630Z",
     "shell.execute_reply": "2022-05-20T13:59:09.292047Z"
    },
    "papermill": {
     "duration": 0.057028,
     "end_time": "2022-05-20T13:59:09.294493",
     "exception": false,
     "start_time": "2022-05-20T13:59:09.237465",
     "status": "completed"
    },
    "tags": []
   },
   "outputs": [
    {
     "data": {
      "text/html": [
       "<div>\n",
       "<style scoped>\n",
       "    .dataframe tbody tr th:only-of-type {\n",
       "        vertical-align: middle;\n",
       "    }\n",
       "\n",
       "    .dataframe tbody tr th {\n",
       "        vertical-align: top;\n",
       "    }\n",
       "\n",
       "    .dataframe thead th {\n",
       "        text-align: right;\n",
       "    }\n",
       "</style>\n",
       "<table border=\"1\" class=\"dataframe\">\n",
       "  <thead>\n",
       "    <tr style=\"text-align: right;\">\n",
       "      <th></th>\n",
       "      <th>Unnamed: 0</th>\n",
       "      <th>country</th>\n",
       "      <th>description</th>\n",
       "      <th>designation</th>\n",
       "      <th>points</th>\n",
       "      <th>price</th>\n",
       "      <th>province</th>\n",
       "      <th>region_1</th>\n",
       "      <th>region_2</th>\n",
       "      <th>taster_name</th>\n",
       "      <th>taster_twitter_handle</th>\n",
       "      <th>title</th>\n",
       "      <th>variety</th>\n",
       "      <th>winery</th>\n",
       "    </tr>\n",
       "  </thead>\n",
       "  <tbody>\n",
       "    <tr>\n",
       "      <th>0</th>\n",
       "      <td>0</td>\n",
       "      <td>Italy</td>\n",
       "      <td>Aromas include tropical fruit, broom, brimston...</td>\n",
       "      <td>Vulkà Bianco</td>\n",
       "      <td>87</td>\n",
       "      <td>NaN</td>\n",
       "      <td>Sicily &amp; Sardinia</td>\n",
       "      <td>Etna</td>\n",
       "      <td>NaN</td>\n",
       "      <td>Kerin O’Keefe</td>\n",
       "      <td>@kerinokeefe</td>\n",
       "      <td>Nicosia 2013 Vulkà Bianco  (Etna)</td>\n",
       "      <td>White Blend</td>\n",
       "      <td>Nicosia</td>\n",
       "    </tr>\n",
       "    <tr>\n",
       "      <th>1</th>\n",
       "      <td>1</td>\n",
       "      <td>Portugal</td>\n",
       "      <td>This is ripe and fruity, a wine that is smooth...</td>\n",
       "      <td>Avidagos</td>\n",
       "      <td>87</td>\n",
       "      <td>15.0</td>\n",
       "      <td>Douro</td>\n",
       "      <td>NaN</td>\n",
       "      <td>NaN</td>\n",
       "      <td>Roger Voss</td>\n",
       "      <td>@vossroger</td>\n",
       "      <td>Quinta dos Avidagos 2011 Avidagos Red (Douro)</td>\n",
       "      <td>Portuguese Red</td>\n",
       "      <td>Quinta dos Avidagos</td>\n",
       "    </tr>\n",
       "    <tr>\n",
       "      <th>2</th>\n",
       "      <td>2</td>\n",
       "      <td>US</td>\n",
       "      <td>Tart and snappy, the flavors of lime flesh and...</td>\n",
       "      <td>NaN</td>\n",
       "      <td>87</td>\n",
       "      <td>14.0</td>\n",
       "      <td>Oregon</td>\n",
       "      <td>Willamette Valley</td>\n",
       "      <td>Willamette Valley</td>\n",
       "      <td>Paul Gregutt</td>\n",
       "      <td>@paulgwine</td>\n",
       "      <td>Rainstorm 2013 Pinot Gris (Willamette Valley)</td>\n",
       "      <td>Pinot Gris</td>\n",
       "      <td>Rainstorm</td>\n",
       "    </tr>\n",
       "    <tr>\n",
       "      <th>3</th>\n",
       "      <td>3</td>\n",
       "      <td>US</td>\n",
       "      <td>Pineapple rind, lemon pith and orange blossom ...</td>\n",
       "      <td>Reserve Late Harvest</td>\n",
       "      <td>87</td>\n",
       "      <td>13.0</td>\n",
       "      <td>Michigan</td>\n",
       "      <td>Lake Michigan Shore</td>\n",
       "      <td>NaN</td>\n",
       "      <td>Alexander Peartree</td>\n",
       "      <td>NaN</td>\n",
       "      <td>St. Julian 2013 Reserve Late Harvest Riesling ...</td>\n",
       "      <td>Riesling</td>\n",
       "      <td>St. Julian</td>\n",
       "    </tr>\n",
       "    <tr>\n",
       "      <th>4</th>\n",
       "      <td>4</td>\n",
       "      <td>US</td>\n",
       "      <td>Much like the regular bottling from 2012, this...</td>\n",
       "      <td>Vintner's Reserve Wild Child Block</td>\n",
       "      <td>87</td>\n",
       "      <td>65.0</td>\n",
       "      <td>Oregon</td>\n",
       "      <td>Willamette Valley</td>\n",
       "      <td>Willamette Valley</td>\n",
       "      <td>Paul Gregutt</td>\n",
       "      <td>@paulgwine</td>\n",
       "      <td>Sweet Cheeks 2012 Vintner's Reserve Wild Child...</td>\n",
       "      <td>Pinot Noir</td>\n",
       "      <td>Sweet Cheeks</td>\n",
       "    </tr>\n",
       "  </tbody>\n",
       "</table>\n",
       "</div>"
      ],
      "text/plain": [
       "   Unnamed: 0   country                                        description  \\\n",
       "0           0     Italy  Aromas include tropical fruit, broom, brimston...   \n",
       "1           1  Portugal  This is ripe and fruity, a wine that is smooth...   \n",
       "2           2        US  Tart and snappy, the flavors of lime flesh and...   \n",
       "3           3        US  Pineapple rind, lemon pith and orange blossom ...   \n",
       "4           4        US  Much like the regular bottling from 2012, this...   \n",
       "\n",
       "                          designation  points  price           province  \\\n",
       "0                        Vulkà Bianco      87    NaN  Sicily & Sardinia   \n",
       "1                            Avidagos      87   15.0              Douro   \n",
       "2                                 NaN      87   14.0             Oregon   \n",
       "3                Reserve Late Harvest      87   13.0           Michigan   \n",
       "4  Vintner's Reserve Wild Child Block      87   65.0             Oregon   \n",
       "\n",
       "              region_1           region_2         taster_name  \\\n",
       "0                 Etna                NaN       Kerin O’Keefe   \n",
       "1                  NaN                NaN          Roger Voss   \n",
       "2    Willamette Valley  Willamette Valley        Paul Gregutt   \n",
       "3  Lake Michigan Shore                NaN  Alexander Peartree   \n",
       "4    Willamette Valley  Willamette Valley        Paul Gregutt   \n",
       "\n",
       "  taster_twitter_handle                                              title  \\\n",
       "0          @kerinokeefe                  Nicosia 2013 Vulkà Bianco  (Etna)   \n",
       "1            @vossroger      Quinta dos Avidagos 2011 Avidagos Red (Douro)   \n",
       "2           @paulgwine       Rainstorm 2013 Pinot Gris (Willamette Valley)   \n",
       "3                   NaN  St. Julian 2013 Reserve Late Harvest Riesling ...   \n",
       "4           @paulgwine   Sweet Cheeks 2012 Vintner's Reserve Wild Child...   \n",
       "\n",
       "          variety               winery  \n",
       "0     White Blend              Nicosia  \n",
       "1  Portuguese Red  Quinta dos Avidagos  \n",
       "2      Pinot Gris            Rainstorm  \n",
       "3        Riesling           St. Julian  \n",
       "4      Pinot Noir         Sweet Cheeks  "
      ]
     },
     "execution_count": 13,
     "metadata": {},
     "output_type": "execute_result"
    }
   ],
   "source": [
    "wine_reviews.head()"
   ]
  },
  {
   "cell_type": "code",
   "execution_count": 14,
   "id": "eb4bc83e",
   "metadata": {
    "execution": {
     "iopub.execute_input": "2022-05-20T13:59:09.371743Z",
     "iopub.status.busy": "2022-05-20T13:59:09.371245Z",
     "iopub.status.idle": "2022-05-20T13:59:10.457816Z",
     "shell.execute_reply": "2022-05-20T13:59:10.457010Z"
    },
    "papermill": {
     "duration": 1.128132,
     "end_time": "2022-05-20T13:59:10.460084",
     "exception": false,
     "start_time": "2022-05-20T13:59:09.331952",
     "status": "completed"
    },
    "tags": []
   },
   "outputs": [
    {
     "name": "stdout",
     "output_type": "stream",
     "text": [
      "\n",
      "The pd.read_csv() function is well-endowed, with over 30 optional parameters you can specify. \n",
      "For example, you can see in this dataset that the CSV file has a built-in index, \n",
      "which pandas did not pick up on automatically. \n",
      "To make pandas use that column for the index (instead of creating a new one from scratch), we can specify an index_col.\n",
      "\n",
      "\n",
      "***********************************************************************************************************************\n",
      "by using index_col=0 the additional column unamed is not loaded into the data as it was when we load the data with\n",
      "\n",
      "\n",
      "wine_reviews = pd.read_csv(\"../input/wine-reviews/winemag-data-130k-v2.csv\")\n",
      "************************************************************************************************************************\n",
      "\n"
     ]
    },
    {
     "data": {
      "text/html": [
       "<div>\n",
       "<style scoped>\n",
       "    .dataframe tbody tr th:only-of-type {\n",
       "        vertical-align: middle;\n",
       "    }\n",
       "\n",
       "    .dataframe tbody tr th {\n",
       "        vertical-align: top;\n",
       "    }\n",
       "\n",
       "    .dataframe thead th {\n",
       "        text-align: right;\n",
       "    }\n",
       "</style>\n",
       "<table border=\"1\" class=\"dataframe\">\n",
       "  <thead>\n",
       "    <tr style=\"text-align: right;\">\n",
       "      <th></th>\n",
       "      <th>country</th>\n",
       "      <th>description</th>\n",
       "      <th>designation</th>\n",
       "      <th>points</th>\n",
       "      <th>price</th>\n",
       "      <th>province</th>\n",
       "      <th>region_1</th>\n",
       "      <th>region_2</th>\n",
       "      <th>taster_name</th>\n",
       "      <th>taster_twitter_handle</th>\n",
       "      <th>title</th>\n",
       "      <th>variety</th>\n",
       "      <th>winery</th>\n",
       "    </tr>\n",
       "  </thead>\n",
       "  <tbody>\n",
       "    <tr>\n",
       "      <th>0</th>\n",
       "      <td>Italy</td>\n",
       "      <td>Aromas include tropical fruit, broom, brimston...</td>\n",
       "      <td>Vulkà Bianco</td>\n",
       "      <td>87</td>\n",
       "      <td>NaN</td>\n",
       "      <td>Sicily &amp; Sardinia</td>\n",
       "      <td>Etna</td>\n",
       "      <td>NaN</td>\n",
       "      <td>Kerin O’Keefe</td>\n",
       "      <td>@kerinokeefe</td>\n",
       "      <td>Nicosia 2013 Vulkà Bianco  (Etna)</td>\n",
       "      <td>White Blend</td>\n",
       "      <td>Nicosia</td>\n",
       "    </tr>\n",
       "    <tr>\n",
       "      <th>1</th>\n",
       "      <td>Portugal</td>\n",
       "      <td>This is ripe and fruity, a wine that is smooth...</td>\n",
       "      <td>Avidagos</td>\n",
       "      <td>87</td>\n",
       "      <td>15.0</td>\n",
       "      <td>Douro</td>\n",
       "      <td>NaN</td>\n",
       "      <td>NaN</td>\n",
       "      <td>Roger Voss</td>\n",
       "      <td>@vossroger</td>\n",
       "      <td>Quinta dos Avidagos 2011 Avidagos Red (Douro)</td>\n",
       "      <td>Portuguese Red</td>\n",
       "      <td>Quinta dos Avidagos</td>\n",
       "    </tr>\n",
       "    <tr>\n",
       "      <th>2</th>\n",
       "      <td>US</td>\n",
       "      <td>Tart and snappy, the flavors of lime flesh and...</td>\n",
       "      <td>NaN</td>\n",
       "      <td>87</td>\n",
       "      <td>14.0</td>\n",
       "      <td>Oregon</td>\n",
       "      <td>Willamette Valley</td>\n",
       "      <td>Willamette Valley</td>\n",
       "      <td>Paul Gregutt</td>\n",
       "      <td>@paulgwine</td>\n",
       "      <td>Rainstorm 2013 Pinot Gris (Willamette Valley)</td>\n",
       "      <td>Pinot Gris</td>\n",
       "      <td>Rainstorm</td>\n",
       "    </tr>\n",
       "    <tr>\n",
       "      <th>3</th>\n",
       "      <td>US</td>\n",
       "      <td>Pineapple rind, lemon pith and orange blossom ...</td>\n",
       "      <td>Reserve Late Harvest</td>\n",
       "      <td>87</td>\n",
       "      <td>13.0</td>\n",
       "      <td>Michigan</td>\n",
       "      <td>Lake Michigan Shore</td>\n",
       "      <td>NaN</td>\n",
       "      <td>Alexander Peartree</td>\n",
       "      <td>NaN</td>\n",
       "      <td>St. Julian 2013 Reserve Late Harvest Riesling ...</td>\n",
       "      <td>Riesling</td>\n",
       "      <td>St. Julian</td>\n",
       "    </tr>\n",
       "    <tr>\n",
       "      <th>4</th>\n",
       "      <td>US</td>\n",
       "      <td>Much like the regular bottling from 2012, this...</td>\n",
       "      <td>Vintner's Reserve Wild Child Block</td>\n",
       "      <td>87</td>\n",
       "      <td>65.0</td>\n",
       "      <td>Oregon</td>\n",
       "      <td>Willamette Valley</td>\n",
       "      <td>Willamette Valley</td>\n",
       "      <td>Paul Gregutt</td>\n",
       "      <td>@paulgwine</td>\n",
       "      <td>Sweet Cheeks 2012 Vintner's Reserve Wild Child...</td>\n",
       "      <td>Pinot Noir</td>\n",
       "      <td>Sweet Cheeks</td>\n",
       "    </tr>\n",
       "  </tbody>\n",
       "</table>\n",
       "</div>"
      ],
      "text/plain": [
       "    country                                        description  \\\n",
       "0     Italy  Aromas include tropical fruit, broom, brimston...   \n",
       "1  Portugal  This is ripe and fruity, a wine that is smooth...   \n",
       "2        US  Tart and snappy, the flavors of lime flesh and...   \n",
       "3        US  Pineapple rind, lemon pith and orange blossom ...   \n",
       "4        US  Much like the regular bottling from 2012, this...   \n",
       "\n",
       "                          designation  points  price           province  \\\n",
       "0                        Vulkà Bianco      87    NaN  Sicily & Sardinia   \n",
       "1                            Avidagos      87   15.0              Douro   \n",
       "2                                 NaN      87   14.0             Oregon   \n",
       "3                Reserve Late Harvest      87   13.0           Michigan   \n",
       "4  Vintner's Reserve Wild Child Block      87   65.0             Oregon   \n",
       "\n",
       "              region_1           region_2         taster_name  \\\n",
       "0                 Etna                NaN       Kerin O’Keefe   \n",
       "1                  NaN                NaN          Roger Voss   \n",
       "2    Willamette Valley  Willamette Valley        Paul Gregutt   \n",
       "3  Lake Michigan Shore                NaN  Alexander Peartree   \n",
       "4    Willamette Valley  Willamette Valley        Paul Gregutt   \n",
       "\n",
       "  taster_twitter_handle                                              title  \\\n",
       "0          @kerinokeefe                  Nicosia 2013 Vulkà Bianco  (Etna)   \n",
       "1            @vossroger      Quinta dos Avidagos 2011 Avidagos Red (Douro)   \n",
       "2           @paulgwine       Rainstorm 2013 Pinot Gris (Willamette Valley)   \n",
       "3                   NaN  St. Julian 2013 Reserve Late Harvest Riesling ...   \n",
       "4           @paulgwine   Sweet Cheeks 2012 Vintner's Reserve Wild Child...   \n",
       "\n",
       "          variety               winery  \n",
       "0     White Blend              Nicosia  \n",
       "1  Portuguese Red  Quinta dos Avidagos  \n",
       "2      Pinot Gris            Rainstorm  \n",
       "3        Riesling           St. Julian  \n",
       "4      Pinot Noir         Sweet Cheeks  "
      ]
     },
     "execution_count": 14,
     "metadata": {},
     "output_type": "execute_result"
    }
   ],
   "source": [
    "print('''\n",
    "The pd.read_csv() function is well-endowed, with over 30 optional parameters you can specify. \n",
    "For example, you can see in this dataset that the CSV file has a built-in index, \n",
    "which pandas did not pick up on automatically. \n",
    "To make pandas use that column for the index (instead of creating a new one from scratch), we can specify an index_col.\n",
    "''')\n",
    "print('''\n",
    "***********************************************************************************************************************\n",
    "by using index_col=0 the additional column unamed is not loaded into the data as it was when we load the data with\n",
    "\n",
    "\n",
    "wine_reviews = pd.read_csv(\"../input/wine-reviews/winemag-data-130k-v2.csv\")\n",
    "************************************************************************************************************************\n",
    "''')\n",
    "\n",
    "\n",
    "wine_reviews = pd.read_csv(\"../input/wine-reviews/winemag-data-130k-v2.csv\", index_col=0)\n",
    "wine_reviews.head()"
   ]
  },
  {
   "cell_type": "code",
   "execution_count": 15,
   "id": "54612335",
   "metadata": {
    "execution": {
     "iopub.execute_input": "2022-05-20T13:59:10.541396Z",
     "iopub.status.busy": "2022-05-20T13:59:10.541096Z",
     "iopub.status.idle": "2022-05-20T13:59:10.546641Z",
     "shell.execute_reply": "2022-05-20T13:59:10.545679Z"
    },
    "papermill": {
     "duration": 0.048377,
     "end_time": "2022-05-20T13:59:10.548717",
     "exception": false,
     "start_time": "2022-05-20T13:59:10.500340",
     "status": "completed"
    },
    "tags": []
   },
   "outputs": [
    {
     "data": {
      "text/plain": [
       "'#dataframe_name.to_csv(\"file_name.csv\")'"
      ]
     },
     "execution_count": 15,
     "metadata": {},
     "output_type": "execute_result"
    }
   ],
   "source": [
    "'''# you can write output of your dataframe by using the below'''\n",
    "'''#dataframe_name.to_csv(\"file_name.csv\")'''"
   ]
  },
  {
   "cell_type": "code",
   "execution_count": 16,
   "id": "dfa54db9",
   "metadata": {
    "execution": {
     "iopub.execute_input": "2022-05-20T13:59:10.628429Z",
     "iopub.status.busy": "2022-05-20T13:59:10.627769Z",
     "iopub.status.idle": "2022-05-20T13:59:10.639421Z",
     "shell.execute_reply": "2022-05-20T13:59:10.638267Z"
    },
    "papermill": {
     "duration": 0.053776,
     "end_time": "2022-05-20T13:59:10.641529",
     "exception": false,
     "start_time": "2022-05-20T13:59:10.587753",
     "status": "completed"
    },
    "tags": []
   },
   "outputs": [
    {
     "name": "stdout",
     "output_type": "stream",
     "text": [
      "\n",
      "In Python, we can access the property of an object by accessing it as an attribute. \n",
      "A book object, for example, might have a title property, which we can access by calling book.title. \n",
      "Columns in a pandas DataFrame work in much the same way.\n",
      "Hence to access the country property of reviews we can use:\n",
      "----------------------------------------------------------------------------------------------------\n",
      "wine_reviews.country\n",
      "****************************************************************************************************\n",
      "\n"
     ]
    },
    {
     "data": {
      "text/plain": [
       "0            Italy\n",
       "1         Portugal\n",
       "2               US\n",
       "3               US\n",
       "4               US\n",
       "            ...   \n",
       "129966     Germany\n",
       "129967          US\n",
       "129968      France\n",
       "129969      France\n",
       "129970      France\n",
       "Name: country, Length: 129971, dtype: object"
      ]
     },
     "execution_count": 16,
     "metadata": {},
     "output_type": "execute_result"
    }
   ],
   "source": [
    "print('''\n",
    "In Python, we can access the property of an object by accessing it as an attribute. \n",
    "A book object, for example, might have a title property, which we can access by calling book.title. \n",
    "Columns in a pandas DataFrame work in much the same way.\n",
    "Hence to access the country property of reviews we can use:\n",
    "----------------------------------------------------------------------------------------------------\n",
    "wine_reviews.country\n",
    "****************************************************************************************************\n",
    "''')\n",
    "wine_reviews.country"
   ]
  },
  {
   "cell_type": "code",
   "execution_count": 17,
   "id": "2ce92eab",
   "metadata": {
    "execution": {
     "iopub.execute_input": "2022-05-20T13:59:10.723311Z",
     "iopub.status.busy": "2022-05-20T13:59:10.722356Z",
     "iopub.status.idle": "2022-05-20T13:59:10.731476Z",
     "shell.execute_reply": "2022-05-20T13:59:10.730601Z"
    },
    "papermill": {
     "duration": 0.052267,
     "end_time": "2022-05-20T13:59:10.733459",
     "exception": false,
     "start_time": "2022-05-20T13:59:10.681192",
     "status": "completed"
    },
    "tags": []
   },
   "outputs": [
    {
     "name": "stdout",
     "output_type": "stream",
     "text": [
      "\n",
      "we can do the same with the following:\n",
      "wine_reviews['country']\n",
      "\n"
     ]
    },
    {
     "data": {
      "text/plain": [
       "0            Italy\n",
       "1         Portugal\n",
       "2               US\n",
       "3               US\n",
       "4               US\n",
       "            ...   \n",
       "129966     Germany\n",
       "129967          US\n",
       "129968      France\n",
       "129969      France\n",
       "129970      France\n",
       "Name: country, Length: 129971, dtype: object"
      ]
     },
     "execution_count": 17,
     "metadata": {},
     "output_type": "execute_result"
    }
   ],
   "source": [
    "print(\n",
    "'''\n",
    "we can do the same with the following:\n",
    "wine_reviews['country']\n",
    "''')\n",
    "wine_reviews['country']"
   ]
  },
  {
   "cell_type": "code",
   "execution_count": 18,
   "id": "983e8229",
   "metadata": {
    "execution": {
     "iopub.execute_input": "2022-05-20T13:59:10.816919Z",
     "iopub.status.busy": "2022-05-20T13:59:10.816366Z",
     "iopub.status.idle": "2022-05-20T13:59:10.825390Z",
     "shell.execute_reply": "2022-05-20T13:59:10.824129Z"
    },
    "papermill": {
     "duration": 0.052949,
     "end_time": "2022-05-20T13:59:10.827730",
     "exception": false,
     "start_time": "2022-05-20T13:59:10.774781",
     "status": "completed"
    },
    "tags": []
   },
   "outputs": [
    {
     "name": "stdout",
     "output_type": "stream",
     "text": [
      "\n",
      "The above method is used or useful if we have column name have space in their name\n",
      "By using below you can access first index value in Country column\n",
      "wine_reviews['country'][0]\n",
      "************************************************************************************\n",
      "\n",
      "\n",
      "\n"
     ]
    },
    {
     "data": {
      "text/plain": [
       "'Italy'"
      ]
     },
     "execution_count": 18,
     "metadata": {},
     "output_type": "execute_result"
    }
   ],
   "source": [
    "print('''\n",
    "The above method is used or useful if we have column name have space in their name\n",
    "By using below you can access first index value in Country column\n",
    "wine_reviews['country'][0]\n",
    "************************************************************************************\n",
    "\n",
    "\n",
    "''')\n",
    "wine_reviews['country'][0]"
   ]
  },
  {
   "cell_type": "code",
   "execution_count": 19,
   "id": "40d82afa",
   "metadata": {
    "execution": {
     "iopub.execute_input": "2022-05-20T13:59:10.912797Z",
     "iopub.status.busy": "2022-05-20T13:59:10.911939Z",
     "iopub.status.idle": "2022-05-20T13:59:10.920897Z",
     "shell.execute_reply": "2022-05-20T13:59:10.919881Z"
    },
    "papermill": {
     "duration": 0.053816,
     "end_time": "2022-05-20T13:59:10.922973",
     "exception": false,
     "start_time": "2022-05-20T13:59:10.869157",
     "status": "completed"
    },
    "tags": []
   },
   "outputs": [
    {
     "name": "stdout",
     "output_type": "stream",
     "text": [
      "\n",
      "Index-based selection\n",
      "----------------------\n",
      "Pandas indexing works in one of two paradigms. \n",
      "The first is index-based selection: selecting data based on its numerical position in the data. \n",
      "iloc follows this paradigm.\n",
      "\n",
      "To select the first row of data in a DataFrame, we may use the following:\n",
      "wine_reviews.iloc[0]\n",
      "****************************\n",
      "\n",
      "\n"
     ]
    },
    {
     "data": {
      "text/plain": [
       "country                                                              Italy\n",
       "description              Aromas include tropical fruit, broom, brimston...\n",
       "designation                                                   Vulkà Bianco\n",
       "points                                                                  87\n",
       "price                                                                  NaN\n",
       "province                                                 Sicily & Sardinia\n",
       "region_1                                                              Etna\n",
       "region_2                                                               NaN\n",
       "taster_name                                                  Kerin O’Keefe\n",
       "taster_twitter_handle                                         @kerinokeefe\n",
       "title                                    Nicosia 2013 Vulkà Bianco  (Etna)\n",
       "variety                                                        White Blend\n",
       "winery                                                             Nicosia\n",
       "Name: 0, dtype: object"
      ]
     },
     "execution_count": 19,
     "metadata": {},
     "output_type": "execute_result"
    }
   ],
   "source": [
    "print('''\n",
    "Index-based selection\n",
    "----------------------\n",
    "Pandas indexing works in one of two paradigms. \n",
    "The first is index-based selection: selecting data based on its numerical position in the data. \n",
    "iloc follows this paradigm.\n",
    "\n",
    "To select the first row of data in a DataFrame, we may use the following:\n",
    "wine_reviews.iloc[0]\n",
    "****************************\n",
    "\n",
    "''')\n",
    "\n",
    "wine_reviews.iloc[0]"
   ]
  },
  {
   "cell_type": "code",
   "execution_count": 20,
   "id": "2f400793",
   "metadata": {
    "execution": {
     "iopub.execute_input": "2022-05-20T13:59:11.009759Z",
     "iopub.status.busy": "2022-05-20T13:59:11.009177Z",
     "iopub.status.idle": "2022-05-20T13:59:11.018046Z",
     "shell.execute_reply": "2022-05-20T13:59:11.016765Z"
    },
    "papermill": {
     "duration": 0.054641,
     "end_time": "2022-05-20T13:59:11.020063",
     "exception": false,
     "start_time": "2022-05-20T13:59:10.965422",
     "status": "completed"
    },
    "tags": []
   },
   "outputs": [
    {
     "name": "stdout",
     "output_type": "stream",
     "text": [
      "\n",
      "Both loc and iloc are row-first, column-second. \n",
      "This is the opposite of what we do in native Python, which is column-first, row-second.\n",
      "This means that it's marginally easier to retrieve rows, and marginally harder to get retrieve columns. \n",
      "To get a column with iloc, we can do the following:\n",
      "wine_reviews.iloc[:, 0]\n",
      "*******************************************************************************************************\n",
      "\n",
      "\n"
     ]
    },
    {
     "data": {
      "text/plain": [
       "0            Italy\n",
       "1         Portugal\n",
       "2               US\n",
       "3               US\n",
       "4               US\n",
       "            ...   \n",
       "129966     Germany\n",
       "129967          US\n",
       "129968      France\n",
       "129969      France\n",
       "129970      France\n",
       "Name: country, Length: 129971, dtype: object"
      ]
     },
     "execution_count": 20,
     "metadata": {},
     "output_type": "execute_result"
    }
   ],
   "source": [
    "print('''\n",
    "Both loc and iloc are row-first, column-second. \n",
    "This is the opposite of what we do in native Python, which is column-first, row-second.\n",
    "This means that it's marginally easier to retrieve rows, and marginally harder to get retrieve columns. \n",
    "To get a column with iloc, we can do the following:\n",
    "wine_reviews.iloc[:, 0]\n",
    "*******************************************************************************************************\n",
    "\n",
    "''')\n",
    "wine_reviews.iloc[:, 0]"
   ]
  },
  {
   "cell_type": "code",
   "execution_count": 21,
   "id": "ca0e6392",
   "metadata": {
    "execution": {
     "iopub.execute_input": "2022-05-20T13:59:11.108486Z",
     "iopub.status.busy": "2022-05-20T13:59:11.107620Z",
     "iopub.status.idle": "2022-05-20T13:59:11.117654Z",
     "shell.execute_reply": "2022-05-20T13:59:11.116396Z"
    },
    "papermill": {
     "duration": 0.056382,
     "end_time": "2022-05-20T13:59:11.119824",
     "exception": false,
     "start_time": "2022-05-20T13:59:11.063442",
     "status": "completed"
    },
    "tags": []
   },
   "outputs": [
    {
     "name": "stdout",
     "output_type": "stream",
     "text": [
      "\n",
      "On its own, the : operator, which also comes from native Python, means \"everything\". \n",
      "When combined with other selectors, however, it can be used to indicate a range of values. \n",
      "For example, to select the country column from just the first, second, and third row, we would do:\n",
      "wine_reviews.iloc[:3, 0]\n",
      "**************************************************************************************************\n",
      "\n",
      "\n",
      "\n"
     ]
    },
    {
     "data": {
      "text/plain": [
       "0       Italy\n",
       "1    Portugal\n",
       "2          US\n",
       "Name: country, dtype: object"
      ]
     },
     "execution_count": 21,
     "metadata": {},
     "output_type": "execute_result"
    }
   ],
   "source": [
    "print('''\n",
    "On its own, the : operator, which also comes from native Python, means \"everything\". \n",
    "When combined with other selectors, however, it can be used to indicate a range of values. \n",
    "For example, to select the country column from just the first, second, and third row, we would do:\n",
    "wine_reviews.iloc[:3, 0]\n",
    "**************************************************************************************************\n",
    "\n",
    "\n",
    "''')\n",
    "wine_reviews.iloc[:3, 0]"
   ]
  },
  {
   "cell_type": "code",
   "execution_count": 22,
   "id": "960697c7",
   "metadata": {
    "execution": {
     "iopub.execute_input": "2022-05-20T13:59:11.209023Z",
     "iopub.status.busy": "2022-05-20T13:59:11.208721Z",
     "iopub.status.idle": "2022-05-20T13:59:11.216429Z",
     "shell.execute_reply": "2022-05-20T13:59:11.215563Z"
    },
    "papermill": {
     "duration": 0.05488,
     "end_time": "2022-05-20T13:59:11.218234",
     "exception": false,
     "start_time": "2022-05-20T13:59:11.163354",
     "status": "completed"
    },
    "tags": []
   },
   "outputs": [
    {
     "name": "stdout",
     "output_type": "stream",
     "text": [
      "\n",
      "Or, to select just the second and third entries, we would do:\n",
      "wine_reviews.iloc[1:3, 0]\n",
      "*********************************\n",
      "\n",
      "\n"
     ]
    },
    {
     "data": {
      "text/plain": [
       "1    Portugal\n",
       "2          US\n",
       "Name: country, dtype: object"
      ]
     },
     "execution_count": 22,
     "metadata": {},
     "output_type": "execute_result"
    }
   ],
   "source": [
    "print('''\n",
    "Or, to select just the second and third entries, we would do:\n",
    "wine_reviews.iloc[1:3, 0]\n",
    "*********************************\n",
    "\n",
    "''')\n",
    "wine_reviews.iloc[1:3, 0]"
   ]
  },
  {
   "cell_type": "code",
   "execution_count": 23,
   "id": "6a9799dc",
   "metadata": {
    "execution": {
     "iopub.execute_input": "2022-05-20T13:59:11.309054Z",
     "iopub.status.busy": "2022-05-20T13:59:11.308166Z",
     "iopub.status.idle": "2022-05-20T13:59:11.318710Z",
     "shell.execute_reply": "2022-05-20T13:59:11.317752Z"
    },
    "papermill": {
     "duration": 0.057825,
     "end_time": "2022-05-20T13:59:11.320693",
     "exception": false,
     "start_time": "2022-05-20T13:59:11.262868",
     "status": "completed"
    },
    "tags": []
   },
   "outputs": [
    {
     "name": "stdout",
     "output_type": "stream",
     "text": [
      "\n",
      "It's also possible to pass a list:\n",
      "wine_reviews.iloc[[0, 1, 2], 0]\n",
      "**********************************\n",
      "\n",
      "\n"
     ]
    },
    {
     "data": {
      "text/plain": [
       "0       Italy\n",
       "1    Portugal\n",
       "2          US\n",
       "Name: country, dtype: object"
      ]
     },
     "execution_count": 23,
     "metadata": {},
     "output_type": "execute_result"
    }
   ],
   "source": [
    "print('''\n",
    "It's also possible to pass a list:\n",
    "wine_reviews.iloc[[0, 1, 2], 0]\n",
    "**********************************\n",
    "\n",
    "''')\n",
    "wine_reviews.iloc[[0, 1, 2], 0]"
   ]
  },
  {
   "cell_type": "code",
   "execution_count": 24,
   "id": "82abb4b0",
   "metadata": {
    "execution": {
     "iopub.execute_input": "2022-05-20T13:59:11.413387Z",
     "iopub.status.busy": "2022-05-20T13:59:11.413071Z",
     "iopub.status.idle": "2022-05-20T13:59:11.433907Z",
     "shell.execute_reply": "2022-05-20T13:59:11.432794Z"
    },
    "papermill": {
     "duration": 0.070198,
     "end_time": "2022-05-20T13:59:11.436173",
     "exception": false,
     "start_time": "2022-05-20T13:59:11.365975",
     "status": "completed"
    },
    "tags": []
   },
   "outputs": [
    {
     "name": "stdout",
     "output_type": "stream",
     "text": [
      "\n",
      "Finally, it's worth knowing that negative numbers can be used in selection. \n",
      "This will start counting forwards from the end of the values. \n",
      "So for example here are the last five elements of the dataset.\n",
      "wine_reviews.iloc[-5:]\n",
      "***************************************************************************\n",
      "\n"
     ]
    },
    {
     "data": {
      "text/html": [
       "<div>\n",
       "<style scoped>\n",
       "    .dataframe tbody tr th:only-of-type {\n",
       "        vertical-align: middle;\n",
       "    }\n",
       "\n",
       "    .dataframe tbody tr th {\n",
       "        vertical-align: top;\n",
       "    }\n",
       "\n",
       "    .dataframe thead th {\n",
       "        text-align: right;\n",
       "    }\n",
       "</style>\n",
       "<table border=\"1\" class=\"dataframe\">\n",
       "  <thead>\n",
       "    <tr style=\"text-align: right;\">\n",
       "      <th></th>\n",
       "      <th>country</th>\n",
       "      <th>description</th>\n",
       "      <th>designation</th>\n",
       "      <th>points</th>\n",
       "      <th>price</th>\n",
       "      <th>province</th>\n",
       "      <th>region_1</th>\n",
       "      <th>region_2</th>\n",
       "      <th>taster_name</th>\n",
       "      <th>taster_twitter_handle</th>\n",
       "      <th>title</th>\n",
       "      <th>variety</th>\n",
       "      <th>winery</th>\n",
       "    </tr>\n",
       "  </thead>\n",
       "  <tbody>\n",
       "    <tr>\n",
       "      <th>129966</th>\n",
       "      <td>Germany</td>\n",
       "      <td>Notes of honeysuckle and cantaloupe sweeten th...</td>\n",
       "      <td>Brauneberger Juffer-Sonnenuhr Spätlese</td>\n",
       "      <td>90</td>\n",
       "      <td>28.0</td>\n",
       "      <td>Mosel</td>\n",
       "      <td>NaN</td>\n",
       "      <td>NaN</td>\n",
       "      <td>Anna Lee C. Iijima</td>\n",
       "      <td>NaN</td>\n",
       "      <td>Dr. H. Thanisch (Erben Müller-Burggraef) 2013 ...</td>\n",
       "      <td>Riesling</td>\n",
       "      <td>Dr. H. Thanisch (Erben Müller-Burggraef)</td>\n",
       "    </tr>\n",
       "    <tr>\n",
       "      <th>129967</th>\n",
       "      <td>US</td>\n",
       "      <td>Citation is given as much as a decade of bottl...</td>\n",
       "      <td>NaN</td>\n",
       "      <td>90</td>\n",
       "      <td>75.0</td>\n",
       "      <td>Oregon</td>\n",
       "      <td>Oregon</td>\n",
       "      <td>Oregon Other</td>\n",
       "      <td>Paul Gregutt</td>\n",
       "      <td>@paulgwine</td>\n",
       "      <td>Citation 2004 Pinot Noir (Oregon)</td>\n",
       "      <td>Pinot Noir</td>\n",
       "      <td>Citation</td>\n",
       "    </tr>\n",
       "    <tr>\n",
       "      <th>129968</th>\n",
       "      <td>France</td>\n",
       "      <td>Well-drained gravel soil gives this wine its c...</td>\n",
       "      <td>Kritt</td>\n",
       "      <td>90</td>\n",
       "      <td>30.0</td>\n",
       "      <td>Alsace</td>\n",
       "      <td>Alsace</td>\n",
       "      <td>NaN</td>\n",
       "      <td>Roger Voss</td>\n",
       "      <td>@vossroger</td>\n",
       "      <td>Domaine Gresser 2013 Kritt Gewurztraminer (Als...</td>\n",
       "      <td>Gewürztraminer</td>\n",
       "      <td>Domaine Gresser</td>\n",
       "    </tr>\n",
       "    <tr>\n",
       "      <th>129969</th>\n",
       "      <td>France</td>\n",
       "      <td>A dry style of Pinot Gris, this is crisp with ...</td>\n",
       "      <td>NaN</td>\n",
       "      <td>90</td>\n",
       "      <td>32.0</td>\n",
       "      <td>Alsace</td>\n",
       "      <td>Alsace</td>\n",
       "      <td>NaN</td>\n",
       "      <td>Roger Voss</td>\n",
       "      <td>@vossroger</td>\n",
       "      <td>Domaine Marcel Deiss 2012 Pinot Gris (Alsace)</td>\n",
       "      <td>Pinot Gris</td>\n",
       "      <td>Domaine Marcel Deiss</td>\n",
       "    </tr>\n",
       "    <tr>\n",
       "      <th>129970</th>\n",
       "      <td>France</td>\n",
       "      <td>Big, rich and off-dry, this is powered by inte...</td>\n",
       "      <td>Lieu-dit Harth Cuvée Caroline</td>\n",
       "      <td>90</td>\n",
       "      <td>21.0</td>\n",
       "      <td>Alsace</td>\n",
       "      <td>Alsace</td>\n",
       "      <td>NaN</td>\n",
       "      <td>Roger Voss</td>\n",
       "      <td>@vossroger</td>\n",
       "      <td>Domaine Schoffit 2012 Lieu-dit Harth Cuvée Car...</td>\n",
       "      <td>Gewürztraminer</td>\n",
       "      <td>Domaine Schoffit</td>\n",
       "    </tr>\n",
       "  </tbody>\n",
       "</table>\n",
       "</div>"
      ],
      "text/plain": [
       "        country                                        description  \\\n",
       "129966  Germany  Notes of honeysuckle and cantaloupe sweeten th...   \n",
       "129967       US  Citation is given as much as a decade of bottl...   \n",
       "129968   France  Well-drained gravel soil gives this wine its c...   \n",
       "129969   France  A dry style of Pinot Gris, this is crisp with ...   \n",
       "129970   France  Big, rich and off-dry, this is powered by inte...   \n",
       "\n",
       "                                   designation  points  price province  \\\n",
       "129966  Brauneberger Juffer-Sonnenuhr Spätlese      90   28.0    Mosel   \n",
       "129967                                     NaN      90   75.0   Oregon   \n",
       "129968                                   Kritt      90   30.0   Alsace   \n",
       "129969                                     NaN      90   32.0   Alsace   \n",
       "129970           Lieu-dit Harth Cuvée Caroline      90   21.0   Alsace   \n",
       "\n",
       "       region_1      region_2         taster_name taster_twitter_handle  \\\n",
       "129966      NaN           NaN  Anna Lee C. Iijima                   NaN   \n",
       "129967   Oregon  Oregon Other        Paul Gregutt           @paulgwine    \n",
       "129968   Alsace           NaN          Roger Voss            @vossroger   \n",
       "129969   Alsace           NaN          Roger Voss            @vossroger   \n",
       "129970   Alsace           NaN          Roger Voss            @vossroger   \n",
       "\n",
       "                                                    title         variety  \\\n",
       "129966  Dr. H. Thanisch (Erben Müller-Burggraef) 2013 ...        Riesling   \n",
       "129967                  Citation 2004 Pinot Noir (Oregon)      Pinot Noir   \n",
       "129968  Domaine Gresser 2013 Kritt Gewurztraminer (Als...  Gewürztraminer   \n",
       "129969      Domaine Marcel Deiss 2012 Pinot Gris (Alsace)      Pinot Gris   \n",
       "129970  Domaine Schoffit 2012 Lieu-dit Harth Cuvée Car...  Gewürztraminer   \n",
       "\n",
       "                                          winery  \n",
       "129966  Dr. H. Thanisch (Erben Müller-Burggraef)  \n",
       "129967                                  Citation  \n",
       "129968                           Domaine Gresser  \n",
       "129969                      Domaine Marcel Deiss  \n",
       "129970                          Domaine Schoffit  "
      ]
     },
     "execution_count": 24,
     "metadata": {},
     "output_type": "execute_result"
    }
   ],
   "source": [
    "print('''\n",
    "Finally, it's worth knowing that negative numbers can be used in selection. \n",
    "This will start counting forwards from the end of the values. \n",
    "So for example here are the last five elements of the dataset.\n",
    "wine_reviews.iloc[-5:]\n",
    "***************************************************************************\n",
    "''')\n",
    "wine_reviews.iloc[-5:]"
   ]
  },
  {
   "cell_type": "code",
   "execution_count": 25,
   "id": "7bfcb358",
   "metadata": {
    "execution": {
     "iopub.execute_input": "2022-05-20T13:59:11.531641Z",
     "iopub.status.busy": "2022-05-20T13:59:11.531348Z",
     "iopub.status.idle": "2022-05-20T13:59:11.538220Z",
     "shell.execute_reply": "2022-05-20T13:59:11.536936Z"
    },
    "papermill": {
     "duration": 0.057008,
     "end_time": "2022-05-20T13:59:11.540171",
     "exception": false,
     "start_time": "2022-05-20T13:59:11.483163",
     "status": "completed"
    },
    "tags": []
   },
   "outputs": [
    {
     "name": "stdout",
     "output_type": "stream",
     "text": [
      "\n",
      "Label-based selection\n",
      "---------------------\n",
      "The second paradigm for attribute selection is the one followed by the loc operator: \n",
      "label-based selection. In this paradigm, it's the data index value, not its position, which matters.\n",
      "For example, to get the first entry in reviews, we would now do the following:\n",
      "*************************\n",
      "wine_reviews.loc[0, 'country']\n",
      "*************************\n",
      "\n",
      "\n",
      "\n"
     ]
    },
    {
     "data": {
      "text/plain": [
       "'Italy'"
      ]
     },
     "execution_count": 25,
     "metadata": {},
     "output_type": "execute_result"
    }
   ],
   "source": [
    "print('''\n",
    "Label-based selection\n",
    "---------------------\n",
    "The second paradigm for attribute selection is the one followed by the loc operator: \n",
    "label-based selection. In this paradigm, it's the data index value, not its position, which matters.\n",
    "For example, to get the first entry in reviews, we would now do the following:\n",
    "*************************\n",
    "wine_reviews.loc[0, 'country']\n",
    "*************************\n",
    "\n",
    "\n",
    "''')\n",
    "wine_reviews.loc[0, 'country']"
   ]
  },
  {
   "cell_type": "code",
   "execution_count": 26,
   "id": "eb0513df",
   "metadata": {
    "execution": {
     "iopub.execute_input": "2022-05-20T13:59:11.636551Z",
     "iopub.status.busy": "2022-05-20T13:59:11.636249Z",
     "iopub.status.idle": "2022-05-20T13:59:11.652608Z",
     "shell.execute_reply": "2022-05-20T13:59:11.651639Z"
    },
    "papermill": {
     "duration": 0.067193,
     "end_time": "2022-05-20T13:59:11.654574",
     "exception": false,
     "start_time": "2022-05-20T13:59:11.587381",
     "status": "completed"
    },
    "tags": []
   },
   "outputs": [
    {
     "name": "stdout",
     "output_type": "stream",
     "text": [
      "\n",
      "iloc is conceptually simpler than loc because it ignores the dataset's indices. \n",
      "When we use iloc we treat the dataset like a big matrix (a list of lists), \n",
      "one that we have to index into by position. \n",
      "loc, by contrast, uses the information in the indices to do its work. \n",
      "Since your dataset usually has meaningful indices, it's usually easier to do things using loc instead. \n",
      "For example, here's one operation that's much easier using loc:\n",
      "wine_reviews.loc[:, ['taster_name', 'taster_twitter_handle', 'points']]\n",
      "\n",
      "\n",
      "\n"
     ]
    },
    {
     "data": {
      "text/html": [
       "<div>\n",
       "<style scoped>\n",
       "    .dataframe tbody tr th:only-of-type {\n",
       "        vertical-align: middle;\n",
       "    }\n",
       "\n",
       "    .dataframe tbody tr th {\n",
       "        vertical-align: top;\n",
       "    }\n",
       "\n",
       "    .dataframe thead th {\n",
       "        text-align: right;\n",
       "    }\n",
       "</style>\n",
       "<table border=\"1\" class=\"dataframe\">\n",
       "  <thead>\n",
       "    <tr style=\"text-align: right;\">\n",
       "      <th></th>\n",
       "      <th>taster_name</th>\n",
       "      <th>taster_twitter_handle</th>\n",
       "      <th>points</th>\n",
       "    </tr>\n",
       "  </thead>\n",
       "  <tbody>\n",
       "    <tr>\n",
       "      <th>0</th>\n",
       "      <td>Kerin O’Keefe</td>\n",
       "      <td>@kerinokeefe</td>\n",
       "      <td>87</td>\n",
       "    </tr>\n",
       "    <tr>\n",
       "      <th>1</th>\n",
       "      <td>Roger Voss</td>\n",
       "      <td>@vossroger</td>\n",
       "      <td>87</td>\n",
       "    </tr>\n",
       "    <tr>\n",
       "      <th>2</th>\n",
       "      <td>Paul Gregutt</td>\n",
       "      <td>@paulgwine</td>\n",
       "      <td>87</td>\n",
       "    </tr>\n",
       "    <tr>\n",
       "      <th>3</th>\n",
       "      <td>Alexander Peartree</td>\n",
       "      <td>NaN</td>\n",
       "      <td>87</td>\n",
       "    </tr>\n",
       "    <tr>\n",
       "      <th>4</th>\n",
       "      <td>Paul Gregutt</td>\n",
       "      <td>@paulgwine</td>\n",
       "      <td>87</td>\n",
       "    </tr>\n",
       "    <tr>\n",
       "      <th>...</th>\n",
       "      <td>...</td>\n",
       "      <td>...</td>\n",
       "      <td>...</td>\n",
       "    </tr>\n",
       "    <tr>\n",
       "      <th>129966</th>\n",
       "      <td>Anna Lee C. Iijima</td>\n",
       "      <td>NaN</td>\n",
       "      <td>90</td>\n",
       "    </tr>\n",
       "    <tr>\n",
       "      <th>129967</th>\n",
       "      <td>Paul Gregutt</td>\n",
       "      <td>@paulgwine</td>\n",
       "      <td>90</td>\n",
       "    </tr>\n",
       "    <tr>\n",
       "      <th>129968</th>\n",
       "      <td>Roger Voss</td>\n",
       "      <td>@vossroger</td>\n",
       "      <td>90</td>\n",
       "    </tr>\n",
       "    <tr>\n",
       "      <th>129969</th>\n",
       "      <td>Roger Voss</td>\n",
       "      <td>@vossroger</td>\n",
       "      <td>90</td>\n",
       "    </tr>\n",
       "    <tr>\n",
       "      <th>129970</th>\n",
       "      <td>Roger Voss</td>\n",
       "      <td>@vossroger</td>\n",
       "      <td>90</td>\n",
       "    </tr>\n",
       "  </tbody>\n",
       "</table>\n",
       "<p>129971 rows × 3 columns</p>\n",
       "</div>"
      ],
      "text/plain": [
       "               taster_name taster_twitter_handle  points\n",
       "0            Kerin O’Keefe          @kerinokeefe      87\n",
       "1               Roger Voss            @vossroger      87\n",
       "2             Paul Gregutt           @paulgwine       87\n",
       "3       Alexander Peartree                   NaN      87\n",
       "4             Paul Gregutt           @paulgwine       87\n",
       "...                    ...                   ...     ...\n",
       "129966  Anna Lee C. Iijima                   NaN      90\n",
       "129967        Paul Gregutt           @paulgwine       90\n",
       "129968          Roger Voss            @vossroger      90\n",
       "129969          Roger Voss            @vossroger      90\n",
       "129970          Roger Voss            @vossroger      90\n",
       "\n",
       "[129971 rows x 3 columns]"
      ]
     },
     "execution_count": 26,
     "metadata": {},
     "output_type": "execute_result"
    }
   ],
   "source": [
    "print('''\n",
    "iloc is conceptually simpler than loc because it ignores the dataset's indices. \n",
    "When we use iloc we treat the dataset like a big matrix (a list of lists), \n",
    "one that we have to index into by position. \n",
    "loc, by contrast, uses the information in the indices to do its work. \n",
    "Since your dataset usually has meaningful indices, it's usually easier to do things using loc instead. \n",
    "For example, here's one operation that's much easier using loc:\n",
    "wine_reviews.loc[:, ['taster_name', 'taster_twitter_handle', 'points']]\n",
    "\n",
    "\n",
    "''')\n",
    "wine_reviews.loc[:, ['taster_name', 'taster_twitter_handle', 'points']]"
   ]
  },
  {
   "cell_type": "code",
   "execution_count": 27,
   "id": "63b0bf3d",
   "metadata": {
    "execution": {
     "iopub.execute_input": "2022-05-20T13:59:11.752901Z",
     "iopub.status.busy": "2022-05-20T13:59:11.752453Z",
     "iopub.status.idle": "2022-05-20T13:59:11.802333Z",
     "shell.execute_reply": "2022-05-20T13:59:11.801213Z"
    },
    "papermill": {
     "duration": 0.102786,
     "end_time": "2022-05-20T13:59:11.805789",
     "exception": false,
     "start_time": "2022-05-20T13:59:11.703003",
     "status": "completed"
    },
    "tags": []
   },
   "outputs": [
    {
     "name": "stdout",
     "output_type": "stream",
     "text": [
      "\n",
      "\n",
      "Choosing between loc and iloc\n",
      "-------------------------------\n",
      "When choosing or transitioning between loc and iloc, \n",
      "there is one \"gotcha\" worth keeping in mind,\n",
      "which is that the two methods use slightly different indexing schemes.\n",
      "\n",
      "iloc uses the Python stdlib indexing scheme, \n",
      "where the first element of the range is included and the last one excluded. \n",
      "So 0:10 will select entries 0,...,9. loc, meanwhile, indexes inclusively. So 0:10 will select entries 0,...,10.\n",
      "\n",
      "Why the change? Remember that loc can index any stdlib type: strings, for example. \n",
      "If we have a DataFrame with index values Apples, ..., Potatoes, ..., and \n",
      "we want to select \"all the alphabetical fruit choices between Apples and Potatoes\", \n",
      "then it's a lot more convenient to index df.loc['Apples':'Potatoes'] \n",
      "than it is to index something like df.loc['Apples', 'Potatoet'] (t coming after s in the alphabet).\n",
      "\n",
      "This is particularly confusing when the DataFrame index is a simple numerical list, e.g. 0,...,1000. \n",
      "In this case df.iloc[0:1000] will return 1000 entries, while df.loc[0:1000] return 1001 of them! \n",
      "To get 1000 elements using loc, you will need to go one lower and ask for df.loc[0:999].\n",
      "\n",
      "Otherwise, the semantics of using loc are the same as those for iloc.\n",
      "Manipulating the index\n",
      "\n",
      "Label-based selection derives its power from the labels in the index. Critically, the index we use is not immutable. We can manipulate the index in any way we see fit.\n",
      "\n",
      "The set_index() method can be used to do the job. Here is what happens when we set_index to the title field:\n",
      "*******************************\n",
      "wine_reviews.set_index(\"title\")\n",
      "*******************************\n",
      "\n",
      "\n"
     ]
    },
    {
     "data": {
      "text/html": [
       "<div>\n",
       "<style scoped>\n",
       "    .dataframe tbody tr th:only-of-type {\n",
       "        vertical-align: middle;\n",
       "    }\n",
       "\n",
       "    .dataframe tbody tr th {\n",
       "        vertical-align: top;\n",
       "    }\n",
       "\n",
       "    .dataframe thead th {\n",
       "        text-align: right;\n",
       "    }\n",
       "</style>\n",
       "<table border=\"1\" class=\"dataframe\">\n",
       "  <thead>\n",
       "    <tr style=\"text-align: right;\">\n",
       "      <th></th>\n",
       "      <th>country</th>\n",
       "      <th>description</th>\n",
       "      <th>designation</th>\n",
       "      <th>points</th>\n",
       "      <th>price</th>\n",
       "      <th>province</th>\n",
       "      <th>region_1</th>\n",
       "      <th>region_2</th>\n",
       "      <th>taster_name</th>\n",
       "      <th>taster_twitter_handle</th>\n",
       "      <th>variety</th>\n",
       "      <th>winery</th>\n",
       "    </tr>\n",
       "    <tr>\n",
       "      <th>title</th>\n",
       "      <th></th>\n",
       "      <th></th>\n",
       "      <th></th>\n",
       "      <th></th>\n",
       "      <th></th>\n",
       "      <th></th>\n",
       "      <th></th>\n",
       "      <th></th>\n",
       "      <th></th>\n",
       "      <th></th>\n",
       "      <th></th>\n",
       "      <th></th>\n",
       "    </tr>\n",
       "  </thead>\n",
       "  <tbody>\n",
       "    <tr>\n",
       "      <th>Nicosia 2013 Vulkà Bianco  (Etna)</th>\n",
       "      <td>Italy</td>\n",
       "      <td>Aromas include tropical fruit, broom, brimston...</td>\n",
       "      <td>Vulkà Bianco</td>\n",
       "      <td>87</td>\n",
       "      <td>NaN</td>\n",
       "      <td>Sicily &amp; Sardinia</td>\n",
       "      <td>Etna</td>\n",
       "      <td>NaN</td>\n",
       "      <td>Kerin O’Keefe</td>\n",
       "      <td>@kerinokeefe</td>\n",
       "      <td>White Blend</td>\n",
       "      <td>Nicosia</td>\n",
       "    </tr>\n",
       "    <tr>\n",
       "      <th>Quinta dos Avidagos 2011 Avidagos Red (Douro)</th>\n",
       "      <td>Portugal</td>\n",
       "      <td>This is ripe and fruity, a wine that is smooth...</td>\n",
       "      <td>Avidagos</td>\n",
       "      <td>87</td>\n",
       "      <td>15.0</td>\n",
       "      <td>Douro</td>\n",
       "      <td>NaN</td>\n",
       "      <td>NaN</td>\n",
       "      <td>Roger Voss</td>\n",
       "      <td>@vossroger</td>\n",
       "      <td>Portuguese Red</td>\n",
       "      <td>Quinta dos Avidagos</td>\n",
       "    </tr>\n",
       "    <tr>\n",
       "      <th>Rainstorm 2013 Pinot Gris (Willamette Valley)</th>\n",
       "      <td>US</td>\n",
       "      <td>Tart and snappy, the flavors of lime flesh and...</td>\n",
       "      <td>NaN</td>\n",
       "      <td>87</td>\n",
       "      <td>14.0</td>\n",
       "      <td>Oregon</td>\n",
       "      <td>Willamette Valley</td>\n",
       "      <td>Willamette Valley</td>\n",
       "      <td>Paul Gregutt</td>\n",
       "      <td>@paulgwine</td>\n",
       "      <td>Pinot Gris</td>\n",
       "      <td>Rainstorm</td>\n",
       "    </tr>\n",
       "    <tr>\n",
       "      <th>St. Julian 2013 Reserve Late Harvest Riesling (Lake Michigan Shore)</th>\n",
       "      <td>US</td>\n",
       "      <td>Pineapple rind, lemon pith and orange blossom ...</td>\n",
       "      <td>Reserve Late Harvest</td>\n",
       "      <td>87</td>\n",
       "      <td>13.0</td>\n",
       "      <td>Michigan</td>\n",
       "      <td>Lake Michigan Shore</td>\n",
       "      <td>NaN</td>\n",
       "      <td>Alexander Peartree</td>\n",
       "      <td>NaN</td>\n",
       "      <td>Riesling</td>\n",
       "      <td>St. Julian</td>\n",
       "    </tr>\n",
       "    <tr>\n",
       "      <th>Sweet Cheeks 2012 Vintner's Reserve Wild Child Block Pinot Noir (Willamette Valley)</th>\n",
       "      <td>US</td>\n",
       "      <td>Much like the regular bottling from 2012, this...</td>\n",
       "      <td>Vintner's Reserve Wild Child Block</td>\n",
       "      <td>87</td>\n",
       "      <td>65.0</td>\n",
       "      <td>Oregon</td>\n",
       "      <td>Willamette Valley</td>\n",
       "      <td>Willamette Valley</td>\n",
       "      <td>Paul Gregutt</td>\n",
       "      <td>@paulgwine</td>\n",
       "      <td>Pinot Noir</td>\n",
       "      <td>Sweet Cheeks</td>\n",
       "    </tr>\n",
       "    <tr>\n",
       "      <th>...</th>\n",
       "      <td>...</td>\n",
       "      <td>...</td>\n",
       "      <td>...</td>\n",
       "      <td>...</td>\n",
       "      <td>...</td>\n",
       "      <td>...</td>\n",
       "      <td>...</td>\n",
       "      <td>...</td>\n",
       "      <td>...</td>\n",
       "      <td>...</td>\n",
       "      <td>...</td>\n",
       "      <td>...</td>\n",
       "    </tr>\n",
       "    <tr>\n",
       "      <th>Dr. H. Thanisch (Erben Müller-Burggraef) 2013 Brauneberger Juffer-Sonnenuhr Spätlese Riesling (Mosel)</th>\n",
       "      <td>Germany</td>\n",
       "      <td>Notes of honeysuckle and cantaloupe sweeten th...</td>\n",
       "      <td>Brauneberger Juffer-Sonnenuhr Spätlese</td>\n",
       "      <td>90</td>\n",
       "      <td>28.0</td>\n",
       "      <td>Mosel</td>\n",
       "      <td>NaN</td>\n",
       "      <td>NaN</td>\n",
       "      <td>Anna Lee C. Iijima</td>\n",
       "      <td>NaN</td>\n",
       "      <td>Riesling</td>\n",
       "      <td>Dr. H. Thanisch (Erben Müller-Burggraef)</td>\n",
       "    </tr>\n",
       "    <tr>\n",
       "      <th>Citation 2004 Pinot Noir (Oregon)</th>\n",
       "      <td>US</td>\n",
       "      <td>Citation is given as much as a decade of bottl...</td>\n",
       "      <td>NaN</td>\n",
       "      <td>90</td>\n",
       "      <td>75.0</td>\n",
       "      <td>Oregon</td>\n",
       "      <td>Oregon</td>\n",
       "      <td>Oregon Other</td>\n",
       "      <td>Paul Gregutt</td>\n",
       "      <td>@paulgwine</td>\n",
       "      <td>Pinot Noir</td>\n",
       "      <td>Citation</td>\n",
       "    </tr>\n",
       "    <tr>\n",
       "      <th>Domaine Gresser 2013 Kritt Gewurztraminer (Alsace)</th>\n",
       "      <td>France</td>\n",
       "      <td>Well-drained gravel soil gives this wine its c...</td>\n",
       "      <td>Kritt</td>\n",
       "      <td>90</td>\n",
       "      <td>30.0</td>\n",
       "      <td>Alsace</td>\n",
       "      <td>Alsace</td>\n",
       "      <td>NaN</td>\n",
       "      <td>Roger Voss</td>\n",
       "      <td>@vossroger</td>\n",
       "      <td>Gewürztraminer</td>\n",
       "      <td>Domaine Gresser</td>\n",
       "    </tr>\n",
       "    <tr>\n",
       "      <th>Domaine Marcel Deiss 2012 Pinot Gris (Alsace)</th>\n",
       "      <td>France</td>\n",
       "      <td>A dry style of Pinot Gris, this is crisp with ...</td>\n",
       "      <td>NaN</td>\n",
       "      <td>90</td>\n",
       "      <td>32.0</td>\n",
       "      <td>Alsace</td>\n",
       "      <td>Alsace</td>\n",
       "      <td>NaN</td>\n",
       "      <td>Roger Voss</td>\n",
       "      <td>@vossroger</td>\n",
       "      <td>Pinot Gris</td>\n",
       "      <td>Domaine Marcel Deiss</td>\n",
       "    </tr>\n",
       "    <tr>\n",
       "      <th>Domaine Schoffit 2012 Lieu-dit Harth Cuvée Caroline Gewurztraminer (Alsace)</th>\n",
       "      <td>France</td>\n",
       "      <td>Big, rich and off-dry, this is powered by inte...</td>\n",
       "      <td>Lieu-dit Harth Cuvée Caroline</td>\n",
       "      <td>90</td>\n",
       "      <td>21.0</td>\n",
       "      <td>Alsace</td>\n",
       "      <td>Alsace</td>\n",
       "      <td>NaN</td>\n",
       "      <td>Roger Voss</td>\n",
       "      <td>@vossroger</td>\n",
       "      <td>Gewürztraminer</td>\n",
       "      <td>Domaine Schoffit</td>\n",
       "    </tr>\n",
       "  </tbody>\n",
       "</table>\n",
       "<p>129971 rows × 12 columns</p>\n",
       "</div>"
      ],
      "text/plain": [
       "                                                     country  \\\n",
       "title                                                          \n",
       "Nicosia 2013 Vulkà Bianco  (Etna)                      Italy   \n",
       "Quinta dos Avidagos 2011 Avidagos Red (Douro)       Portugal   \n",
       "Rainstorm 2013 Pinot Gris (Willamette Valley)             US   \n",
       "St. Julian 2013 Reserve Late Harvest Riesling (...        US   \n",
       "Sweet Cheeks 2012 Vintner's Reserve Wild Child ...        US   \n",
       "...                                                      ...   \n",
       "Dr. H. Thanisch (Erben Müller-Burggraef) 2013 B...   Germany   \n",
       "Citation 2004 Pinot Noir (Oregon)                         US   \n",
       "Domaine Gresser 2013 Kritt Gewurztraminer (Alsace)    France   \n",
       "Domaine Marcel Deiss 2012 Pinot Gris (Alsace)         France   \n",
       "Domaine Schoffit 2012 Lieu-dit Harth Cuvée Caro...    France   \n",
       "\n",
       "                                                                                          description  \\\n",
       "title                                                                                                   \n",
       "Nicosia 2013 Vulkà Bianco  (Etna)                   Aromas include tropical fruit, broom, brimston...   \n",
       "Quinta dos Avidagos 2011 Avidagos Red (Douro)       This is ripe and fruity, a wine that is smooth...   \n",
       "Rainstorm 2013 Pinot Gris (Willamette Valley)       Tart and snappy, the flavors of lime flesh and...   \n",
       "St. Julian 2013 Reserve Late Harvest Riesling (...  Pineapple rind, lemon pith and orange blossom ...   \n",
       "Sweet Cheeks 2012 Vintner's Reserve Wild Child ...  Much like the regular bottling from 2012, this...   \n",
       "...                                                                                               ...   \n",
       "Dr. H. Thanisch (Erben Müller-Burggraef) 2013 B...  Notes of honeysuckle and cantaloupe sweeten th...   \n",
       "Citation 2004 Pinot Noir (Oregon)                   Citation is given as much as a decade of bottl...   \n",
       "Domaine Gresser 2013 Kritt Gewurztraminer (Alsace)  Well-drained gravel soil gives this wine its c...   \n",
       "Domaine Marcel Deiss 2012 Pinot Gris (Alsace)       A dry style of Pinot Gris, this is crisp with ...   \n",
       "Domaine Schoffit 2012 Lieu-dit Harth Cuvée Caro...  Big, rich and off-dry, this is powered by inte...   \n",
       "\n",
       "                                                                               designation  \\\n",
       "title                                                                                        \n",
       "Nicosia 2013 Vulkà Bianco  (Etna)                                             Vulkà Bianco   \n",
       "Quinta dos Avidagos 2011 Avidagos Red (Douro)                                     Avidagos   \n",
       "Rainstorm 2013 Pinot Gris (Willamette Valley)                                          NaN   \n",
       "St. Julian 2013 Reserve Late Harvest Riesling (...                    Reserve Late Harvest   \n",
       "Sweet Cheeks 2012 Vintner's Reserve Wild Child ...      Vintner's Reserve Wild Child Block   \n",
       "...                                                                                    ...   \n",
       "Dr. H. Thanisch (Erben Müller-Burggraef) 2013 B...  Brauneberger Juffer-Sonnenuhr Spätlese   \n",
       "Citation 2004 Pinot Noir (Oregon)                                                      NaN   \n",
       "Domaine Gresser 2013 Kritt Gewurztraminer (Alsace)                                   Kritt   \n",
       "Domaine Marcel Deiss 2012 Pinot Gris (Alsace)                                          NaN   \n",
       "Domaine Schoffit 2012 Lieu-dit Harth Cuvée Caro...           Lieu-dit Harth Cuvée Caroline   \n",
       "\n",
       "                                                    points  price  \\\n",
       "title                                                               \n",
       "Nicosia 2013 Vulkà Bianco  (Etna)                       87    NaN   \n",
       "Quinta dos Avidagos 2011 Avidagos Red (Douro)           87   15.0   \n",
       "Rainstorm 2013 Pinot Gris (Willamette Valley)           87   14.0   \n",
       "St. Julian 2013 Reserve Late Harvest Riesling (...      87   13.0   \n",
       "Sweet Cheeks 2012 Vintner's Reserve Wild Child ...      87   65.0   \n",
       "...                                                    ...    ...   \n",
       "Dr. H. Thanisch (Erben Müller-Burggraef) 2013 B...      90   28.0   \n",
       "Citation 2004 Pinot Noir (Oregon)                       90   75.0   \n",
       "Domaine Gresser 2013 Kritt Gewurztraminer (Alsace)      90   30.0   \n",
       "Domaine Marcel Deiss 2012 Pinot Gris (Alsace)           90   32.0   \n",
       "Domaine Schoffit 2012 Lieu-dit Harth Cuvée Caro...      90   21.0   \n",
       "\n",
       "                                                             province  \\\n",
       "title                                                                   \n",
       "Nicosia 2013 Vulkà Bianco  (Etna)                   Sicily & Sardinia   \n",
       "Quinta dos Avidagos 2011 Avidagos Red (Douro)                   Douro   \n",
       "Rainstorm 2013 Pinot Gris (Willamette Valley)                  Oregon   \n",
       "St. Julian 2013 Reserve Late Harvest Riesling (...           Michigan   \n",
       "Sweet Cheeks 2012 Vintner's Reserve Wild Child ...             Oregon   \n",
       "...                                                               ...   \n",
       "Dr. H. Thanisch (Erben Müller-Burggraef) 2013 B...              Mosel   \n",
       "Citation 2004 Pinot Noir (Oregon)                              Oregon   \n",
       "Domaine Gresser 2013 Kritt Gewurztraminer (Alsace)             Alsace   \n",
       "Domaine Marcel Deiss 2012 Pinot Gris (Alsace)                  Alsace   \n",
       "Domaine Schoffit 2012 Lieu-dit Harth Cuvée Caro...             Alsace   \n",
       "\n",
       "                                                               region_1  \\\n",
       "title                                                                     \n",
       "Nicosia 2013 Vulkà Bianco  (Etna)                                  Etna   \n",
       "Quinta dos Avidagos 2011 Avidagos Red (Douro)                       NaN   \n",
       "Rainstorm 2013 Pinot Gris (Willamette Valley)         Willamette Valley   \n",
       "St. Julian 2013 Reserve Late Harvest Riesling (...  Lake Michigan Shore   \n",
       "Sweet Cheeks 2012 Vintner's Reserve Wild Child ...    Willamette Valley   \n",
       "...                                                                 ...   \n",
       "Dr. H. Thanisch (Erben Müller-Burggraef) 2013 B...                  NaN   \n",
       "Citation 2004 Pinot Noir (Oregon)                                Oregon   \n",
       "Domaine Gresser 2013 Kritt Gewurztraminer (Alsace)               Alsace   \n",
       "Domaine Marcel Deiss 2012 Pinot Gris (Alsace)                    Alsace   \n",
       "Domaine Schoffit 2012 Lieu-dit Harth Cuvée Caro...               Alsace   \n",
       "\n",
       "                                                             region_2  \\\n",
       "title                                                                   \n",
       "Nicosia 2013 Vulkà Bianco  (Etna)                                 NaN   \n",
       "Quinta dos Avidagos 2011 Avidagos Red (Douro)                     NaN   \n",
       "Rainstorm 2013 Pinot Gris (Willamette Valley)       Willamette Valley   \n",
       "St. Julian 2013 Reserve Late Harvest Riesling (...                NaN   \n",
       "Sweet Cheeks 2012 Vintner's Reserve Wild Child ...  Willamette Valley   \n",
       "...                                                               ...   \n",
       "Dr. H. Thanisch (Erben Müller-Burggraef) 2013 B...                NaN   \n",
       "Citation 2004 Pinot Noir (Oregon)                        Oregon Other   \n",
       "Domaine Gresser 2013 Kritt Gewurztraminer (Alsace)                NaN   \n",
       "Domaine Marcel Deiss 2012 Pinot Gris (Alsace)                     NaN   \n",
       "Domaine Schoffit 2012 Lieu-dit Harth Cuvée Caro...                NaN   \n",
       "\n",
       "                                                           taster_name  \\\n",
       "title                                                                    \n",
       "Nicosia 2013 Vulkà Bianco  (Etna)                        Kerin O’Keefe   \n",
       "Quinta dos Avidagos 2011 Avidagos Red (Douro)               Roger Voss   \n",
       "Rainstorm 2013 Pinot Gris (Willamette Valley)             Paul Gregutt   \n",
       "St. Julian 2013 Reserve Late Harvest Riesling (...  Alexander Peartree   \n",
       "Sweet Cheeks 2012 Vintner's Reserve Wild Child ...        Paul Gregutt   \n",
       "...                                                                ...   \n",
       "Dr. H. Thanisch (Erben Müller-Burggraef) 2013 B...  Anna Lee C. Iijima   \n",
       "Citation 2004 Pinot Noir (Oregon)                         Paul Gregutt   \n",
       "Domaine Gresser 2013 Kritt Gewurztraminer (Alsace)          Roger Voss   \n",
       "Domaine Marcel Deiss 2012 Pinot Gris (Alsace)               Roger Voss   \n",
       "Domaine Schoffit 2012 Lieu-dit Harth Cuvée Caro...          Roger Voss   \n",
       "\n",
       "                                                   taster_twitter_handle  \\\n",
       "title                                                                      \n",
       "Nicosia 2013 Vulkà Bianco  (Etna)                           @kerinokeefe   \n",
       "Quinta dos Avidagos 2011 Avidagos Red (Douro)                 @vossroger   \n",
       "Rainstorm 2013 Pinot Gris (Willamette Valley)                @paulgwine    \n",
       "St. Julian 2013 Reserve Late Harvest Riesling (...                   NaN   \n",
       "Sweet Cheeks 2012 Vintner's Reserve Wild Child ...           @paulgwine    \n",
       "...                                                                  ...   \n",
       "Dr. H. Thanisch (Erben Müller-Burggraef) 2013 B...                   NaN   \n",
       "Citation 2004 Pinot Noir (Oregon)                            @paulgwine    \n",
       "Domaine Gresser 2013 Kritt Gewurztraminer (Alsace)            @vossroger   \n",
       "Domaine Marcel Deiss 2012 Pinot Gris (Alsace)                 @vossroger   \n",
       "Domaine Schoffit 2012 Lieu-dit Harth Cuvée Caro...            @vossroger   \n",
       "\n",
       "                                                           variety  \\\n",
       "title                                                                \n",
       "Nicosia 2013 Vulkà Bianco  (Etna)                      White Blend   \n",
       "Quinta dos Avidagos 2011 Avidagos Red (Douro)       Portuguese Red   \n",
       "Rainstorm 2013 Pinot Gris (Willamette Valley)           Pinot Gris   \n",
       "St. Julian 2013 Reserve Late Harvest Riesling (...        Riesling   \n",
       "Sweet Cheeks 2012 Vintner's Reserve Wild Child ...      Pinot Noir   \n",
       "...                                                            ...   \n",
       "Dr. H. Thanisch (Erben Müller-Burggraef) 2013 B...        Riesling   \n",
       "Citation 2004 Pinot Noir (Oregon)                       Pinot Noir   \n",
       "Domaine Gresser 2013 Kritt Gewurztraminer (Alsace)  Gewürztraminer   \n",
       "Domaine Marcel Deiss 2012 Pinot Gris (Alsace)           Pinot Gris   \n",
       "Domaine Schoffit 2012 Lieu-dit Harth Cuvée Caro...  Gewürztraminer   \n",
       "\n",
       "                                                                                      winery  \n",
       "title                                                                                         \n",
       "Nicosia 2013 Vulkà Bianco  (Etna)                                                    Nicosia  \n",
       "Quinta dos Avidagos 2011 Avidagos Red (Douro)                            Quinta dos Avidagos  \n",
       "Rainstorm 2013 Pinot Gris (Willamette Valley)                                      Rainstorm  \n",
       "St. Julian 2013 Reserve Late Harvest Riesling (...                                St. Julian  \n",
       "Sweet Cheeks 2012 Vintner's Reserve Wild Child ...                              Sweet Cheeks  \n",
       "...                                                                                      ...  \n",
       "Dr. H. Thanisch (Erben Müller-Burggraef) 2013 B...  Dr. H. Thanisch (Erben Müller-Burggraef)  \n",
       "Citation 2004 Pinot Noir (Oregon)                                                   Citation  \n",
       "Domaine Gresser 2013 Kritt Gewurztraminer (Alsace)                           Domaine Gresser  \n",
       "Domaine Marcel Deiss 2012 Pinot Gris (Alsace)                           Domaine Marcel Deiss  \n",
       "Domaine Schoffit 2012 Lieu-dit Harth Cuvée Caro...                          Domaine Schoffit  \n",
       "\n",
       "[129971 rows x 12 columns]"
      ]
     },
     "execution_count": 27,
     "metadata": {},
     "output_type": "execute_result"
    }
   ],
   "source": [
    "print('''\n",
    "\n",
    "Choosing between loc and iloc\n",
    "-------------------------------\n",
    "When choosing or transitioning between loc and iloc, \n",
    "there is one \"gotcha\" worth keeping in mind,\n",
    "which is that the two methods use slightly different indexing schemes.\n",
    "\n",
    "iloc uses the Python stdlib indexing scheme, \n",
    "where the first element of the range is included and the last one excluded. \n",
    "So 0:10 will select entries 0,...,9. loc, meanwhile, indexes inclusively. So 0:10 will select entries 0,...,10.\n",
    "\n",
    "Why the change? Remember that loc can index any stdlib type: strings, for example. \n",
    "If we have a DataFrame with index values Apples, ..., Potatoes, ..., and \n",
    "we want to select \"all the alphabetical fruit choices between Apples and Potatoes\", \n",
    "then it's a lot more convenient to index df.loc['Apples':'Potatoes'] \n",
    "than it is to index something like df.loc['Apples', 'Potatoet'] (t coming after s in the alphabet).\n",
    "\n",
    "This is particularly confusing when the DataFrame index is a simple numerical list, e.g. 0,...,1000. \n",
    "In this case df.iloc[0:1000] will return 1000 entries, while df.loc[0:1000] return 1001 of them! \n",
    "To get 1000 elements using loc, you will need to go one lower and ask for df.loc[0:999].\n",
    "\n",
    "Otherwise, the semantics of using loc are the same as those for iloc.\n",
    "Manipulating the index\n",
    "\n",
    "Label-based selection derives its power from the labels in the index. Critically, the index we use is not immutable. We can manipulate the index in any way we see fit.\n",
    "\n",
    "The set_index() method can be used to do the job. Here is what happens when we set_index to the title field:\n",
    "*******************************\n",
    "wine_reviews.set_index(\"title\")\n",
    "*******************************\n",
    "\n",
    "''')\n",
    "wine_reviews.set_index(\"title\")"
   ]
  },
  {
   "cell_type": "code",
   "execution_count": 28,
   "id": "95c4bd75",
   "metadata": {
    "execution": {
     "iopub.execute_input": "2022-05-20T13:59:11.908905Z",
     "iopub.status.busy": "2022-05-20T13:59:11.908389Z",
     "iopub.status.idle": "2022-05-20T13:59:11.913517Z",
     "shell.execute_reply": "2022-05-20T13:59:11.912950Z"
    },
    "papermill": {
     "duration": 0.057976,
     "end_time": "2022-05-20T13:59:11.915187",
     "exception": false,
     "start_time": "2022-05-20T13:59:11.857211",
     "status": "completed"
    },
    "tags": []
   },
   "outputs": [
    {
     "data": {
      "text/plain": [
       "'Conditional selection'"
      ]
     },
     "execution_count": 28,
     "metadata": {},
     "output_type": "execute_result"
    }
   ],
   "source": [
    "'''Conditional selection'''"
   ]
  },
  {
   "cell_type": "code",
   "execution_count": null,
   "id": "b93c6a51",
   "metadata": {
    "papermill": {
     "duration": 0.050791,
     "end_time": "2022-05-20T13:59:12.017564",
     "exception": false,
     "start_time": "2022-05-20T13:59:11.966773",
     "status": "completed"
    },
    "tags": []
   },
   "outputs": [],
   "source": []
  }
 ],
 "metadata": {
  "kernelspec": {
   "display_name": "Python 3",
   "language": "python",
   "name": "python3"
  },
  "language_info": {
   "codemirror_mode": {
    "name": "ipython",
    "version": 3
   },
   "file_extension": ".py",
   "mimetype": "text/x-python",
   "name": "python",
   "nbconvert_exporter": "python",
   "pygments_lexer": "ipython3",
   "version": "3.7.12"
  },
  "papermill": {
   "default_parameters": {},
   "duration": 16.195502,
   "end_time": "2022-05-20T13:59:12.787625",
   "environment_variables": {},
   "exception": null,
   "input_path": "__notebook__.ipynb",
   "output_path": "__notebook__.ipynb",
   "parameters": {},
   "start_time": "2022-05-20T13:58:56.592123",
   "version": "2.3.4"
  }
 },
 "nbformat": 4,
 "nbformat_minor": 5
}
