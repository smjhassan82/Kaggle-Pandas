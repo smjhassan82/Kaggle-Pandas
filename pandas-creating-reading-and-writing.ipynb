{
 "cells": [
  {
   "cell_type": "code",
   "execution_count": 1,
   "id": "a6ef6f97",
   "metadata": {
    "_cell_guid": "b1076dfc-b9ad-4769-8c92-a6c4dae69d19",
    "_uuid": "8f2839f25d086af736a60e9eeb907d3b93b6e0e5",
    "execution": {
     "iopub.execute_input": "2022-05-19T05:53:42.302365Z",
     "iopub.status.busy": "2022-05-19T05:53:42.301572Z",
     "iopub.status.idle": "2022-05-19T05:53:42.314090Z",
     "shell.execute_reply": "2022-05-19T05:53:42.313361Z"
    },
    "papermill": {
     "duration": 0.024995,
     "end_time": "2022-05-19T05:53:42.316606",
     "exception": false,
     "start_time": "2022-05-19T05:53:42.291611",
     "status": "completed"
    },
    "tags": []
   },
   "outputs": [],
   "source": [
    "# This Python 3 environment comes with many helpful analytics libraries installed\n",
    "# It is defined by the kaggle/python Docker image: https://github.com/kaggle/docker-python\n",
    "# For example, here's several helpful packages to load\n",
    "\n",
    "import numpy as np # linear algebra\n",
    "import pandas as pd # data processing, CSV file I/O (e.g. pd.read_csv)\n",
    "\n",
    "# Input data files are available in the read-only \"../input/\" directory\n",
    "# For example, running this (by clicking run or pressing Shift+Enter) will list all files under the input directory\n",
    "\n",
    "import os\n",
    "for dirname, _, filenames in os.walk('/kaggle/input'):\n",
    "    for filename in filenames:\n",
    "        print(os.path.join(dirname, filename))\n",
    "\n",
    "# You can write up to 20GB to the current directory (/kaggle/working/) that gets preserved as output when you create a version using \"Save & Run All\" \n",
    "# You can also write temporary files to /kaggle/temp/, but they won't be saved outside of the current session"
   ]
  },
  {
   "cell_type": "code",
   "execution_count": 2,
   "id": "fe0dc4a6",
   "metadata": {
    "execution": {
     "iopub.execute_input": "2022-05-19T05:53:42.332785Z",
     "iopub.status.busy": "2022-05-19T05:53:42.332450Z",
     "iopub.status.idle": "2022-05-19T05:53:42.337321Z",
     "shell.execute_reply": "2022-05-19T05:53:42.336703Z"
    },
    "papermill": {
     "duration": 0.017295,
     "end_time": "2022-05-19T05:53:42.341646",
     "exception": false,
     "start_time": "2022-05-19T05:53:42.324351",
     "status": "completed"
    },
    "tags": []
   },
   "outputs": [
    {
     "name": "stdout",
     "output_type": "stream",
     "text": [
      "\n",
      "Creating data\n",
      "-------------\n",
      "\n",
      "There are two core objects in pandas: the DataFrame and the Series.\n",
      "DataFrame\n",
      "\n",
      "A DataFrame is a table\n",
      "----------------------\n",
      "It contains an array of individual entries, each of which has a certain value. \n",
      "Each entry corresponds to a row (or record) and a column.\n",
      "\n",
      "\n"
     ]
    }
   ],
   "source": [
    "print('''\n",
    "Creating data\n",
    "-------------\n",
    "\n",
    "There are two core objects in pandas: the DataFrame and the Series.\n",
    "DataFrame\n",
    "\n",
    "A DataFrame is a table\n",
    "----------------------\n",
    "It contains an array of individual entries, each of which has a certain value. \n",
    "Each entry corresponds to a row (or record) and a column.\n",
    "\n",
    "''')"
   ]
  },
  {
   "cell_type": "code",
   "execution_count": 3,
   "id": "dc9aa55f",
   "metadata": {
    "execution": {
     "iopub.execute_input": "2022-05-19T05:53:42.358333Z",
     "iopub.status.busy": "2022-05-19T05:53:42.357912Z",
     "iopub.status.idle": "2022-05-19T05:53:42.367225Z",
     "shell.execute_reply": "2022-05-19T05:53:42.366188Z"
    },
    "papermill": {
     "duration": 0.020641,
     "end_time": "2022-05-19T05:53:42.370080",
     "exception": false,
     "start_time": "2022-05-19T05:53:42.349439",
     "status": "completed"
    },
    "tags": []
   },
   "outputs": [
    {
     "name": "stdout",
     "output_type": "stream",
     "text": [
      "\n",
      "In this example, the \"0, No\" entry has the value of 131. \n",
      "The \"0, Yes\" entry has a value of 50, and so on.\n",
      "\n"
     ]
    }
   ],
   "source": [
    "pd.DataFrame({'Yes': [50, 21], 'No': [131, 2]})\n",
    "\n",
    "print('''\n",
    "In this example, the \"0, No\" entry has the value of 131. \n",
    "The \"0, Yes\" entry has a value of 50, and so on.\n",
    "''')\n"
   ]
  },
  {
   "cell_type": "code",
   "execution_count": 4,
   "id": "bd50a10c",
   "metadata": {
    "execution": {
     "iopub.execute_input": "2022-05-19T05:53:42.387005Z",
     "iopub.status.busy": "2022-05-19T05:53:42.386648Z",
     "iopub.status.idle": "2022-05-19T05:53:42.412115Z",
     "shell.execute_reply": "2022-05-19T05:53:42.410034Z"
    },
    "papermill": {
     "duration": 0.038024,
     "end_time": "2022-05-19T05:53:42.415795",
     "exception": false,
     "start_time": "2022-05-19T05:53:42.377771",
     "status": "completed"
    },
    "tags": []
   },
   "outputs": [
    {
     "name": "stdout",
     "output_type": "stream",
     "text": [
      "\n",
      "DataFrame entries are not limited to integers. \n",
      "For instance, here's a DataFrame whose values are strings:\n",
      "\n"
     ]
    },
    {
     "data": {
      "text/html": [
       "<div>\n",
       "<style scoped>\n",
       "    .dataframe tbody tr th:only-of-type {\n",
       "        vertical-align: middle;\n",
       "    }\n",
       "\n",
       "    .dataframe tbody tr th {\n",
       "        vertical-align: top;\n",
       "    }\n",
       "\n",
       "    .dataframe thead th {\n",
       "        text-align: right;\n",
       "    }\n",
       "</style>\n",
       "<table border=\"1\" class=\"dataframe\">\n",
       "  <thead>\n",
       "    <tr style=\"text-align: right;\">\n",
       "      <th></th>\n",
       "      <th>Bob</th>\n",
       "      <th>Sue</th>\n",
       "    </tr>\n",
       "  </thead>\n",
       "  <tbody>\n",
       "    <tr>\n",
       "      <th>0</th>\n",
       "      <td>I liked it.</td>\n",
       "      <td>Pretty good.</td>\n",
       "    </tr>\n",
       "    <tr>\n",
       "      <th>1</th>\n",
       "      <td>It was awful.</td>\n",
       "      <td>Bland.</td>\n",
       "    </tr>\n",
       "  </tbody>\n",
       "</table>\n",
       "</div>"
      ],
      "text/plain": [
       "             Bob           Sue\n",
       "0    I liked it.  Pretty good.\n",
       "1  It was awful.        Bland."
      ]
     },
     "execution_count": 4,
     "metadata": {},
     "output_type": "execute_result"
    }
   ],
   "source": [
    "print('''\n",
    "DataFrame entries are not limited to integers. \n",
    "For instance, here's a DataFrame whose values are strings:\n",
    "''')\n",
    "\n",
    "pd.DataFrame({'Bob': ['I liked it.', 'It was awful.'], 'Sue': ['Pretty good.', 'Bland.']})"
   ]
  },
  {
   "cell_type": "code",
   "execution_count": null,
   "id": "ba4c9ab0",
   "metadata": {
    "papermill": {
     "duration": 0.008233,
     "end_time": "2022-05-19T05:53:42.433258",
     "exception": false,
     "start_time": "2022-05-19T05:53:42.425025",
     "status": "completed"
    },
    "tags": []
   },
   "outputs": [],
   "source": []
  }
 ],
 "metadata": {
  "kernelspec": {
   "display_name": "Python 3",
   "language": "python",
   "name": "python3"
  },
  "language_info": {
   "codemirror_mode": {
    "name": "ipython",
    "version": 3
   },
   "file_extension": ".py",
   "mimetype": "text/x-python",
   "name": "python",
   "nbconvert_exporter": "python",
   "pygments_lexer": "ipython3",
   "version": "3.7.12"
  },
  "papermill": {
   "default_parameters": {},
   "duration": 12.121448,
   "end_time": "2022-05-19T05:53:43.366816",
   "environment_variables": {},
   "exception": null,
   "input_path": "__notebook__.ipynb",
   "output_path": "__notebook__.ipynb",
   "parameters": {},
   "start_time": "2022-05-19T05:53:31.245368",
   "version": "2.3.4"
  }
 },
 "nbformat": 4,
 "nbformat_minor": 5
}
